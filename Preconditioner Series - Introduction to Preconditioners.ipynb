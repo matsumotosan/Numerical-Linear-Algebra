{
 "cells": [
  {
   "cell_type": "markdown",
   "metadata": {},
   "source": [
    "# Preconditioner Series: Introduction to Preconditioners"
   ]
  },
  {
   "cell_type": "markdown",
   "metadata": {},
   "source": [
    "When solving linear systems such as $Ax=b$ iteratively, the condition number, $\\kappa$, of $A$ is indicative of the rate of convergence. Preconditioners ($P$), then, \"massage\" these linear systems to have lower conditioner numbers, and, thus, higher rates of convergence.\n",
    "\n",
    "$$ \\kappa(P^{-1}A)\\ \\text{,}\\  \\kappa(AP^{-1}) << \\kappa(A) $$\n",
    "\n",
    "The linear system can be right or left preconditioned:\n",
    "\n",
    "Right preconditioned system\n",
    "1. Introduce $P^{-1}P=I$\n",
    "$$ AP^{-1}Px=b $$\n",
    "2. Solve for $y$\n",
    "$$ AP^{-1}y=b $$\n",
    "3. Solve for $x$\n",
    "$$ Px=y $$\n",
    "\n",
    "Left preconditioned system\n",
    "1. Multiply both sides by $P^{-1}$\n",
    "$$ P^{-1}Ax=P^{-1}b $$\n",
    "2. Gather terms on left side\n",
    "$$ P^{-1}(Ax-b)=0 $$"
   ]
  },
  {
   "cell_type": "markdown",
   "metadata": {},
   "source": [
    "## Imports"
   ]
  },
  {
   "cell_type": "code",
   "execution_count": 19,
   "metadata": {},
   "outputs": [],
   "source": [
    "import numpy as np\n",
    "import scipy as sp\n",
    "import matplotlib.pyplot as plt"
   ]
  },
  {
   "cell_type": "markdown",
   "metadata": {},
   "source": [
    "Here, I demonstrate the effectiveness of preconditioning by solving a linear system before and after preconditioning. Though a variety of iterative methods exist, I will employ one of the simplest - the Jacobi method.\n",
    "\n",
    "It's so simple, in fact, that a function hardly seems necessary, but I will make one to make it clear what preconditioner is being used when solving linear systems later.\n",
    "\n",
    "The matrix A is decomposed into the diagonal, $D$, and the off-diagonal, $R$.\n",
    "\n",
    "$$ A=D+R $$\n",
    "\n",
    "Then, given $x^{(k)}$, $x^{(k+1)}$ is calculated as:\n",
    "\n",
    "$$ x^{(k+1)}=D^{-1}(b-Rx^{(k)}) $$\n",
    "\n",
    "Typically, calculating the inverse of a matrix is unfavorable; however, because $D$ is a diagonal matrix, its inverse is trivially easy to calculate: it is simply the reciprocal of the diagonal elements."
   ]
  },
  {
   "cell_type": "code",
   "execution_count": 34,
   "metadata": {},
   "outputs": [],
   "source": [
    "def jacobi_method(A, x0, b, rtol=1e-5, atol=1e-8, max_iter=1000):\n",
    "    \n",
    "    # find inverse of diagonal matrix and off-diagonal matrix\n",
    "    D_inv, R = np.diag(np.reciprocal(np.diagonal(A))), A - np.diag(np.diagonal(A))\n",
    "    \n",
    "    i = 0\n",
    "    x = x0\n",
    "    \n",
    "    # loop for max_iter iterations or until converged\n",
    "    while(i < max_iter):\n",
    "        x_new = D_inv @ (b - R @ x)\n",
    "        if (i % 100 == 0):\n",
    "            print('Iteration:' + str(i))\n",
    "        \n",
    "        # test convergence\n",
    "        if (np.allclose(x, x_new, rtol, atol)):\n",
    "            print('Iterations to convergence: ' + str(i))\n",
    "            return x_new\n",
    "        \n",
    "        # prep for next iteration\n",
    "        x = x_new\n",
    "        i += 1\n",
    "        \n",
    "    # solution did not converge\n",
    "    print('Maximum number of iterations reached. Did not converge.')"
   ]
  },
  {
   "cell_type": "markdown",
   "metadata": {},
   "source": [
    "First we create a random matrix $A$."
   ]
  },
  {
   "cell_type": "code",
   "execution_count": 43,
   "metadata": {},
   "outputs": [
    {
     "data": {
      "text/plain": [
       "matrix([[2, 1],\n",
       "        [5, 7]])"
      ]
     },
     "execution_count": 43,
     "metadata": {},
     "output_type": "execute_result"
    }
   ],
   "source": [
    "n = 3\n",
    "# A = np.random.rand(n, n)\n",
    "A = np.matrix([[2, 1], [5, 7]]); A"
   ]
  },
  {
   "cell_type": "markdown",
   "metadata": {},
   "source": [
    "Now, we create a random vector $b$."
   ]
  },
  {
   "cell_type": "code",
   "execution_count": 53,
   "metadata": {},
   "outputs": [
    {
     "data": {
      "text/plain": [
       "array([[11],\n",
       "       [13]])"
      ]
     },
     "execution_count": 53,
     "metadata": {},
     "output_type": "execute_result"
    }
   ],
   "source": [
    "# b = np.random.rand(n,); b\n",
    "b = np.array([[11],[13]]); b"
   ]
  },
  {
   "cell_type": "markdown",
   "metadata": {},
   "source": [
    "Now that we iteratively solve for $x$.\n",
    "\n",
    "The first step is to provide an initial estimate for $x$, which I'll call $x^{(0)}$."
   ]
  },
  {
   "cell_type": "code",
   "execution_count": 51,
   "metadata": {},
   "outputs": [
    {
     "data": {
      "text/plain": [
       "array([[1.],\n",
       "       [1.]])"
      ]
     },
     "execution_count": 51,
     "metadata": {},
     "output_type": "execute_result"
    }
   ],
   "source": [
    "x0 = np.ones((len(b), 1)); x0"
   ]
  },
  {
   "cell_type": "markdown",
   "metadata": {},
   "source": [
    "Now, we can pass $A$, $x^{(0)}$, and $b$ and begin iteratively solving for $x$."
   ]
  },
  {
   "cell_type": "code",
   "execution_count": 55,
   "metadata": {},
   "outputs": [
    {
     "name": "stdout",
     "output_type": "stream",
     "text": [
      "Iteration:0\n",
      "Iterations to convergence: 1\n"
     ]
    },
    {
     "data": {
      "text/plain": [
       "matrix([[0.],\n",
       "        [0.]])"
      ]
     },
     "execution_count": 55,
     "metadata": {},
     "output_type": "execute_result"
    }
   ],
   "source": [
    "x = jacobi_method(A, x0, b, rtol=1e-4, atol=1e-4, max_iter=1000); x"
   ]
  },
  {
   "cell_type": "markdown",
   "metadata": {},
   "source": [
    "## Resources"
   ]
  },
  {
   "cell_type": "markdown",
   "metadata": {},
   "source": [
    "[Iterative Methods for Sparse Linear System](https://www.amazon.com/Iterative-Methods-Sparse-Linear-Systems/dp/0898715342)"
   ]
  },
  {
   "cell_type": "code",
   "execution_count": null,
   "metadata": {},
   "outputs": [],
   "source": []
  }
 ],
 "metadata": {
  "kernelspec": {
   "display_name": "Python [conda env:num-lin-alg]",
   "language": "python",
   "name": "conda-env-num-lin-alg-py"
  },
  "language_info": {
   "codemirror_mode": {
    "name": "ipython",
    "version": 3
   },
   "file_extension": ".py",
   "mimetype": "text/x-python",
   "name": "python",
   "nbconvert_exporter": "python",
   "pygments_lexer": "ipython3",
   "version": "3.5.6"
  },
  "varInspector": {
   "cols": {
    "lenName": 16,
    "lenType": 16,
    "lenVar": 40
   },
   "kernels_config": {
    "python": {
     "delete_cmd_postfix": "",
     "delete_cmd_prefix": "del ",
     "library": "var_list.py",
     "varRefreshCmd": "print(var_dic_list())"
    },
    "r": {
     "delete_cmd_postfix": ") ",
     "delete_cmd_prefix": "rm(",
     "library": "var_list.r",
     "varRefreshCmd": "cat(var_dic_list()) "
    }
   },
   "types_to_exclude": [
    "module",
    "function",
    "builtin_function_or_method",
    "instance",
    "_Feature"
   ],
   "window_display": false
  }
 },
 "nbformat": 4,
 "nbformat_minor": 2
}
