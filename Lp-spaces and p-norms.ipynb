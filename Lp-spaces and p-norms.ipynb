{
 "cells": [
  {
   "cell_type": "markdown",
   "metadata": {},
   "source": [
    "# L<sup>*p* </sup>-spaces and _p_-norms"
   ]
  },
  {
   "cell_type": "markdown",
   "metadata": {},
   "source": [
    "Interactive visualizations of L<sup>*p* </sup>-spaces and p-norms and their use in numerical linear algebra."
   ]
  },
  {
   "cell_type": "markdown",
   "metadata": {},
   "source": [
    "### Imports"
   ]
  },
  {
   "cell_type": "code",
   "execution_count": 1,
   "metadata": {
    "pycharm": {
     "is_executing": false,
     "name": "#%%\n"
    }
   },
   "outputs": [
    {
     "data": {
      "text/html": [
       "        <script type=\"text/javascript\">\n",
       "        window.PlotlyConfig = {MathJaxConfig: 'local'};\n",
       "        if (window.MathJax) {MathJax.Hub.Config({SVG: {font: \"STIX-Web\"}});}\n",
       "        if (typeof require !== 'undefined') {\n",
       "        require.undef(\"plotly\");\n",
       "        requirejs.config({\n",
       "            paths: {\n",
       "                'plotly': ['https://cdn.plot.ly/plotly-latest.min']\n",
       "            }\n",
       "        });\n",
       "        require(['plotly'], function(Plotly) {\n",
       "            window._Plotly = Plotly;\n",
       "        });\n",
       "        }\n",
       "        </script>\n",
       "        "
      ]
     },
     "metadata": {},
     "output_type": "display_data"
    }
   ],
   "source": [
    "import numpy as np\n",
    "import matplotlib.pyplot as plt\n",
    "import bqplot as bq\n",
    "from ipywidgets import interactive\n",
    "from mpl_toolkits.mplot3d import Axes3D\n",
    "import plotly.plotly as py\n",
    "import plotly.graph_objs as go\n",
    "import plotly\n",
    "import torch as tc\n",
    "\n",
    "plotly.offline.init_notebook_mode(True)\n",
    "\n",
    "%matplotlib inline"
   ]
  },
  {
   "cell_type": "markdown",
   "metadata": {},
   "source": [
    "### Helper methods"
   ]
  },
  {
   "cell_type": "code",
   "execution_count": null,
   "metadata": {
    "pycharm": {
     "name": "#%%\n"
    }
   },
   "outputs": [],
   "source": [
    "def update_lines(change=None):\n",
    "    with diag.hold_sync():\n",
    "        diag.x = [np.min(scat.x), np.max(scat.x)]\n",
    "        diag.y = [np.min(scat.y), np.max(scat.y)]\n",
    "    with xlin.hold_sync():\n",
    "        xlin.x = [np.min(scat.x), np.max(scat.x)]\n",
    "        xlin.y = [np.min(scat.y), np.min(scat.y)]\n",
    "    with ylin.hold_sync():\n",
    "        ylin.x = [np.max(scat.x), np.max(scat.x)]\n",
    "        ylin.y = [np.min(scat.y), np.max(scat.y)]\n",
    "    with xlin_1.hold_sync():\n",
    "        xlin_1.x = [np.min(scat.x), np.max(scat.x) / 2]\n",
    "        xlin_1.y = [np.max(scat.y) / 2, np.max(scat.y) / 2]\n",
    "    with ylin_1.hold_sync():\n",
    "        ylin_1.x = [np.min(scat.x), np.min(scat.x)]\n",
    "        ylin_1.y = [np.min(scat.y), np.max(scat.y) / 2]\n",
    "    with xlin_2.hold_sync():\n",
    "        xlin_2.x = [np.max(scat.x) / 2, np.max(scat.x)]\n",
    "        xlin_2.y = [np.max(scat.y), np.max(scat.y)]\n",
    "    with ylin_2.hold_sync():\n",
    "        ylin_2.x = [np.max(scat.x) / 2, np.max(scat.x) / 2]\n",
    "        ylin_2.y = [np.max(scat.y) / 2, np.max(scat.y)]"
   ]
  },
  {
   "cell_type": "code",
   "execution_count": null,
   "metadata": {
    "pycharm": {
     "name": "#%%\n"
    }
   },
   "outputs": [],
   "source": [
    "def plot_pnorm2d(p, r):\n",
    "    pts = 2 * r * np.random.ranf((3000, 2)) - r\n",
    "    idx = np.linalg.norm(pts, p, axis=1) < r\n",
    "    plt.scatter(pts[idx,0], pts[idx,1])\n",
    "    plt.axis('equal')"
   ]
  },
  {
   "cell_type": "markdown",
   "metadata": {},
   "source": [
    "## *p*-norms"
   ]
  },
  {
   "cell_type": "markdown",
   "metadata": {},
   "source": [
    "**Definition**\n",
    "\n",
    "For a vector $x=(x_1, x_2,\\ldots, x_n)$ in $\\Bbb R^n$ we can calculate its length as $\\sqrt{x_1^2+x_2^2+\\ldots +x_n^2}$. This formula, expressed as $\\lVert x \\rVert_2$, is commonly referred to as the Euclidean norm; however, it is also referred to as the 2-norm in the more general class of *p*-norms. A _p_-norm for a vector *x* in ${\\Bbb R}^n$is defined as the following:\n",
    "\n",
    "$$ \\lVert x\\rVert_p=(|x_1|^p+|x_2|^p+\\ldots +|x_n|^p)^{\\frac{1}{p}} $$"
   ]
  },
  {
   "cell_type": "markdown",
   "metadata": {},
   "source": [
    "### A Little Intuition"
   ]
  },
  {
   "cell_type": "markdown",
   "metadata": {},
   "source": [
    "Before delving further into the topic of *p*-norms, here is a little example that helped me get a more visual understanding of it:\n",
    "\n",
    "To begin, let's start in $\\Bbb R^2$. If we have two points, then we can calculate the Euclidean distance between them quite easily.\n",
    "\n",
    "The 1-norm is pretty simple too. It's just the distance you would have to travel along each axis to reach one point from another."
   ]
  },
  {
   "cell_type": "code",
   "execution_count": null,
   "metadata": {
    "pycharm": {
     "name": "#%%\n"
    }
   },
   "outputs": [],
   "source": [
    "sc_x = bq.scales.LinearScale(min=0, max=10)\n",
    "sc_y = bq.scales.LinearScale(min=0, max=10)\n",
    "\n",
    "# initialize scatter and lines\n",
    "scat = bq.marks.Scatter(x=[0, 10], y=[0, 10],colors=['black', 'black'], scales={'x': sc_x, 'y': sc_y},\n",
    "                        enable_move=True)\n",
    "diag = bq.marks.Lines(x=[], y=[], line_style='solid',scales={'x': sc_x, 'y': sc_y}, colors=['orange'])\n",
    "xlin = bq.marks.Lines(x=[], y=[], line_style='solid',scales={'x': sc_x, 'y': sc_y}, colors=['red'])\n",
    "ylin = bq.marks.Lines(x=[], y=[], line_style='solid',scales={'x': sc_x, 'y': sc_y}, colors=['blue'])\n",
    "xlin_1 = bq.marks.Lines(x=[], y=[], line_style='dashed',scales={'x': sc_x, 'y': sc_y}, colors=['red'])\n",
    "xlin_2 = bq.marks.Lines(x=[], y=[], line_style='dashed',scales={'x': sc_x, 'y': sc_y}, colors=['red'])\n",
    "ylin_1 = bq.marks.Lines(x=[], y=[], line_style='dashed',scales={'x': sc_x, 'y': sc_y}, colors=['blue'])\n",
    "ylin_2 = bq.marks.Lines(x=[], y=[], line_style='dashed',scales={'x': sc_x, 'y': sc_y}, colors=['blue'])\n",
    "\n",
    "update_lines()\n",
    "\n",
    "# update line on change of x or y of scatter\n",
    "scat.observe(update_lines, names=['x'])\n",
    "scat.observe(update_lines, names=['y'])\n",
    "scat.update_on_move = True\n",
    "\n",
    "ax_x = bq.axes.Axis(scale=sc_x)\n",
    "ax_y = bq.axes.Axis(scale=sc_y, orientation='vertical')\n",
    "\n",
    "fig = bq.figure.Figure(marks=[scat, diag, xlin, ylin, xlin_1, ylin_1, xlin_2, ylin_2],\n",
    "                       axes=[ax_x, ax_y])\n",
    "fig"
   ]
  },
  {
   "cell_type": "markdown",
   "metadata": {},
   "source": [
    "Here we see that the 2-norm is just the length of the direct path from one point to another. On the other hand, the 1-norm is the sum of the components in the horizontal and vertical directions. The 1-norm is aptly named the Manhattan distance as it represents the distance a cab would have to travel from point A to B in the Manhattan grid.\n",
    "\n",
    "Now that we have visualized the 1- and 2-norms in $\\Bbb R^2$, let's try to visualize them in $\\Bbb R^3$. If we extend the taxicab metaphor, we can imagine that the grid not only spans a horizontal plane but also allow for travel in the vertical direction (and we have taxicabs that can drive on them as well). In this case, the formula for 1- and 2-norms simply have to include the $x_3$ term as well."
   ]
  },
  {
   "cell_type": "markdown",
   "metadata": {},
   "source": [
    "### Unit \"Circle\""
   ]
  },
  {
   "cell_type": "markdown",
   "metadata": {},
   "source": [
    "When thinking about unit circles in different *p*-norms, it helped (for me) to not rely on any visuals, but instead focus on the math. Traditionally, a circle is, well, a circle; but if we focus on its definition, the concept of a unit circle for different norms becomes more natural.\n",
    "\n",
    "*Definition* \n",
    "\n",
    "Circle: a round plane figure whose boundary consists of points equidistant from a fixed point.\n",
    "\n",
    "For me, the key was to stop limiting myself to thinking of equidistant from a Euclidean perspective. Instead, I convinced myself that \"distance\" could be measured differently: 1-norm, 2-norm, 3-norm, etc.\n",
    "\n",
    "If we set the distance equal to 1, then depending on our definition of distance, we get different unit circles.\n",
    "\n",
    "Below is a visual showing \"circles\" of various radii for different p-norms."
   ]
  },
  {
   "cell_type": "code",
   "execution_count": null,
   "metadata": {
    "pycharm": {
     "name": "#%%\n"
    }
   },
   "outputs": [],
   "source": [
    "f = lambda x, p: np.linalg.norm(x, ord=p, axis=2)\n",
    "\n",
    "l = 2\n",
    "dl = 0.1\n",
    "X, Y = np.mgrid[-l:l:dl, -l:l:dl]\n",
    "p_range = np.arange(0.1, 5.01, 0.1)\n",
    "\n",
    "data = [go.Contour(\n",
    "        z=f(np.dstack((X, Y)), p),\n",
    "        x=np.arange(-l,l,dl),\n",
    "        y=np.arange(-l,l,dl),\n",
    "        contours=dict(\n",
    "            coloring=\"lines\",\n",
    "            start=0.5,\n",
    "            end=1.5,\n",
    "            size=0.25\n",
    "            ),\n",
    "        line=dict(\n",
    "            width=3\n",
    "            ),\n",
    "        visible=False) for p in p_range]\n",
    "data[9]['visible'] = True\n",
    "\n",
    "p_steps = []\n",
    "for i in range(len(p_range)):\n",
    "    step = dict(\n",
    "        method='restyle',\n",
    "        label=\"{0:0.1f}\".format(p_range[i]),\n",
    "        args=['visible', [False] * len(p_range)],\n",
    "    )\n",
    "    step['args'][1][i] = True\n",
    "    p_steps.append(step)\n",
    "\n",
    "sliders = [dict(\n",
    "    active = 9,\n",
    "    currentvalue = {\"prefix\": \"p: \"},\n",
    "    pad = {\"t\": 50},\n",
    "    steps = p_steps\n",
    ")]\n",
    "\n",
    "layout = go.Layout(\n",
    "    height=600,\n",
    "    width=600,\n",
    "    sliders=sliders,\n",
    "    yaxis=dict(scaleanchor=\"x\", scaleratio=1)\n",
    ")\n",
    "\n",
    "fig = dict(data=data, layout=layout)\n",
    "py.iplot(fig, filename='pnorm-2d')"
   ]
  },
  {
   "cell_type": "markdown",
   "metadata": {},
   "source": [
    "By adding another dimension, the unit circle can be extended to the unit sphere. \n",
    "Here we have a 3D isosurface plot of the unit sphere for various values of *p* and _r_."
   ]
  },
  {
   "cell_type": "code",
   "execution_count": null,
   "metadata": {
    "pycharm": {
     "name": "#%%\n"
    }
   },
   "outputs": [],
   "source": [
    "f = lambda x, p: np.linalg.norm(x, ord=p, axis=0)\n",
    "\n",
    "l = 1.5\n",
    "X, Y, Z = np.mgrid[-l:l:0.25, -l:l:0.25, -l:l:0.25]\n",
    "p_range = np.arange(0.4, 5.01, 0.1)\n",
    "\n",
    "# Plot isosurface\n",
    "data = [go.Isosurface(\n",
    "            visible=False,\n",
    "            x=X.flatten(),\n",
    "            y=Y.flatten(),\n",
    "            z=Z.flatten(),\n",
    "            value = f(np.vstack((X.flatten(), Y.flatten(), Z.flatten())), p),\n",
    "            isomin=1,\n",
    "            isomax=1,\n",
    "            surface=dict(count=1, fill=1),\n",
    "            showscale=False) for p in p_range]\n",
    "data[6]['visible'] = True\n",
    "\n",
    "# p-slider\n",
    "p_steps = []\n",
    "for i in range(len(p_range)):\n",
    "    step = dict(\n",
    "        method='restyle',\n",
    "        label=\"{0:0.1f}\".format(p_range[i]),\n",
    "        args=['visible', [False] * len(p_range)],\n",
    "    )\n",
    "    step['args'][1][i] = True\n",
    "    p_steps.append(step)\n",
    "\n",
    "sliders = [dict(\n",
    "    active = 6,\n",
    "    currentvalue = {\"prefix\": \"p: \"},\n",
    "    pad = {\"t\": 50},\n",
    "    steps = p_steps\n",
    ")]\n",
    "\n",
    "layout = go.Layout(\n",
    "    height=600,\n",
    "    width=600,\n",
    "    sliders=sliders\n",
    ")\n",
    "\n",
    "fig = dict(data=data, layout=layout)\n",
    "py.iplot(fig, filename='pnorm-3d')"
   ]
  },
  {
   "cell_type": "markdown",
   "metadata": {},
   "source": [
    "### *p*-norm in Infinite Dimensions"
   ]
  },
  {
   "cell_type": "markdown",
   "metadata": {},
   "source": [
    "Take a look back at the p-norm:\n",
    "$$ \\\\\\lVert x\\rVert_p=(|x_1|^p+|x_2|^p+\\ldots +|x_n|^p)^{\\frac{1}{p}} $$\n",
    "\n",
    "If we plugged in $\\infty$ for $p$, we would get:\n",
    "$$ \\\\\\lVert x\\rVert_\\infty=(|x_1|^\\infty +|x_2|^\\infty +\\ldots +|x_n|^\\infty)^{\\frac{1}{\\infty}} = \\max_i |x_i| $$\n",
    "\n",
    "Put simply, the $L^\\infty$-norm is just the absolute value of the component of $x_n$ with the greatest absolute value."
   ]
  },
  {
   "cell_type": "markdown",
   "metadata": {},
   "source": [
    "## L<sup>*p* </sup>-spaces"
   ]
  },
  {
   "cell_type": "code",
   "execution_count": null,
   "metadata": {
    "pycharm": {
     "name": "#%%\n"
    }
   },
   "outputs": [],
   "source": []
  },
  {
   "cell_type": "markdown",
   "metadata": {},
   "source": [
    "## Applications in Numerical Linear Algebra"
   ]
  },
  {
   "cell_type": "markdown",
   "metadata": {},
   "source": [
    "### Simple Example"
   ]
  },
  {
   "cell_type": "markdown",
   "metadata": {},
   "source": [
    "One of the most useful aspects of 1- and 2-norms is their use in minimization problems.\n",
    "\n",
    "Often in linear algebra, we are given a problem $Ax=b$ where $A$ and $b$ are known but an exact solution for $x$ does not exist. If $b$ does not exist in the column space of $A$, we cannot get an exact solution for $x$. In these cases, we resort to finding $\\hat{x}$ that minimizes the error between $b$ and $A\\hat{x}$. How we quantify that error then affects the solution we get for $\\hat{x}$."
   ]
  },
  {
   "cell_type": "markdown",
   "metadata": {},
   "source": [
    "Let's first try this in 2D. We are given a point in $\\Bbb R^2$ and some slope $m$, and we are tasked with finding another point on the line that passes through both points. Here's the catch: the other point has to have the smallest l1-norm of all possible points. \n",
    "\n",
    "The equation of a line that passes through a point $(x,y)$ with slope $m$ is $y=mx+b$. We can rewrite this as $-mx+y=b$. In matrix form, we get:\n",
    "\n",
    "$$\\begin{bmatrix} -m & 1 \\end{bmatrix} \\begin{bmatrix} x \\\\ y \\end{bmatrix}=b $$\n",
    "\n",
    "Our goal is to find the solution vector $\\begin{bmatrix} x \\\\ y \\end{bmatrix}$ for which the L1-norm is minimized. If we forget about linear algebra for a moment and think about what this equation is asking, we can see that any combination of $x$ and $y$ that satisfies the equation is a valid answer. However, our goal is to find the $x$ and $y$ such that $|x|+|y|$ is minimized for the given $m$ and $b$.\n",
    "\n",
    "In this example, we have a point (2,3) with a slope varying from -5 to 5. By playing around with the slope slider, we can visualize how the l1-minimization works for this simple problem."
   ]
  },
  {
   "cell_type": "code",
   "execution_count": null,
   "metadata": {
    "pycharm": {
     "name": "#%%\n"
    }
   },
   "outputs": [],
   "source": [
    "# Calculate x- and y-intercept for point (x,y) and slope m\n",
    "f = lambda point, slope: point[1] - slope * point[0]\n",
    "\n",
    "# Return radius of l1-square\n",
    "g = lambda point, slope: abs(f(point, slope)) if abs(f(point, slope)) <= abs(-f(point, slope) / slope) else abs(-f(point, slope) / slope)\n",
    "\n",
    "# Initial data\n",
    "pt = [2, 3]\n",
    "m_range = np.arange(-5, 5.01, 0.25)\n",
    "x_range = np.array([-15, 15])\n",
    "\n",
    "# Plot line\n",
    "lines = [go.Scatter(\n",
    "            x=x_range,\n",
    "            y=m * x_range + f(pt, m),\n",
    "            visible=False) for m in m_range]\n",
    "lines[10]['visible'] = True\n",
    "\n",
    "# Plot square\n",
    "sq = [go.Scatter(\n",
    "            x=[g(pt, m), 0, -g(pt, m), 0, g(pt, m)],\n",
    "            y=[0, g(pt, m), 0, -g(pt, m), 0],\n",
    "            visible=False) for m in m_range]\n",
    "sq[10]['visible'] = True\n",
    "\n",
    "# Define steps for slope slider\n",
    "m_steps = []\n",
    "for i in range(len(m_range)):\n",
    "    step = dict(\n",
    "        method='restyle',\n",
    "        label=\"{0:0.1f}\".format(m_range[i]),\n",
    "        args=['visible', [False] * len(m_range)],\n",
    "    )\n",
    "    step['args'][1][i] = True\n",
    "    m_steps.append(step)\n",
    "\n",
    "# Create sliders\n",
    "sliders = [dict(\n",
    "    active = 10,\n",
    "    currentvalue = {\"prefix\": \"m (slope): \"},\n",
    "    pad = {\"t\": 50},\n",
    "    steps = m_steps\n",
    ")]\n",
    "\n",
    "layout = go.Layout(\n",
    "    height=600,\n",
    "    width=600,\n",
    "    sliders=sliders,\n",
    "    xaxis=dict(\n",
    "        range=[-15, 15]\n",
    "    ),\n",
    "    yaxis=dict(\n",
    "        range=[-15, 15]\n",
    "    ),\n",
    "    showlegend=False\n",
    ")\n",
    "\n",
    "fig = dict(data=lines + sq, layout=layout)\n",
    "py.iplot(fig, filename='l1opt_2d')"
   ]
  },
  {
   "cell_type": "markdown",
   "metadata": {},
   "source": [
    "Though the plot does not present it well, it should be noted that when the slope of the line \n",
    "matches that of one of the sides of the square, there are an infinite number of solutions (all \n",
    "$(x,y)$ that lie on the side of the square). If we were using an L2-norm, we would simple replace the square with a circle.\n",
    "\n",
    "This example can be extended to three dimensions to visualize how l1 minimization \n",
    "can be used in higher dimensions. In three dimensions, however, we can have the blue line in two dimensions\n",
    "be a line in three dimensions or be a plane in three dimensions.\n",
    "\n"
   ]
  },
  {
   "cell_type": "markdown",
   "metadata": {},
   "source": [
    "### Regularization"
   ]
  },
  {
   "cell_type": "markdown",
   "metadata": {},
   "source": [
    "Another popular use of L1 and L2-norms is regularization.\n",
    "\n",
    "$$  $$"
   ]
  },
  {
   "cell_type": "code",
   "execution_count": 28,
   "metadata": {
    "pycharm": {
     "is_executing": true,
     "name": "#%%\n"
    }
   },
   "outputs": [],
   "source": [
    "def landscape(A, b, x=(-5, 5), y=(-5, 5), step=0.1, p=2):\n",
    "    xx, yy = np.meshgrid(np.arange(x[0], x[1], step), np.arange(y[0], y[1], step))\n",
    "    xy = np.dstack((xx, yy))\n",
    "    \n",
    "    loss = [[np.sqrt(sum(np.square(b - np.dot(A, xy[i, j])))) for j in range(xy.shape[0])] for i in range(xy.shape[1])]\n",
    "\n",
    "    data = [go.Surface(\n",
    "        x = xx,\n",
    "        y = yy,\n",
    "        z = loss,\n",
    "        contours=go.surface.Contours(\n",
    "            z=go.surface.contours.Z(\n",
    "                show=True,\n",
    "                usecolormap=True,\n",
    "                highlightcolor=\"#42f462\",\n",
    "                project=dict(z=True)\n",
    "            )\n",
    "        )\n",
    "    )]\n",
    "    \n",
    "    layout = go.Layout(\n",
    "        title='Solution Landscape',\n",
    "        scene = dict(\n",
    "            zaxis=dict(\n",
    "                title='loss',\n",
    "                autorange=True\n",
    "            )\n",
    "        ),\n",
    "        width=500,\n",
    "        height=500,\n",
    "    )\n",
    "    \n",
    "    fig = go.Figure(data=data, layout=layout)\n",
    "    \n",
    "    return py.iplot(fig, filename='solution-landscape')\n",
    "\n",
    "# A = np.array([[1,1], [1,2], [1,3]])\n",
    "# b = np.array([2, 3, 3])\n",
    "\n",
    "# landscape(A, b, x=(-5, 5), y=(-5, 5), p=2)"
   ]
  },
  {
   "cell_type": "markdown",
   "metadata": {},
   "source": [
    "Here I have plotted the landscape of possible solutions to the problem above:"
   ]
  },
  {
   "cell_type": "code",
   "execution_count": 29,
   "metadata": {
    "pycharm": {
     "name": "#%%\n"
    }
   },
   "outputs": [],
   "source": [
    "# solution space of L1, L2-norm, overlap 3d surf plots. 0.4 -> 3-norm minimization solution"
   ]
  },
  {
   "cell_type": "markdown",
   "metadata": {},
   "source": [
    "Let's create a linear system of equations that doesn't have an exact solution. $b$ is not in the column space (range) of $A$."
   ]
  },
  {
   "cell_type": "code",
   "execution_count": 30,
   "metadata": {
    "pycharm": {
     "name": "#%%\n"
    }
   },
   "outputs": [
    {
     "data": {
      "text/plain": [
       "(array([[1, 1],\n",
       "        [1, 2],\n",
       "        [1, 3]]), array([[2],\n",
       "        [3],\n",
       "        [3]]))"
      ]
     },
     "execution_count": 30,
     "metadata": {},
     "output_type": "execute_result"
    }
   ],
   "source": [
    "A = np.array([[1,1], [1,2], [1,3]])\n",
    "b = np.array([[2], [3], [3]])\n",
    "\n",
    "A, b"
   ]
  },
  {
   "cell_type": "code",
   "execution_count": 31,
   "metadata": {
    "pycharm": {
     "name": "#%%\n"
    }
   },
   "outputs": [
    {
     "data": {
      "text/html": [
       "<iframe id=\"igraph\" scrolling=\"no\" style=\"border:none;\" seamless=\"seamless\" src=\"https://plot.ly/~matsu147/28.embed\" height=\"500px\" width=\"500px\"></iframe>"
      ],
      "text/plain": [
       "<chart_studio.tools.PlotlyDisplay object>"
      ]
     },
     "execution_count": 31,
     "metadata": {},
     "output_type": "execute_result"
    }
   ],
   "source": [
    "landscape(A, b, x=(-5, 5), y=(-5, 5), step=0.5, p=2)"
   ]
  },
  {
   "cell_type": "code",
   "execution_count": 32,
   "metadata": {
    "pycharm": {
     "name": "#%%\n"
    }
   },
   "outputs": [
    {
     "data": {
      "text/html": [
       "<iframe id=\"igraph\" scrolling=\"no\" style=\"border:none;\" seamless=\"seamless\" src=\"https://plot.ly/~matsu147/28.embed\" height=\"500px\" width=\"500px\"></iframe>"
      ],
      "text/plain": [
       "<chart_studio.tools.PlotlyDisplay object>"
      ]
     },
     "execution_count": 32,
     "metadata": {},
     "output_type": "execute_result"
    }
   ],
   "source": [
    "landscape(A, b, x=(-20, 20), y=(-20, 20), step=0.5, p=1)"
   ]
  },
  {
   "cell_type": "markdown",
   "metadata": {},
   "source": [
    "### Clustering Algorithms"
   ]
  },
  {
   "cell_type": "markdown",
   "metadata": {},
   "source": [
    "## Resources"
   ]
  },
  {
   "cell_type": "markdown",
   "metadata": {},
   "source": [
    "\n"
   ]
  }
 ],
 "metadata": {
  "kernelspec": {
   "display_name": "Python [default]",
   "language": "python",
   "name": "python3"
  },
  "language_info": {
   "codemirror_mode": {
    "name": "ipython",
    "version": 3
   },
   "file_extension": ".py",
   "mimetype": "text/x-python",
   "name": "python",
   "nbconvert_exporter": "python",
   "pygments_lexer": "ipython3",
   "version": "3.5.6"
  },
  "pycharm": {
   "stem_cell": {
    "cell_type": "raw",
    "metadata": {
     "collapsed": false
    },
    "source": []
   }
  },
  "varInspector": {
   "cols": {
    "lenName": 16,
    "lenType": 16,
    "lenVar": 40
   },
   "kernels_config": {
    "python": {
     "delete_cmd_postfix": "",
     "delete_cmd_prefix": "del ",
     "library": "var_list.py",
     "varRefreshCmd": "print(var_dic_list())"
    },
    "r": {
     "delete_cmd_postfix": ") ",
     "delete_cmd_prefix": "rm(",
     "library": "var_list.r",
     "varRefreshCmd": "cat(var_dic_list()) "
    }
   },
   "types_to_exclude": [
    "module",
    "function",
    "builtin_function_or_method",
    "instance",
    "_Feature"
   ],
   "window_display": false
  }
 },
 "nbformat": 4,
 "nbformat_minor": 1
}
