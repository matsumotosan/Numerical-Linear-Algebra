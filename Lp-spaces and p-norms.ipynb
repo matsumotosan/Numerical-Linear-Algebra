{
 "cells": [
  {
   "cell_type": "markdown",
   "metadata": {},
   "source": [
    "# L<sup>*p* </sup>-spaces and _p_-norms"
   ]
  },
  {
   "cell_type": "markdown",
   "metadata": {},
   "source": [
    "Interactive visualizations of p-norms and their use in minimization problems. This notebook uses the Plotly graphing library."
   ]
  },
  {
   "cell_type": "markdown",
   "metadata": {},
   "source": [
    "### Imports"
   ]
  },
  {
   "cell_type": "code",
   "execution_count": 1,
   "metadata": {},
   "outputs": [],
   "source": [
    "import numpy as np\n",
    "import matplotlib.pyplot as plt\n",
    "import bqplot as bq\n",
    "from ipywidgets import interactive\n",
    "from mpl_toolkits.mplot3d import Axes3D\n",
    "\n",
    "import plotly.plotly as py\n",
    "import plotly.graph_objs as go\n",
    "\n",
    "%matplotlib inline"
   ]
  },
  {
   "cell_type": "markdown",
   "metadata": {},
   "source": [
    "### Helper methods"
   ]
  },
  {
   "cell_type": "code",
   "execution_count": 2,
   "metadata": {},
   "outputs": [],
   "source": [
    "def update_lines(change=None):\n",
    "    with diag.hold_sync():\n",
    "        diag.x = [np.min(scat.x), np.max(scat.x)]\n",
    "        diag.y = [np.min(scat.y), np.max(scat.y)]\n",
    "    with xlin.hold_sync():\n",
    "        xlin.x = [np.min(scat.x), np.max(scat.x)]\n",
    "        xlin.y = [np.min(scat.y), np.min(scat.y)]\n",
    "    with ylin.hold_sync():\n",
    "        ylin.x = [np.max(scat.x), np.max(scat.x)]\n",
    "        ylin.y = [np.min(scat.y), np.max(scat.y)]\n",
    "    with xlin_1.hold_sync():\n",
    "        xlin_1.x = [np.min(scat.x), np.max(scat.x) / 2]\n",
    "        xlin_1.y = [np.max(scat.y) / 2, np.max(scat.y) / 2]\n",
    "    with ylin_1.hold_sync():\n",
    "        ylin_1.x = [np.min(scat.x), np.min(scat.x)]\n",
    "        ylin_1.y = [np.min(scat.y), np.max(scat.y) / 2]\n",
    "    with xlin_2.hold_sync():\n",
    "        xlin_2.x = [np.max(scat.x) / 2, np.max(scat.x)]\n",
    "        xlin_2.y = [np.max(scat.y), np.max(scat.y)]\n",
    "    with ylin_2.hold_sync():\n",
    "        ylin_2.x = [np.max(scat.x) / 2, np.max(scat.x) / 2]\n",
    "        ylin_2.y = [np.max(scat.y) / 2, np.max(scat.y)]"
   ]
  },
  {
   "cell_type": "code",
   "execution_count": 3,
   "metadata": {},
   "outputs": [],
   "source": [
    "def plot_pnorm2d(p, r):\n",
    "    pts = 2 * r * np.random.ranf((3000, 2)) - r\n",
    "    idx = np.linalg.norm(pts, p, axis=1) < r\n",
    "    plt.scatter(pts[idx,0], pts[idx,1])\n",
    "    plt.axis('equal')"
   ]
  },
  {
   "cell_type": "markdown",
   "metadata": {},
   "source": [
    "## *p*-norm in Finite Dimensions"
   ]
  },
  {
   "cell_type": "markdown",
   "metadata": {},
   "source": [
    "**Definition**\n",
    "\n",
    "For a vector $x=(x_1, x_2,\\ldots, x_n)$ in $\\Bbb R^n$ we can calculate its length as $\\sqrt{x_1^2, x_2^2,\\ldots, x_n^2}$. This formula, expressed as $\\lVert x \\rVert_2$, is commonly referred to as the Euclidean norm; however, it is also referred to as the 2-norm in the more general class of *p*-norms. A _p_-norm for a vector *x* in ${\\Bbb R}^n$is defined as the following:\n",
    "\n",
    "$$ \\lVert x\\rVert_p=(|x_1|^p+|x_2|^p+\\ldots +|x_n|^p)^{\\frac{1}{p}} $$"
   ]
  },
  {
   "cell_type": "markdown",
   "metadata": {},
   "source": [
    "### A Little Intuition"
   ]
  },
  {
   "cell_type": "markdown",
   "metadata": {},
   "source": [
    "Before delving further into the topic of *p*-norms, here is a little example that helped me get a more visual understanding of it:\n",
    "\n",
    "To begin, let's start in $\\Bbb R^2$. If we have two points, then we can calculate the Euclidean distance between them quite easily.\n",
    "\n",
    "The 1-norm is pretty simple too. It's just the distance you would have to travel along each axis to reach one point from another."
   ]
  },
  {
   "cell_type": "code",
   "execution_count": 4,
   "metadata": {
    "scrolled": false
   },
   "outputs": [
    {
     "data": {
      "application/vnd.jupyter.widget-view+json": {
       "model_id": "d6810825b3f5414bbc22e2806cdffa6f",
       "version_major": 2,
       "version_minor": 0
      },
      "text/plain": [
       "Figure(axes=[Axis(scale=LinearScale(max=10.0, min=0.0)), Axis(orientation='vertical', scale=LinearScale(max=10…"
      ]
     },
     "metadata": {},
     "output_type": "display_data"
    }
   ],
   "source": [
    "sc_x = bq.scales.LinearScale(min=0, max=10)\n",
    "sc_y = bq.scales.LinearScale(min=0, max=10)\n",
    "\n",
    "# initialize scatter and lines\n",
    "scat = bq.marks.Scatter(x=[0, 10], y=[0, 10],colors=['black', 'black'], scales={'x': sc_x, 'y': sc_y},\n",
    "                        enable_move=True)\n",
    "diag = bq.marks.Lines(x=[], y=[], line_style='solid',scales={'x': sc_x, 'y': sc_y}, colors=['orange'])\n",
    "xlin = bq.marks.Lines(x=[], y=[], line_style='solid',scales={'x': sc_x, 'y': sc_y}, colors=['red'])\n",
    "ylin = bq.marks.Lines(x=[], y=[], line_style='solid',scales={'x': sc_x, 'y': sc_y}, colors=['blue'])\n",
    "xlin_1 = bq.marks.Lines(x=[], y=[], line_style='dashed',scales={'x': sc_x, 'y': sc_y}, colors=['red'])\n",
    "xlin_2 = bq.marks.Lines(x=[], y=[], line_style='dashed',scales={'x': sc_x, 'y': sc_y}, colors=['red'])\n",
    "ylin_1 = bq.marks.Lines(x=[], y=[], line_style='dashed',scales={'x': sc_x, 'y': sc_y}, colors=['blue'])\n",
    "ylin_2 = bq.marks.Lines(x=[], y=[], line_style='dashed',scales={'x': sc_x, 'y': sc_y}, colors=['blue'])\n",
    "\n",
    "update_lines()\n",
    "\n",
    "# update line on change of x or y of scatter\n",
    "scat.observe(update_lines, names=['x'])\n",
    "scat.observe(update_lines, names=['y'])\n",
    "scat.update_on_move = True\n",
    "\n",
    "ax_x = bq.axes.Axis(scale=sc_x)\n",
    "ax_y = bq.axes.Axis(scale=sc_y, orientation='vertical')\n",
    "\n",
    "fig = bq.figure.Figure(marks=[scat, diag, xlin, ylin, xlin_1, ylin_1, xlin_2, ylin_2],\n",
    "                       axes=[ax_x, ax_y])\n",
    "fig"
   ]
  },
  {
   "cell_type": "markdown",
   "metadata": {},
   "source": [
    "Here we see that the 2-norm is just the length of the direct path from one point to another. On the other hand, the 1-norm is the sum of the components in the horizontal and vertical directions. The 1-norm is aptly named the Manhattan distance as it represents the distance a cab would have to travel from point A to B in the Manhattan grid.\n",
    "\n",
    "Now that we have visualized the 1- and 2-norms in $\\Bbb R^2$, let's try to visualize them in $\\Bbb R^3$. If we extend the taxicab metaphor, we can imagine that the grid not only spans a horizontal plane but also allow for travel in the vertical direction (and we have taxicabs that can drive on them as well). In this case, the formula for 1- and 2-norms simply have to include the $x_3$ term as well."
   ]
  },
  {
   "cell_type": "markdown",
   "metadata": {},
   "source": [
    "### Unit \"Circle\""
   ]
  },
  {
   "cell_type": "markdown",
   "metadata": {},
   "source": [
    "When thinking about unit circles in different *p*-norms, it helped (for me) to not rely on any visuals, but instead focus on the math. Traditionally, a circle is, well, a circle; but if we focus on its definition, the concept of a unit circle becomes more natural.\n",
    "\n",
    "*Definition* \n",
    "\n",
    "Circle: a round plane figure whoe boundary consists of points equidistant from a fixed point.\n",
    "\n",
    "For me, the key was to stop limiting myself to thinking of equidistant from a Euclidean perspective. Instead, I convinced myself that \"distance\" could be measured differently: 1-norm, 2-norm, 3-norm, etc.\n",
    "\n",
    "If we set the distance equal to 1, then depending on our definition of distance, we get different unit circles."
   ]
  },
  {
   "cell_type": "code",
   "execution_count": 39,
   "metadata": {},
   "outputs": [
    {
     "name": "stdout",
     "output_type": "stream",
     "text": [
      "The draw time for this plot will be slow for all clients.\n"
     ]
    },
    {
     "name": "stderr",
     "output_type": "stream",
     "text": [
      "/Users/Shion/anaconda3/envs/num-lin-alg/lib/python3.5/site-packages/chart_studio/api/v1/clientresp.py:44: UserWarning:\n",
      "\n",
      "Estimated Draw Time Too Long\n",
      "\n"
     ]
    },
    {
     "data": {
      "text/html": [
       "<iframe id=\"igraph\" scrolling=\"no\" style=\"border:none;\" seamless=\"seamless\" src=\"https://plot.ly/~matsu147/22.embed\" height=\"600px\" width=\"600px\"></iframe>"
      ],
      "text/plain": [
       "<chart_studio.tools.PlotlyDisplay object>"
      ]
     },
     "execution_count": 39,
     "metadata": {},
     "output_type": "execute_result"
    }
   ],
   "source": [
    "f = lambda x, p: np.linalg.norm(x, ord=p, axis=2)\n",
    "\n",
    "l = 2\n",
    "dl = 0.1\n",
    "X, Y = np.mgrid[-l:l:dl, -l:l:dl]\n",
    "p_range = np.arange(0.1, 5.01, 0.1)\n",
    "\n",
    "data = [go.Contour(\n",
    "        z=f(np.dstack((X, Y)), p),\n",
    "        x=np.arange(-l,l,dl),\n",
    "        y=np.arange(-l,l,dl),\n",
    "        contours=dict(\n",
    "            coloring=\"lines\",\n",
    "            start=0.5,\n",
    "            end=1.5,\n",
    "            size=0.25\n",
    "            ),\n",
    "        line=dict(\n",
    "            width=3\n",
    "            )) for p in p_range]\n",
    "\n",
    "p_steps = []\n",
    "for i in range(len(p_range)):\n",
    "    step = dict(\n",
    "        method='restyle',\n",
    "        label=\"{0:0.1f}\".format(p_range[i]),\n",
    "        args=['visible', [False] * len(p_range)],\n",
    "    )\n",
    "    step['args'][1][i] = True\n",
    "    p_steps.append(step)\n",
    "\n",
    "sliders = []\n",
    "sliders.append(dict(\n",
    "    active = 2,\n",
    "    currentvalue = {\"prefix\": \"p: \"},\n",
    "    pad = {\"t\": 50},\n",
    "    steps = p_steps\n",
    "))\n",
    "\n",
    "layout = go.Layout(\n",
    "    height=600,\n",
    "    width=600,\n",
    "    sliders=sliders\n",
    ")\n",
    "\n",
    "fig = dict(data=data, layout=layout)\n",
    "py.iplot(fig, filename='pnorm-2d')"
   ]
  },
  {
   "cell_type": "markdown",
   "metadata": {},
   "source": [
    "By adding another dimension, the unit circle can be extended to the unit sphere. Here we have a 3D isosurface plot of the unit sphere for various values of *p* and _r_."
   ]
  },
  {
   "cell_type": "code",
   "execution_count": 40,
   "metadata": {},
   "outputs": [
    {
     "data": {
      "text/html": [
       "<iframe id=\"igraph\" scrolling=\"no\" style=\"border:none;\" seamless=\"seamless\" src=\"https://plot.ly/~matsu147/10.embed\" height=\"600px\" width=\"600px\"></iframe>"
      ],
      "text/plain": [
       "<chart_studio.tools.PlotlyDisplay object>"
      ]
     },
     "execution_count": 40,
     "metadata": {},
     "output_type": "execute_result"
    }
   ],
   "source": [
    "f = lambda x, p: np.linalg.norm(x, ord=p, axis=0)\n",
    "\n",
    "l = 1.5\n",
    "X, Y, Z = np.mgrid[-l:l:0.25, -l:l:0.25, -l:l:0.25]\n",
    "p_range = np.arange(0.1, 5.01, 0.1)\n",
    "# r_range = np.arange(0.5, 3, 0.1)\n",
    "\n",
    "# Plot isosurface\n",
    "data = [go.Isosurface(\n",
    "            x=X.flatten(),\n",
    "            y=Y.flatten(),\n",
    "            z=Z.flatten(),\n",
    "            value = f(np.vstack((X.flatten(), Y.flatten(), Z.flatten())), p),\n",
    "            isomin=1,\n",
    "            isomax=1,\n",
    "            surface=dict(count=1, fill=1),\n",
    "            showscale=False) for p in p_range]\n",
    "\n",
    "# p-slider\n",
    "p_steps = []\n",
    "for i in range(len(p_range)):\n",
    "    step = dict(\n",
    "        method='restyle',\n",
    "        label=\"{0:0.1f}\".format(p_range[i]),\n",
    "        args=['visible', [False] * len(p_range)],\n",
    "    )\n",
    "    step['args'][1][i] = True\n",
    "    p_steps.append(step)\n",
    "\n",
    "# r_steps = []\n",
    "# for i in range(len(r_range)):\n",
    "#     step = dict(\n",
    "#         method='restyle',\n",
    "#         label=\"{0:0.1f}\".format(r_range[i]),\n",
    "#         args=['visible', [False] * len(r_range)],\n",
    "#     )\n",
    "#     step['args'][1][i] = True\n",
    "#     r_steps.append(step)\n",
    "\n",
    "sliders = []\n",
    "sliders.append(dict(\n",
    "    active = 10,\n",
    "    currentvalue = {\"prefix\": \"p: \"},\n",
    "    pad = {\"t\": 50},\n",
    "    steps = p_steps\n",
    "))\n",
    "\n",
    "# sliders.append(dict(\n",
    "#     active = 5,\n",
    "#     currentvalue = {\"prefix\": \"r: \"},\n",
    "#     pad = {\"t\": 50},\n",
    "#     steps = r_steps\n",
    "# ))\n",
    "    \n",
    "# r-slider\n",
    "# sliders.append(\n",
    "#     dict(\n",
    "#         active=1,\n",
    "#         currentvalue={\"prefix\": \"r: \"},\n",
    "#         pad={\"t\": 0},\n",
    "#         steps=[{\n",
    "#             'method': 'restyle',\n",
    "#             'label': str(i),\n",
    "#             'args': r_range\n",
    "#         }]\n",
    "#     )\n",
    "# )\n",
    "\n",
    "layout = go.Layout(\n",
    "    height=600,\n",
    "    width=600,\n",
    "    sliders=sliders\n",
    ")\n",
    "\n",
    "fig = dict(data=data, layout=layout)\n",
    "py.iplot(fig, filename='pnorm-3d')"
   ]
  },
  {
   "cell_type": "markdown",
   "metadata": {},
   "source": [
    "## *p*-norm in Infinite Dimensions"
   ]
  },
  {
   "cell_type": "code",
   "execution_count": null,
   "metadata": {},
   "outputs": [],
   "source": []
  },
  {
   "cell_type": "markdown",
   "metadata": {},
   "source": [
    "## L<sup>*p* </sup>-spaces"
   ]
  },
  {
   "cell_type": "code",
   "execution_count": null,
   "metadata": {},
   "outputs": [],
   "source": []
  },
  {
   "cell_type": "markdown",
   "metadata": {},
   "source": [
    "## Applications in Numerical Linear Algebra"
   ]
  },
  {
   "cell_type": "markdown",
   "metadata": {},
   "source": [
    "### $l_1$ and $l_2$ minimization"
   ]
  },
  {
   "cell_type": "markdown",
   "metadata": {},
   "source": [
    "One of the most useful aspects of 1- and 2-norms is their use in minimization problems.\n",
    "\n",
    "Often in linear algebra, we are given a problem $Ax=b$ where $A$ and $b$ are known but an exact solution for $x$ does not exist. If $b$ does not exist in the column space of $A$, we cannot get an exact solution for $x$. In these cases, we resort to finding $\\hat{x}$ that minimizes the error between $b$ and $A\\hat{x}$. How we quantify that error then affects the solution we get for $\\hat{x}$."
   ]
  },
  {
   "cell_type": "markdown",
   "metadata": {},
   "source": []
  }
 ],
 "metadata": {
  "kernelspec": {
   "display_name": "Python 3",
   "language": "python",
   "name": "python3"
  },
  "language_info": {
   "codemirror_mode": {
    "name": "ipython",
    "version": 3
   },
   "file_extension": ".py",
   "mimetype": "text/x-python",
   "name": "python",
   "nbconvert_exporter": "python",
   "pygments_lexer": "ipython3",
   "version": "3.5.6"
  },
  "varInspector": {
   "cols": {
    "lenName": 16,
    "lenType": 16,
    "lenVar": 40
   },
   "kernels_config": {
    "python": {
     "delete_cmd_postfix": "",
     "delete_cmd_prefix": "del ",
     "library": "var_list.py",
     "varRefreshCmd": "print(var_dic_list())"
    },
    "r": {
     "delete_cmd_postfix": ") ",
     "delete_cmd_prefix": "rm(",
     "library": "var_list.r",
     "varRefreshCmd": "cat(var_dic_list()) "
    }
   },
   "types_to_exclude": [
    "module",
    "function",
    "builtin_function_or_method",
    "instance",
    "_Feature"
   ],
   "window_display": false
  }
 },
 "nbformat": 4,
 "nbformat_minor": 2
}
