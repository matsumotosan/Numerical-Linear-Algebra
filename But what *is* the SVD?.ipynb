{
 "cells": [
  {
   "cell_type": "markdown",
   "metadata": {},
   "source": [
    "# But what *is* the SVD?"
   ]
  },
  {
   "cell_type": "markdown",
   "metadata": {},
   "source": [
    "Trefethen and Bau offer an interesting insight into what the SVD of a matrix is geometrically in Lecture 5."
   ]
  },
  {
   "cell_type": "code",
   "execution_count": null,
   "metadata": {},
   "outputs": [],
   "source": [
    "import numpy as np\n",
    "from plotly import __version__\n",
    "from plotly.offline import init_notebook_mode, iplot\n",
    "import plotly.graph_objs as go\n",
    "import plotly.figure_factory as ff\n",
    "import matplotlib.pyplot as plt\n",
    "\n",
    "%load_ext autoreload\n",
    "%autoreload 2\n",
    "init_notebook_mode(connected=True)\n",
    "np.set_printoptions(suppress=True)"
   ]
  },
  {
   "cell_type": "markdown",
   "metadata": {},
   "source": [
    "## Helper functions"
   ]
  },
  {
   "cell_type": "code",
   "execution_count": null,
   "metadata": {},
   "outputs": [],
   "source": [
    "def unit_sphere(n=100, dim=3):\n",
    "    u = np.random.normal(0, 1, (100,3))\n",
    "    d = np.linalg.norm(u, ord=2, axis=1)\n",
    "\n",
    "    return u / d[:,None]\n",
    "\n",
    "def make_hello():\n",
    "    A = np.zeros((15,40))\n",
    "    \n",
    "    # H\n",
    "    A[2:10,2:4] = A[5:7,4:6] = A[2:10,6:8] = 1\n",
    "    \n",
    "    # E\n",
    "    A[3:11,10:16] = 1\n",
    "    A[5,12:16] = A[8,12:16] = 0\n",
    "    \n",
    "    # L(1)\n",
    "    A[4:12,18:24] = 1\n",
    "    A[4:10,20:24] = 0\n",
    "    \n",
    "    # L(2)\n",
    "    A[5:13,26:32] = 1\n",
    "    A[5:11,28:32] = 0\n",
    "    \n",
    "    # O\n",
    "    A[6:14,34:40] = 1\n",
    "    A[8:12,36:38] = 0\n",
    "    \n",
    "    return A"
   ]
  },
  {
   "cell_type": "markdown",
   "metadata": {},
   "source": [
    "## Low-Rank Approximations of *A*"
   ]
  },
  {
   "cell_type": "markdown",
   "metadata": {},
   "source": [
    "Finding the SVD of a matrix at this point is trivial, but taking a closer look at the components of the SVD reveals some interesting properties of the matrix.\n",
    "\n",
    "For now, let's stick to a 3-by-3 matrix."
   ]
  },
  {
   "cell_type": "code",
   "execution_count": null,
   "metadata": {},
   "outputs": [],
   "source": [
    "A = np.array([[3, 4, 0], [-2, 3, 2], [-1, 0, -3]])\n",
    "u, s, vh = np.linalg.svd(A)\n",
    "\n",
    "u, s, vh"
   ]
  },
  {
   "cell_type": "markdown",
   "metadata": {},
   "source": [
    "Just looking at the numbers alone, we don't gain much understanding other than that *u*, *s*, and *vh* contain the eigenvalues and some orthogonal bases for *A*.\n",
    "\n",
    "One way to think of $A$ is as the sum of $r$ rank-one matrices:\n",
    "\n",
    "$$\\begin{equation}\n",
    "A = \\sum_{j=1}^r \\sigma_j u_j v_j^T\n",
    "\\label{rank_one}\n",
    "\\end{equation} $$\n",
    "\n",
    "where, for $v\\leq r$\n",
    "\n",
    "$$\\begin{equation}\n",
    "A_v = \\sum_{j=1}^v \\sigma_j u_j v_j^T\n",
    "\\label{Av}\n",
    "\\end{equation}$$\n",
    "\n",
    "In this definition, the \"$A_v$ is the $v^{th}$ partial sum which captures as much of the energy of A as possible.\" I will revisit this point later.\n",
    "\n",
    "For now, let's take a look at the three rank-one matrices $A_i$ calculated using Equation $\\ref{rank_one}$."
   ]
  },
  {
   "cell_type": "code",
   "execution_count": null,
   "metadata": {},
   "outputs": [],
   "source": [
    "Ai = [s[i] * np.outer(u[:,i], vh[i]) for i in range(3)]\n",
    "Ai = np.stack(Ai, axis=0)\n",
    "\n",
    "Ai"
   ]
  },
  {
   "cell_type": "markdown",
   "metadata": {},
   "source": [
    "By taking the sum of these matrices as in Equation $\\ref{rank_one}$, we get $A$."
   ]
  },
  {
   "cell_type": "code",
   "execution_count": null,
   "metadata": {},
   "outputs": [],
   "source": [
    "np.sum(Ai, axis=0), np.allclose(A, np.sum(Ai, axis=0))"
   ]
  },
  {
   "cell_type": "markdown",
   "metadata": {},
   "source": [
    "The geometric interpretation of this is to approximate a hyperellipsoid $A$ with hyperellipsoids of increasing dimensions $A_v$.\n",
    "\n",
    "To visualize this, we first need to map a unit sphere in $\\mathbb{R}^3$ into a hyperellipsoid described by $A$."
   ]
  },
  {
   "cell_type": "code",
   "execution_count": null,
   "metadata": {},
   "outputs": [],
   "source": [
    "X = unit_sphere(100, 3)\n",
    "Ax = np.dot(X, A.T)\n",
    "\n",
    "fig = go.Figure(data=[go.Scatter3d(x=X[:,0], y=X[:,1], z=X[:,2],\n",
    "                                   mode='markers', name='unit sphere')])\n",
    "fig.add_trace(go.Scatter3d(x=Ax[:,0], y=Ax[:,1], z=Ax[:,2],\n",
    "                           mode='markers', name='hyperellipsoid'))\n",
    "fig.show()"
   ]
  },
  {
   "cell_type": "markdown",
   "metadata": {},
   "source": [
    "If you've learned about the SVD, it's likely that you've seen this image before. Now, let's try looking at the low-rank approximations of this hyperellipsoid. Here, $A_i x$ denotes the $i^{th}$ rank-one matrix $A_i$ multiplied by $x$."
   ]
  },
  {
   "cell_type": "code",
   "execution_count": null,
   "metadata": {},
   "outputs": [],
   "source": [
    "Aix = np.tensordot(X, Ai, axes=((1), (2)))\n",
    "\n",
    "fig = go.Figure(data=[go.Scatter3d(x=X[:,0], y=X[:,1], z=X[:,2],\n",
    "                                   mode='markers', name='unit sphere')])\n",
    "fig.add_trace(go.Scatter3d(x=Ax[:,0], y=Ax[:,1], z=Ax[:,2],\n",
    "                           mode='markers', name='hyperellipsoid'))\n",
    "\n",
    "for i in range(3):\n",
    "    fig.add_trace(go.Scatter3d(x=Aix[:,i,0], y=Aix[:,i,1], z=Aix[:,i,2],\n",
    "                           mode='markers', name='A_'+str(i+1)+'x'))\n",
    "\n",
    "fig.show()"
   ]
  },
  {
   "cell_type": "markdown",
   "metadata": {},
   "source": [
    "We can see that $A_i x$ are merely the axes of the hyperellipsoid where $A_1 x$ is the longest axis.\n",
    "\n",
    "Similarly, we can visualize increasingly better approximations of $A$ using Equation $\\ref{Av}$."
   ]
  },
  {
   "cell_type": "code",
   "execution_count": null,
   "metadata": {},
   "outputs": [],
   "source": [
    "fig = go.Figure(data=[go.Scatter3d(x=X[:,0], y=X[:,1], z=X[:,2],\n",
    "                                   mode='markers', name='unit sphere')])\n",
    "\n",
    "Av = [np.sum(Ai[:i+1,:,:], axis=0) for i in range(3)]\n",
    "\n",
    "for i in range(3):    \n",
    "    Avx = np.tensordot(X, Av, axes=((1), (2)))\n",
    "    \n",
    "    fig.add_trace(go.Scatter3d(x=Avx[:,i,0], y=Avx[:,i,1], z=Avx[:,i,2],\n",
    "                           mode='markers', name='Av_'+str(i+1)+'x'))\n",
    "\n",
    "fig.show()"
   ]
  },
  {
   "cell_type": "markdown",
   "metadata": {},
   "source": [
    "The figure very clearly shows how the approximation of $A$ by $A_v$ changes the corresponding hyperellipsoid.\n",
    "\n",
    "$A_v$ when $v=1$ is simply the major axis of the hyperellipsoid. However, when $v=2$, the line transforms into an ellipse (2D ellipsoid) with the addition of the second-longest axis. And when $v=3$, the addition of the shortest axis transforms the ellipse into an ellipsoid."
   ]
  },
  {
   "cell_type": "markdown",
   "metadata": {},
   "source": [
    "## Image Compression"
   ]
  },
  {
   "cell_type": "markdown",
   "metadata": {},
   "source": [
    "As pointed out by Trefethen and Bau, one application of this idea of low-rank approximations is image compression.\n",
    "\n",
    "For this example, we have a binary image of the word \"HELLO\"."
   ]
  },
  {
   "cell_type": "code",
   "execution_count": null,
   "metadata": {},
   "outputs": [],
   "source": [
    "A = make_hello()\n",
    "\n",
    "plt.spy(A, markersize=4);\n",
    "A.shape"
   ]
  },
  {
   "cell_type": "markdown",
   "metadata": {},
   "source": [
    "By taking the SVD of $A$, the matrix is decomposed into $U$, $\\Sigma$, and $V^T$."
   ]
  },
  {
   "cell_type": "code",
   "execution_count": null,
   "metadata": {},
   "outputs": [],
   "source": [
    "u, s, vh = np.linalg.svd(A)\n",
    "\n",
    "u.shape, s.shape, vh.shape"
   ]
  },
  {
   "cell_type": "markdown",
   "metadata": {},
   "source": [
    "We can reconstruct $A$ as $A=U\\Sigma V^T$."
   ]
  },
  {
   "cell_type": "code",
   "execution_count": null,
   "metadata": {},
   "outputs": [],
   "source": [
    "# k = min(m,n)\n",
    "k = min(u.shape + vh.shape)\n",
    "\n",
    "# Plot original matrix in solid black\n",
    "plt.spy(A);\n",
    "\n",
    "# Plot reconstructed matrix as blue squares\n",
    "plt.spy(np.round(u @ np.diag(s) @ vh[:k,:]), markersize=4);\n",
    "\n",
    "np.allclose(A, u @ np.diag(s) @ vh[:k,:])"
   ]
  },
  {
   "cell_type": "markdown",
   "metadata": {},
   "source": [
    "We can also reconstruct the best rank-*i* approximation of A, which is given was given by Equation $\\ref{Av}$:\n",
    "\n",
    "$$ \\begin{equation*}\n",
    "A_v = \\sum_{j=1}^v \\sigma_j u_j v_j^T\n",
    "\\end{equation*} $$\n",
    "\n",
    "The rank-one approximation of A looks like this:"
   ]
  },
  {
   "cell_type": "code",
   "execution_count": null,
   "metadata": {},
   "outputs": [],
   "source": [
    "A1 = np.round(s[0] * np.outer(u[:,0], vh[0,:]))\n",
    "\n",
    "plt.spy(A1, markersize=4);"
   ]
  },
  {
   "cell_type": "markdown",
   "metadata": {},
   "source": [
    "We can also get any rank-$v$ approximation of $A$ by taking the sum as in the equation above."
   ]
  },
  {
   "cell_type": "code",
   "execution_count": null,
   "metadata": {},
   "outputs": [],
   "source": [
    "# rank-v approximation of A\n",
    "v = 2\n",
    "\n",
    "# summation method\n",
    "Av = np.round(sum([s[i] * np.outer(u[:k,i], vh[i,:]) for i in range(v)]))"
   ]
  },
  {
   "cell_type": "markdown",
   "metadata": {},
   "source": [
    "The summation can also be written as a simple matrix operation and we can check to make sure that the two are equal."
   ]
  },
  {
   "cell_type": "code",
   "execution_count": null,
   "metadata": {},
   "outputs": [],
   "source": [
    "# matrix multiplication method\n",
    "Ai = np.round(u[:,:v] @ np.diag(s[:v]) @ vh[:v,:])\n",
    "\n",
    "np.allclose(Av, Ai)"
   ]
  },
  {
   "cell_type": "code",
   "execution_count": null,
   "metadata": {},
   "outputs": [],
   "source": [
    "plt.spy(Av);\n",
    "plt.spy(Ai, markersize=4);"
   ]
  },
  {
   "cell_type": "markdown",
   "metadata": {},
   "source": [
    "Apart from deconstructing and reconstructing the matrix representing $A$, what can we do with the SVD of $A$? More importantly, what does the SVD of $A$ tell us *about* $A$?\n",
    "\n",
    "First, calculate all possible rank-$r$ approximations of $A$."
   ]
  },
  {
   "cell_type": "code",
   "execution_count": null,
   "metadata": {},
   "outputs": [],
   "source": [
    "# Calculate rank-r approximation of A for r=1,...,15\n",
    "Ar = np.asarray([np.round(u[:,:i+1] @ np.diag(s[:i+1]) @ vh[:i+1,:]) for i in range(k)])\n",
    "\n",
    "Ar.shape"
   ]
  },
  {
   "cell_type": "markdown",
   "metadata": {},
   "source": [
    "Now, visualize these approximations in an interactive plot."
   ]
  },
  {
   "cell_type": "code",
   "execution_count": null,
   "metadata": {},
   "outputs": [],
   "source": [
    "fig = go.Figure()\n",
    "\n",
    "# Add rank-r matrix from 0 to k\n",
    "for r in range(k):\n",
    "    X = np.nonzero(Ar[r])\n",
    "    \n",
    "    fig.add_trace(\n",
    "        go.Scatter(\n",
    "            visible=False,\n",
    "            name=str(r+1),\n",
    "            x=X[1],\n",
    "            y=X[0],\n",
    "            mode='markers',\n",
    "            marker_size=20))\n",
    "    \n",
    "fig.data[0].visible = True\n",
    "\n",
    "# Create and add slider\n",
    "steps = []\n",
    "for i in range(len(fig.data)):\n",
    "    step = dict(\n",
    "        method='restyle',\n",
    "        args=[\"visible\", [False] * len(fig.data)])\n",
    "    step[\"args\"][1][i] = True\n",
    "    step[\"label\"] = str(i+1)\n",
    "    steps.append(step)\n",
    "\n",
    "sliders = [dict(\n",
    "    active=len(fig.data),\n",
    "    currentvalue={\"prefix\": \"rank: \"},\n",
    "    steps=steps)]\n",
    "        \n",
    "fig.update_layout(\n",
    "    sliders=sliders,\n",
    "    xaxis=dict(\n",
    "        range=[0,40]),\n",
    "    yaxis=dict(\n",
    "        range=[15,0],\n",
    "        scaleanchor='x',\n",
    "        scaleratio=1))\n",
    "\n",
    "fig.show()"
   ]
  },
  {
   "cell_type": "markdown",
   "metadata": {},
   "source": [
    "## Resources"
   ]
  },
  {
   "cell_type": "markdown",
   "metadata": {},
   "source": [
    "[Numerical Linear Algebra by Lloyd N. Trefethen and David Bau III](https://www.amazon.com/Numerical-Linear-Algebra-Lloyd-Trefethen/dp/0898713617)"
   ]
  },
  {
   "cell_type": "code",
   "execution_count": null,
   "metadata": {},
   "outputs": [],
   "source": []
  }
 ],
 "metadata": {
  "gist": {
   "data": {
    "description": "But what *is* the SVD?.ipynb",
    "public": false
   },
   "id": ""
  },
  "kernelspec": {
   "display_name": "Python [conda env:linalg] *",
   "language": "python",
   "name": "conda-env-linalg-py"
  },
  "language_info": {
   "codemirror_mode": {
    "name": "ipython",
    "version": 3
   },
   "file_extension": ".py",
   "mimetype": "text/x-python",
   "name": "python",
   "nbconvert_exporter": "python",
   "pygments_lexer": "ipython3",
   "version": "3.7.4"
  },
  "toc": {
   "base_numbering": 1,
   "nav_menu": {},
   "number_sections": true,
   "sideBar": true,
   "skip_h1_title": false,
   "title_cell": "Table of Contents",
   "title_sidebar": "Contents",
   "toc_cell": false,
   "toc_position": {},
   "toc_section_display": true,
   "toc_window_display": false
  },
  "varInspector": {
   "cols": {
    "lenName": 16,
    "lenType": 16,
    "lenVar": 40
   },
   "kernels_config": {
    "python": {
     "delete_cmd_postfix": "",
     "delete_cmd_prefix": "del ",
     "library": "var_list.py",
     "varRefreshCmd": "print(var_dic_list())"
    },
    "r": {
     "delete_cmd_postfix": ") ",
     "delete_cmd_prefix": "rm(",
     "library": "var_list.r",
     "varRefreshCmd": "cat(var_dic_list()) "
    }
   },
   "types_to_exclude": [
    "module",
    "function",
    "builtin_function_or_method",
    "instance",
    "_Feature"
   ],
   "window_display": false
  }
 },
 "nbformat": 4,
 "nbformat_minor": 2
}
