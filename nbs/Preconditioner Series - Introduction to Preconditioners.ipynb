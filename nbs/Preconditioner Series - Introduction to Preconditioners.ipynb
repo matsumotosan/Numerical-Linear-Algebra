{
 "cells": [
  {
   "cell_type": "markdown",
   "metadata": {},
   "source": [
    "# Preconditioner Series: Introduction to Preconditioners"
   ]
  },
  {
   "cell_type": "markdown",
   "metadata": {},
   "source": [
    "When solving linear systems such as $Ax=b$ iteratively, the condition number, $\\kappa$, of $A$ is indicative of the rate of convergence. Preconditioners ($P$), then, \"massage\" these linear systems to have lower conditioner numbers, and, thus, higher rates of convergence.\n",
    "\n",
    "$$ \\kappa(P^{-1}A)\\ \\text{,}\\  \\kappa(AP^{-1}) << \\kappa(A) $$\n",
    "\n",
    "The linear system can be right or left preconditioned:\n",
    "\n",
    "Right preconditioned system\n",
    "1. Introduce $P^{-1}P=I$\n",
    "$$ AP^{-1}Px=b $$\n",
    "2. Solve for $y$\n",
    "$$ AP^{-1}y=b $$\n",
    "3. Solve for $x$\n",
    "$$ Px=y $$\n",
    "\n",
    "Left preconditioned system\n",
    "1. Multiply both sides by $P^{-1}$\n",
    "$$ P^{-1}Ax=P^{-1}b $$\n",
    "2. Gather terms on left side\n",
    "$$ P^{-1}(Ax-b)=0 $$\n",
    "\n",
    "One helpful way of explaining preconditioners in not-so-rigorous terminology was that **$P^{-1}$ \"looks like\" $A^{-1}$**. Of course, if $P^{-1}=A^{-1}$, then the solution to the linear system would be trivially easily to calculate."
   ]
  },
  {
   "cell_type": "markdown",
   "metadata": {},
   "source": [
    "## Imports"
   ]
  },
  {
   "cell_type": "code",
   "execution_count": null,
   "metadata": {
    "pycharm": {
     "is_executing": false
    }
   },
   "outputs": [],
   "source": [
    "import numpy as np\n",
    "import scipy as sp\n",
    "import matplotlib.pyplot as plt"
   ]
  },
  {
   "cell_type": "markdown",
   "metadata": {},
   "source": [
    "Here, I demonstrate the effectiveness of preconditioning by solving a linear system before and after preconditioning. Though a variety of iterative methods exist, I will employ one of the simplest - the Jacobi method."
   ]
  },
  {
   "cell_type": "markdown",
   "metadata": {},
   "source": [
    "## Jacobi preconditioner"
   ]
  },
  {
   "cell_type": "markdown",
   "metadata": {},
   "source": [
    "The Jacobi preconditioner is quite simple:\n",
    "\n",
    "<img src=\"img/jacobi_matrixform.png\" alt=\"term-document matrix\" style=\"width: 100%\"/>\n",
    "\n",
    "The last equation can be expressed to emphasize the iterative nature of this method:\n",
    "\n",
    "$$\\begin{align} x^{(k)} &= D^{-1}(L+U)x^{(k-1)}+D^{-1}b \\\\\n",
    "x^{(k)} &= D^{-1}(b-Rx^{(k-1)})\\end{align}$$\n",
    "\n",
    "Here, $R=-(L+U)$\n",
    "\n",
    "Typically, calculating the inverse of a matrix is unfavorable; however, because $D$ is a diagonal matrix, its inverse is trivially easy to calculate: it is simply the reciprocal of the diagonal elements."
   ]
  },
  {
   "cell_type": "markdown",
   "metadata": {},
   "source": [
    "### Jacobi preconditioner implementation"
   ]
  },
  {
   "cell_type": "code",
   "execution_count": 126,
   "metadata": {},
   "outputs": [],
   "source": [
    "def converged(x, x_new, rtol, atol):\n",
    "    if np.linalg.norm(x - x_new) / np.linalg.norm(x_new) < rtol or np.linalg.norm(x - x_new) < atol:\n",
    "        return True\n",
    "    else: return False"
   ]
  },
  {
   "cell_type": "code",
   "execution_count": 127,
   "metadata": {
    "pycharm": {
     "is_executing": false
    }
   },
   "outputs": [],
   "source": [
    "def jacobi_method(A, x0, b, rtol=1e-5, atol=1e-8, max_iter=10000):\n",
    "    \n",
    "    # find inverse of diagonal matrix and off-diagonal matrix\n",
    "    D_inv, R = np.diag(np.reciprocal(np.diagonal(A).astype(float))), A - np.diag(np.diagonal(A))\n",
    "    \n",
    "    i = 0\n",
    "    x = x0\n",
    "    \n",
    "    # loop for max_iter iterations or until converged\n",
    "    while (i < max_iter):\n",
    "        x_new = D_inv @ (b - R @ x)\n",
    "        \n",
    "        # test convergence\n",
    "#         if (np.allclose(x, x_new, rtol, atol)):\n",
    "        if (converged(x, x_new, rtol, atol)):\n",
    "            return x_new\n",
    "        \n",
    "        # prep for next iteration\n",
    "        x = x_new\n",
    "        i += 1\n",
    "        \n",
    "    # solution did not converge\n",
    "    print('Maximum number of iterations reached. Did not converge.')"
   ]
  },
  {
   "cell_type": "markdown",
   "metadata": {},
   "source": [
    "First we create a matrix $A$."
   ]
  },
  {
   "cell_type": "code",
   "execution_count": 128,
   "metadata": {
    "pycharm": {
     "is_executing": false
    }
   },
   "outputs": [],
   "source": [
    "A = np.array([[10., -1., 2., 0.],\n",
    "              [-1., 11., -1., 3.],\n",
    "              [2., -1., 10., -1.],\n",
    "              [0.0, 3., -1., 8.]])"
   ]
  },
  {
   "cell_type": "markdown",
   "metadata": {},
   "source": [
    "Now, we create a vector $b$."
   ]
  },
  {
   "cell_type": "code",
   "execution_count": 129,
   "metadata": {
    "pycharm": {
     "is_executing": false
    }
   },
   "outputs": [],
   "source": [
    "b = np.array([6., 25., -11., 15.])"
   ]
  },
  {
   "cell_type": "markdown",
   "metadata": {},
   "source": [
    "Now, we iteratively solve for $x$.\n",
    "\n",
    "The first step is to provide an initial estimate for $x$, which I'll call $x^{(0)}$."
   ]
  },
  {
   "cell_type": "code",
   "execution_count": 130,
   "metadata": {
    "pycharm": {
     "is_executing": false
    }
   },
   "outputs": [
    {
     "data": {
      "text/plain": [
       "array([0., 0., 0., 0.])"
      ]
     },
     "execution_count": 130,
     "metadata": {},
     "output_type": "execute_result"
    }
   ],
   "source": [
    "x0 = np.zeros_like(b); x0"
   ]
  },
  {
   "cell_type": "markdown",
   "metadata": {},
   "source": [
    "Now, we can pass $A$, $x^{(0)}$, and $b$ and begin iteratively solving for $x$."
   ]
  },
  {
   "cell_type": "code",
   "execution_count": 133,
   "metadata": {
    "pycharm": {
     "is_executing": false
    }
   },
   "outputs": [
    {
     "name": "stdout",
     "output_type": "stream",
     "text": [
      "1000 loops, best of 3: 269 µs per loop\n"
     ]
    }
   ],
   "source": [
    "%timeit x = jacobi_method(A, x0, b, rtol=1e-4, atol=1e-4, max_iter=1000); x"
   ]
  },
  {
   "cell_type": "markdown",
   "metadata": {},
   "source": [
    "## Resources"
   ]
  },
  {
   "cell_type": "markdown",
   "metadata": {},
   "source": [
    "[Iterative Methods for Sparse Linear System](https://www.amazon.com/Iterative-Methods-Sparse-Linear-Systems/dp/0898715342)\n",
    "\n",
    "[The Jacobi and Gauss-Seidel Iterative Methods](https://www3.nd.edu/~zxu2/acms40390F12/Lec-7.3.pdf)"
   ]
  }
 ],
 "metadata": {
  "kernelspec": {
   "display_name": "Python [conda env:linalg] *",
   "language": "python",
   "name": "conda-env-linalg-py"
  },
  "language_info": {
   "codemirror_mode": {
    "name": "ipython",
    "version": 3
   },
   "file_extension": ".py",
   "mimetype": "text/x-python",
   "name": "python",
   "nbconvert_exporter": "python",
   "pygments_lexer": "ipython3",
   "version": "3.7.4"
  },
  "pycharm": {
   "stem_cell": {
    "cell_type": "raw",
    "metadata": {
     "collapsed": false
    },
    "source": []
   }
  },
  "toc": {
   "base_numbering": 1,
   "nav_menu": {},
   "number_sections": true,
   "sideBar": true,
   "skip_h1_title": false,
   "title_cell": "Table of Contents",
   "title_sidebar": "Contents",
   "toc_cell": false,
   "toc_position": {},
   "toc_section_display": true,
   "toc_window_display": false
  },
  "varInspector": {
   "cols": {
    "lenName": 16,
    "lenType": 16,
    "lenVar": 40
   },
   "kernels_config": {
    "python": {
     "delete_cmd_postfix": "",
     "delete_cmd_prefix": "del ",
     "library": "var_list.py",
     "varRefreshCmd": "print(var_dic_list())"
    },
    "r": {
     "delete_cmd_postfix": ") ",
     "delete_cmd_prefix": "rm(",
     "library": "var_list.r",
     "varRefreshCmd": "cat(var_dic_list()) "
    }
   },
   "types_to_exclude": [
    "module",
    "function",
    "builtin_function_or_method",
    "instance",
    "_Feature"
   ],
   "window_display": false
  }
 },
 "nbformat": 4,
 "nbformat_minor": 2
}
