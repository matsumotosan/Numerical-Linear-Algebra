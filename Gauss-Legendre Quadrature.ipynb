{
 "cells": [
  {
   "cell_type": "markdown",
   "metadata": {},
   "source": [
    "# Gauss-Legendre Quadrature"
   ]
  },
  {
   "cell_type": "markdown",
   "metadata": {},
   "source": [
    "The first half of this notebook is largely based on the Lectures 8 and 11 in [Numerical Linear Algebra](https://www.amazon.com/Numerical-Linear-Algebra-Lloyd-Trefethen/dp/0898713617) and sets the background for numerical quadrature, in particular, Gauss-Legendre quadrature."
   ]
  },
  {
   "cell_type": "markdown",
   "metadata": {},
   "source": [
    "## Imports"
   ]
  },
  {
   "cell_type": "code",
   "execution_count": 34,
   "metadata": {},
   "outputs": [
    {
     "data": {
      "text/html": [
       "        <script type=\"text/javascript\">\n",
       "        window.PlotlyConfig = {MathJaxConfig: 'local'};\n",
       "        if (window.MathJax) {MathJax.Hub.Config({SVG: {font: \"STIX-Web\"}});}\n",
       "        if (typeof require !== 'undefined') {\n",
       "        require.undef(\"plotly\");\n",
       "        requirejs.config({\n",
       "            paths: {\n",
       "                'plotly': ['https://cdn.plot.ly/plotly-latest.min']\n",
       "            }\n",
       "        });\n",
       "        require(['plotly'], function(Plotly) {\n",
       "            window._Plotly = Plotly;\n",
       "        });\n",
       "        }\n",
       "        </script>\n",
       "        "
      ]
     },
     "metadata": {},
     "output_type": "display_data"
    }
   ],
   "source": [
    "import numpy as np\n",
    "from plotly import __version__\n",
    "from plotly.offline import init_notebook_mode, iplot\n",
    "import plotly.graph_objs as go\n",
    "import plotly.figure_factory as ff\n",
    "import matplotlib.pyplot as plt\n",
    "\n",
    "%matplotlib inline\n",
    "%load_ext autoreload\n",
    "%autoreload 2\n",
    "init_notebook_mode(connected=True)\n",
    "np.set_printoptions(suppress=True)"
   ]
  },
  {
   "cell_type": "markdown",
   "metadata": {},
   "source": [
    "## Helper functions"
   ]
  },
  {
   "cell_type": "code",
   "execution_count": null,
   "metadata": {},
   "outputs": [],
   "source": []
  },
  {
   "cell_type": "markdown",
   "metadata": {
    "heading_collapsed": true
   },
   "source": [
    "## Quick primer on Vandermonde matrices"
   ]
  },
  {
   "cell_type": "markdown",
   "metadata": {
    "hidden": true
   },
   "source": []
  },
  {
   "cell_type": "code",
   "execution_count": null,
   "metadata": {
    "hidden": true
   },
   "outputs": [],
   "source": []
  },
  {
   "cell_type": "markdown",
   "metadata": {
    "heading_collapsed": true
   },
   "source": [
    "## Legendre polynomials"
   ]
  },
  {
   "cell_type": "markdown",
   "metadata": {
    "hidden": true
   },
   "source": [
    "Just as orthonormal vectors serve as a basis for some vector subspace, Legendre polynomials span the subspaces of polynomials.\n",
    "\n",
    "\n",
    "\n",
    "<img src=\"img/legendre_polynomials.png\" alt=\"legendre-polynomials\" style=\"width: 75%\"/>"
   ]
  },
  {
   "cell_type": "markdown",
   "metadata": {
    "hidden": true
   },
   "source": [
    "### Discrete Legendre polynomials"
   ]
  },
  {
   "cell_type": "code",
   "execution_count": 35,
   "metadata": {
    "hidden": true
   },
   "outputs": [],
   "source": [
    "import numpy.polynomial.legendre as leg"
   ]
  },
  {
   "cell_type": "markdown",
   "metadata": {
    "hidden": true
   },
   "source": [
    "To use Legendre polynomials for a non-trivial example, we need to create a Vandermonde matrix by discretizing $[-1,1]$ and evaluating each of the monomials at the points."
   ]
  },
  {
   "cell_type": "code",
   "execution_count": 36,
   "metadata": {
    "hidden": true
   },
   "outputs": [
    {
     "data": {
      "text/plain": [
       "(258, 4)"
      ]
     },
     "execution_count": 36,
     "metadata": {},
     "output_type": "execute_result"
    }
   ],
   "source": [
    "x = np.linspace(-1,1,258).T\n",
    "N = 4\n",
    "A = np.vander(x,N,increasing=True)\n",
    " \n",
    "A.shape"
   ]
  },
  {
   "cell_type": "markdown",
   "metadata": {
    "hidden": true
   },
   "source": [
    "Taking a look at the first 10 rows of $A$, we can see that the columns are the monomials $1,x,x^2,x^3$ evaluated for $x\\in[-1,1]$."
   ]
  },
  {
   "cell_type": "code",
   "execution_count": 37,
   "metadata": {
    "hidden": true
   },
   "outputs": [
    {
     "data": {
      "text/plain": [
       "array([[ 1.        , -1.        ,  1.        , -1.        ],\n",
       "       [ 1.        , -0.9922179 ,  0.98449636, -0.97683491],\n",
       "       [ 1.        , -0.9844358 ,  0.96911384, -0.95403036],\n",
       "       [ 1.        , -0.9766537 ,  0.95385244, -0.93158351],\n",
       "       [ 1.        , -0.9688716 ,  0.93871217, -0.90949156],\n",
       "       [ 1.        , -0.96108949,  0.92369302, -0.88775165],\n",
       "       [ 1.        , -0.95330739,  0.90879499, -0.86636098],\n",
       "       [ 1.        , -0.94552529,  0.89401808, -0.8453167 ],\n",
       "       [ 1.        , -0.93774319,  0.87936229, -0.824616  ],\n",
       "       [ 1.        , -0.92996109,  0.86482763, -0.80425604]])"
      ]
     },
     "execution_count": 37,
     "metadata": {},
     "output_type": "execute_result"
    }
   ],
   "source": [
    "A[:10,:]"
   ]
  },
  {
   "cell_type": "markdown",
   "metadata": {
    "hidden": true
   },
   "source": [
    "We can find the QR factorization of the Vandermonde matrix $A$, which gives us an approximation to the first four Legendre polynomials."
   ]
  },
  {
   "cell_type": "code",
   "execution_count": 38,
   "metadata": {
    "hidden": true
   },
   "outputs": [
    {
     "data": {
      "text/plain": [
       "((258, 4), (4, 4))"
      ]
     },
     "execution_count": 38,
     "metadata": {},
     "output_type": "execute_result"
    }
   ],
   "source": [
    "q, r = np.linalg.qr(A,'reduced')\n",
    "\n",
    "q.shape, r.shape"
   ]
  },
  {
   "cell_type": "markdown",
   "metadata": {
    "hidden": true
   },
   "source": [
    "We have to modify the discrete polynomials so that for every Legendre polynomial $P_k(1)=1$.\n",
    "\n",
    "This is simply a problem of rescaling each of the discrete Legendre polynomials by dividing all the values of a given order Legendre polynomial by the current value of $P_k(1)$."
   ]
  },
  {
   "cell_type": "code",
   "execution_count": 39,
   "metadata": {
    "hidden": true
   },
   "outputs": [
    {
     "data": {
      "text/plain": [
       "(258, 4)"
      ]
     },
     "execution_count": 39,
     "metadata": {},
     "output_type": "execute_result"
    }
   ],
   "source": [
    "q = q @ np.diag(1 / q[-1,:])\n",
    "\n",
    "q.shape"
   ]
  },
  {
   "cell_type": "markdown",
   "metadata": {
    "hidden": true
   },
   "source": [
    "By plotting the discrete Legendre polynomials we just obtained with the analytical values for the first four Legendre polynomials, we can see that they are very similar."
   ]
  },
  {
   "cell_type": "code",
   "execution_count": 40,
   "metadata": {
    "hidden": true
   },
   "outputs": [
    {
     "data": {
      "image/png": "[encoded data removed]",
      "text/plain": [
       "<Figure size 864x432 with 2 Axes>"
      ]
     },
     "metadata": {
      "needs_background": "light"
     },
     "output_type": "display_data"
    }
   ],
   "source": [
    "plt.figure(figsize=(12,6));\n",
    "\n",
    "# Plot discrete Legendre polynomial values\n",
    "plt.subplot(1,2,1)\n",
    "[plt.scatter(x,q[:,i]) for i in range(N)];\n",
    "plt.title('Discrete Legendre Polynomials')\n",
    "plt.grid(True)\n",
    "\n",
    "# Plot analytical Legendre polynomial values\n",
    "plt.subplot(1,2,2)\n",
    "c = np.eye(N)\n",
    "[plt.scatter(x,leg.legval(x, c[i])) for i in range(N)];\n",
    "plt.title('Analytical Legendre Polynomials')\n",
    "plt.grid(True)\n",
    "\n",
    "plt.show();"
   ]
  },
  {
   "cell_type": "markdown",
   "metadata": {
    "hidden": true
   },
   "source": []
  },
  {
   "cell_type": "markdown",
   "metadata": {},
   "source": [
    "## Polynomial data-fitting"
   ]
  },
  {
   "cell_type": "markdown",
   "metadata": {},
   "source": [
    "### Polynomial interpolation"
   ]
  },
  {
   "cell_type": "markdown",
   "metadata": {},
   "source": [
    "One of the most obvious applications of Legendre polynomials is to determine the coefficients for some arbitrary polynomial $p(x)$:\n",
    "\n",
    "$$ p(x)=c_0 + c_1x + x_2x^2 + \\dots + c_{m-1}x^{m-1} $$\n",
    "\n",
    "Before going deeper into the math, let's see how closely we can fit a given polynomial:\n",
    "\n",
    "$$ y(x) = 5x^3 + 2x^2 + 4x - 2 $$\n",
    "\n",
    "To do so, we will first sample the polynomial at 3 discrete points $x_i$."
   ]
  },
  {
   "cell_type": "code",
   "execution_count": 41,
   "metadata": {},
   "outputs": [
    {
     "data": {
      "text/plain": [
       "(array([-1.,  0.,  1.]), array([-9., -2.,  9.]))"
      ]
     },
     "execution_count": 41,
     "metadata": {},
     "output_type": "execute_result"
    }
   ],
   "source": [
    "N = 3\n",
    "xi = np.linspace(-1,1,N)\n",
    "yi = 5 * xi ** 3 + 2 * xi ** 2 + 4 * xi - 2\n",
    "\n",
    "xi, yi"
   ]
  },
  {
   "cell_type": "markdown",
   "metadata": {},
   "source": [
    "Now, we can see what the fitting thinks the coefficients of the polynomial $p(x)$ are:"
   ]
  },
  {
   "cell_type": "code",
   "execution_count": 42,
   "metadata": {},
   "outputs": [
    {
     "data": {
      "text/plain": [
       "array([-2.,  9.,  2.])"
      ]
     },
     "execution_count": 42,
     "metadata": {},
     "output_type": "execute_result"
    }
   ],
   "source": [
    "a = np.vander(xi,N,increasing=True)\n",
    "c = np.linalg.solve(a,yi)\n",
    "\n",
    "c"
   ]
  },
  {
   "cell_type": "markdown",
   "metadata": {},
   "source": [
    "Comparing $p(x)$ and $y(x)$, we see that $p(x)$ is a quadratic whereas $y(x)$ is a cubic function."
   ]
  },
  {
   "cell_type": "code",
   "execution_count": 48,
   "metadata": {},
   "outputs": [
    {
     "data": {
      "image/png": "[encoded data removed]",
      "text/plain": [
       "<Figure size 432x288 with 1 Axes>"
      ]
     },
     "metadata": {
      "needs_background": "light"
     },
     "output_type": "display_data"
    }
   ],
   "source": [
    "x = np.linspace(-1,1)\n",
    "p = c[0] + c[1] * x + c[2] * x ** 2\n",
    "y = 5 * x ** 3 + 2 * x ** 2 + 4 * x - 2\n",
    "\n",
    "plt.plot(x,p);\n",
    "plt.plot(x,y);\n",
    "plt.grid(True);\n",
    "plt.legend(('p(x)','y(x)'));"
   ]
  },
  {
   "cell_type": "markdown",
   "metadata": {},
   "source": [
    "We can have $p(x)$ perfectly match $y(x)$ by simply adding one more column to the Vandermonde matrix."
   ]
  },
  {
   "cell_type": "code",
   "execution_count": 57,
   "metadata": {},
   "outputs": [],
   "source": [
    "N = 4\n",
    "xi = np.linspace(-1,1,N)\n",
    "yi = 5 * xi ** 3 + 2 * xi ** 2 + 4 * xi - 2\n",
    "\n",
    "a = np.vander(xi,N,increasing=True)\n",
    "c = np.linalg.solve(a,yi)"
   ]
  },
  {
   "cell_type": "markdown",
   "metadata": {},
   "source": [
    "The plot seems to only show $y(x)$ but that is because the two lines are overlapping."
   ]
  },
  {
   "cell_type": "code",
   "execution_count": 58,
   "metadata": {},
   "outputs": [
    {
     "data": {
      "image/png": "[encoded data removed]",
      "text/plain": [
       "<Figure size 432x288 with 1 Axes>"
      ]
     },
     "metadata": {
      "needs_background": "light"
     },
     "output_type": "display_data"
    }
   ],
   "source": [
    "x = np.linspace(-1,1)\n",
    "p = c[0] + c[1] * x + c[2] * x ** 2 + c[3] * x ** 3\n",
    "y = 5 * x ** 3 + 2 * x ** 2 + 4 * x - 2\n",
    "\n",
    "plt.plot(x,p);\n",
    "plt.plot(x,y);\n",
    "plt.grid(True);\n",
    "plt.legend(('p(x)','y(x)'));"
   ]
  },
  {
   "cell_type": "markdown",
   "metadata": {},
   "source": [
    "In any case, to perfectly calculate the coefficients of a polynomial $p(x)$ of order $m-1$, we need at most $m$ points. If more than $m$ points are used, $c_i=0$ for $i>m-1$."
   ]
  },
  {
   "cell_type": "code",
   "execution_count": 65,
   "metadata": {},
   "outputs": [
    {
     "data": {
      "text/plain": [
       "array([-2.,  4.,  2.,  5., -0.,  0.])"
      ]
     },
     "execution_count": 65,
     "metadata": {},
     "output_type": "execute_result"
    },
    {
     "data": {
      "image/png": "[encoded data removed]",
      "text/plain": [
       "<Figure size 432x288 with 1 Axes>"
      ]
     },
     "metadata": {
      "needs_background": "light"
     },
     "output_type": "display_data"
    }
   ],
   "source": [
    "N = 6\n",
    "xi = np.linspace(-1,1,N)\n",
    "yi = 5 * xi ** 3 + 2 * xi ** 2 + 4 * xi - 2\n",
    "\n",
    "a = np.vander(xi,N,increasing=True)\n",
    "c = np.linalg.solve(a,yi)\n",
    "\n",
    "x = np.linspace(-1,1)\n",
    "p = c[0] + c[1] * x + c[2] * x ** 2 + c[3] * x ** 3 + c[4] * x ** 4\n",
    "y = 5 * x ** 3 + 2 * x ** 2 + 4 * x - 2\n",
    "\n",
    "plt.plot(x,p);\n",
    "plt.plot(x,y);\n",
    "plt.grid(True);\n",
    "plt.legend(('p(x)','y(x)'));\n",
    "\n",
    "c"
   ]
  },
  {
   "cell_type": "markdown",
   "metadata": {},
   "source": [
    "The problem with polynomial interpolation is that they can only readlly calculate the coefficients for polynomials. With any sort of data, it's improbable that it fits perfectly to a polynomial.\n",
    "\n",
    "One way we can better capture the trend in data is to use a lower-order polynomial."
   ]
  },
  {
   "cell_type": "markdown",
   "metadata": {},
   "source": [
    "### Polynomial least squares fitting"
   ]
  },
  {
   "cell_type": "markdown",
   "metadata": {},
   "source": []
  },
  {
   "cell_type": "code",
   "execution_count": null,
   "metadata": {},
   "outputs": [],
   "source": []
  },
  {
   "cell_type": "markdown",
   "metadata": {},
   "source": [
    "Interactive figure demonstrating the difference between polynomial interpolation and polynomial least squares fitting.\n",
    "\n",
    "With a little bit of playing around, it becomes obvious that polynomial least squares fitting is superior as it is able to capture the behavior of the data without being heavily affected by perturbations."
   ]
  },
  {
   "cell_type": "code",
   "execution_count": null,
   "metadata": {},
   "outputs": [],
   "source": []
  },
  {
   "cell_type": "markdown",
   "metadata": {},
   "source": [
    "## Numerical quadrature"
   ]
  },
  {
   "cell_type": "markdown",
   "metadata": {},
   "source": []
  },
  {
   "cell_type": "code",
   "execution_count": null,
   "metadata": {},
   "outputs": [],
   "source": []
  },
  {
   "cell_type": "markdown",
   "metadata": {},
   "source": [
    "## Resources"
   ]
  },
  {
   "cell_type": "markdown",
   "metadata": {},
   "source": [
    "[Orthogonal Polynomials](http://web.cs.iastate.edu/~cs577/handouts/orthogonal-polys.pdf)"
   ]
  },
  {
   "cell_type": "code",
   "execution_count": null,
   "metadata": {},
   "outputs": [],
   "source": []
  }
 ],
 "metadata": {
  "gist": {
   "data": {
    "description": "Gauss-Legendre Quadrature.ipynb",
    "public": false
   },
   "id": ""
  },
  "kernelspec": {
   "display_name": "Python [conda env:linalg] *",
   "language": "python",
   "name": "conda-env-linalg-py"
  },
  "language_info": {
   "codemirror_mode": {
    "name": "ipython",
    "version": 3
   },
   "file_extension": ".py",
   "mimetype": "text/x-python",
   "name": "python",
   "nbconvert_exporter": "python",
   "pygments_lexer": "ipython3",
   "version": "3.7.4"
  },
  "toc": {
   "base_numbering": 1,
   "nav_menu": {},
   "number_sections": true,
   "sideBar": true,
   "skip_h1_title": false,
   "title_cell": "Table of Contents",
   "title_sidebar": "Contents",
   "toc_cell": false,
   "toc_position": {},
   "toc_section_display": true,
   "toc_window_display": false
  },
  "varInspector": {
   "cols": {
    "lenName": 16,
    "lenType": 16,
    "lenVar": 40
   },
   "kernels_config": {
    "python": {
     "delete_cmd_postfix": "",
     "delete_cmd_prefix": "del ",
     "library": "var_list.py",
     "varRefreshCmd": "print(var_dic_list())"
    },
    "r": {
     "delete_cmd_postfix": ") ",
     "delete_cmd_prefix": "rm(",
     "library": "var_list.r",
     "varRefreshCmd": "cat(var_dic_list()) "
    }
   },
   "types_to_exclude": [
    "module",
    "function",
    "builtin_function_or_method",
    "instance",
    "_Feature"
   ],
   "window_display": false
  }
 },
 "nbformat": 4,
 "nbformat_minor": 2
}
