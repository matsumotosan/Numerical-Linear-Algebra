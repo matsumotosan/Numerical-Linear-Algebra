{
 "cells": [
  {
   "cell_type": "markdown",
   "metadata": {},
   "source": [
    "# Cuppen's Divide-and-Conquer Algorithm"
   ]
  },
  {
   "cell_type": "code",
   "execution_count": 3,
   "metadata": {},
   "outputs": [],
   "source": [
    "import numpy as np\n",
    "from numpy.random import randint\n",
    "\n",
    "%matplotlib inline"
   ]
  },
  {
   "cell_type": "markdown",
   "metadata": {},
   "source": [
    "## Divide-and-Conquer Algorithms"
   ]
  },
  {
   "cell_type": "markdown",
   "metadata": {},
   "source": [
    "Divide-and-conquer algorithms are a general class of methods that utilize recursion to break down a problem into subproblems, which can be solved more easily. They consist of three stages:\n",
    "1. Divide:\n",
    "2. Conquer:\n",
    "3. Combine:\n",
    "\n",
    "One such example is a merge sort.\n",
    "\n",
    "<img src=\"img/binarysort.png\" alt=\"term-document matrix\" style=\"width: 40%\"/>\n",
    "\n",
    "Given a list of eight numbers to sort, the problem can be split into two lists of four numbers. These two lists can then be split again into four lists of two numbers (divide). Sorting two numbers, then, is a trivial task (conquer). Once sorted, these numbers can be put back together in order until the original list is returned sorted (combine).\n",
    "\n",
    "Link: https://medium.com/brandons-computer-science-notes/divide-and-conquer-algorithms-4e83d9999ffa"
   ]
  },
  {
   "cell_type": "markdown",
   "metadata": {},
   "source": [
    "## Cuppen's Divide-and-Conquer Algorithm"
   ]
  },
  {
   "cell_type": "markdown",
   "metadata": {},
   "source": [
    "J.J.M. Cuppen suggested a method to calculate the eigenvalues of a symmetric tridiagonal matrix, which he showed was an order of magnitude faster than the QR method.\n",
    "\n",
    "Link: https://www2.eecs.berkeley.edu/Pubs/TechRpts/1994/CSD-94-799.pdf\n",
    "\n",
    "<img src=\"img/divideconquertree.png\" alt=\"term-document matrix\" style=\"width: 70%\"/>\n",
    "\n",
    "The basic principle is to divide the original problem (level 0) into subproblem recursively to the point that solving the subproblems is trivial (level 3). Once at the lowest level, the algorithm can return back up the tree to provide solutions to the preceding subproblems."
   ]
  },
  {
   "cell_type": "markdown",
   "metadata": {},
   "source": [
    "### Helper methods"
   ]
  },
  {
   "cell_type": "code",
   "execution_count": 49,
   "metadata": {},
   "outputs": [],
   "source": [
    "def divide(T):\n",
    "    m = T.shape[0]\n",
    "    n = int(np.ceil(m / 2))\n",
    "        \n",
    "    T1 = np.array(T[:n, :n], dtype=float)\n",
    "    T2 = np.array(T[n:, n:], dtype=float)\n",
    "    \n",
    "    a = np.abs(T[n, n-1])\n",
    "    T1[-1, -1] -= a\n",
    "    T2[0, 0] -= a\n",
    "    \n",
    "    b = np.zeros((m,1))\n",
    "    b[[n-1,n]] += 1\n",
    "    \n",
    "    return T1, T2, b, a\n",
    "\n",
    "\n",
    "def cuppen(T):\n",
    "    if T.shape[0] > 3:\n",
    "        T1, T2, b, a = cuppen(T1)\n",
    "        T1, T2, b, a = cuppen(T2)\n",
    "        print(T1, T2)\n",
    "    else:\n",
    "        q, r = np.linalg.qr(T)\n",
    "    \n",
    "    "
   ]
  },
  {
   "cell_type": "markdown",
   "metadata": {},
   "source": [
    "### Example"
   ]
  },
  {
   "cell_type": "markdown",
   "metadata": {},
   "source": [
    "Create a random tridiagonal matrix of integers."
   ]
  },
  {
   "cell_type": "code",
   "execution_count": 50,
   "metadata": {},
   "outputs": [
    {
     "name": "stdout",
     "output_type": "stream",
     "text": [
      "[[5 7 0 0 0]\n",
      " [7 7 3 0 0]\n",
      " [0 3 9 5 0]\n",
      " [0 0 5 8 4]\n",
      " [0 0 0 4 3]]\n"
     ]
    }
   ],
   "source": [
    "n = 5\n",
    "x = 10\n",
    "\n",
    "off_diag = randint(1, x, size=n-1)\n",
    "T = np.diag(off_diag, k=1) + np.diag(randint(1, x, size=n)) + np.diag(off_diag, k=-1)\n",
    "\n",
    "print(T)"
   ]
  },
  {
   "cell_type": "markdown",
   "metadata": {},
   "source": [
    "Divide the tridiagonal matrix"
   ]
  },
  {
   "cell_type": "code",
   "execution_count": 52,
   "metadata": {},
   "outputs": [
    {
     "name": "stdout",
     "output_type": "stream",
     "text": [
      "[[5. 7. 0.]\n",
      " [7. 7. 3.]\n",
      " [0. 3. 4.]] [[3. 4.]\n",
      " [4. 3.]]\n"
     ]
    },
    {
     "ename": "TypeError",
     "evalue": "'NoneType' object is not iterable",
     "output_type": "error",
     "traceback": [
      "\u001b[0;31m---------------------------------------------------------------------------\u001b[0m",
      "\u001b[0;31mTypeError\u001b[0m                                 Traceback (most recent call last)",
      "\u001b[0;32m<ipython-input-52-ffba86ce3417>\u001b[0m in \u001b[0;36m<module>\u001b[0;34m()\u001b[0m\n\u001b[0;32m----> 1\u001b[0;31m \u001b[0mT1\u001b[0m\u001b[0;34m,\u001b[0m \u001b[0mT2\u001b[0m\u001b[0;34m,\u001b[0m \u001b[0mb\u001b[0m\u001b[0;34m,\u001b[0m \u001b[0ma\u001b[0m \u001b[0;34m=\u001b[0m \u001b[0mcuppen\u001b[0m\u001b[0;34m(\u001b[0m\u001b[0mT\u001b[0m\u001b[0;34m)\u001b[0m\u001b[0;34m\u001b[0m\u001b[0m\n\u001b[0m\u001b[1;32m      2\u001b[0m \u001b[0mprint\u001b[0m\u001b[0;34m(\u001b[0m\u001b[0mT1\u001b[0m\u001b[0;34m,\u001b[0m \u001b[0mT2\u001b[0m\u001b[0;34m,\u001b[0m \u001b[0mb\u001b[0m\u001b[0;34m,\u001b[0m \u001b[0ma\u001b[0m\u001b[0;34m)\u001b[0m\u001b[0;34m\u001b[0m\u001b[0m\n",
      "\u001b[0;31mTypeError\u001b[0m: 'NoneType' object is not iterable"
     ]
    }
   ],
   "source": [
    "T1, T2, b, a = cuppen(T)\n",
    "print(T1, T2, b, a)"
   ]
  },
  {
   "cell_type": "markdown",
   "metadata": {},
   "source": [
    "Compare the original and decomposed matrix"
   ]
  },
  {
   "cell_type": "code",
   "execution_count": 45,
   "metadata": {},
   "outputs": [
    {
     "data": {
      "text/plain": [
       "True"
      ]
     },
     "execution_count": 45,
     "metadata": {},
     "output_type": "execute_result"
    }
   ],
   "source": [
    "r1, c1 = T1.shape\n",
    "r2, c2 = T2.shape\n",
    "\n",
    "T_recon = np.block([[T1, np.zeros((r1, c2))], [np.zeros((r2, c1)), T2]]) + a * b @ b.T\n",
    "\n",
    "np.allclose(T, T_recon)"
   ]
  },
  {
   "cell_type": "code",
   "execution_count": null,
   "metadata": {},
   "outputs": [],
   "source": []
  }
 ],
 "metadata": {
  "kernelspec": {
   "display_name": "Python 3",
   "language": "python",
   "name": "python3"
  },
  "language_info": {
   "codemirror_mode": {
    "name": "ipython",
    "version": 3
   },
   "file_extension": ".py",
   "mimetype": "text/x-python",
   "name": "python",
   "nbconvert_exporter": "python",
   "pygments_lexer": "ipython3",
   "version": "3.7.3"
  },
  "varInspector": {
   "cols": {
    "lenName": 16,
    "lenType": 16,
    "lenVar": 40
   },
   "kernels_config": {
    "python": {
     "delete_cmd_postfix": "",
     "delete_cmd_prefix": "del ",
     "library": "var_list.py",
     "varRefreshCmd": "print(var_dic_list())"
    },
    "r": {
     "delete_cmd_postfix": ") ",
     "delete_cmd_prefix": "rm(",
     "library": "var_list.r",
     "varRefreshCmd": "cat(var_dic_list()) "
    }
   },
   "types_to_exclude": [
    "module",
    "function",
    "builtin_function_or_method",
    "instance",
    "_Feature"
   ],
   "window_display": false
  }
 },
 "nbformat": 4,
 "nbformat_minor": 2
}
