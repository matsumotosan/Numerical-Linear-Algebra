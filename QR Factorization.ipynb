{
 "cells": [
  {
   "cell_type": "markdown",
   "metadata": {},
   "source": [
    "# QR Factorization"
   ]
  },
  {
   "cell_type": "markdown",
   "metadata": {},
   "source": [
    "Having been referred to as \"the most important algorithm in linear algebra\" by [Trefethen and Bau](https://www.amazon.com/Numerical-Linear-Algebra-Lloyd-Trefethen/dp/0898713617), it was only fair that QR factorization received its own notebook.\n",
    "\n",
    "Here, I go into the details of its implementation and its applications for other algorithms in numerical linear algebra."
   ]
  },
  {
   "cell_type": "markdown",
   "metadata": {},
   "source": [
    "## Imports"
   ]
  },
  {
   "cell_type": "code",
   "execution_count": 1,
   "metadata": {},
   "outputs": [],
   "source": [
    "import numpy as np\n",
    "import matplotlib.pyplot as plt"
   ]
  },
  {
   "cell_type": "markdown",
   "metadata": {},
   "source": [
    "## Helper methods"
   ]
  },
  {
   "cell_type": "code",
   "execution_count": null,
   "metadata": {},
   "outputs": [],
   "source": []
  },
  {
   "cell_type": "markdown",
   "metadata": {},
   "source": [
    "## First, the proof..."
   ]
  },
  {
   "cell_type": "markdown",
   "metadata": {},
   "source": [
    "The result of the QR factorization is fairly simple, however, its proof was not as simple to grasp. The following excerpt was adapted from [Golub and Van Loan's work](https://www.amazon.com/Computations-Hopkins-Studies-Mathematical-Sciences/dp/1421407949).\n",
    "\n",
    "**Theorem.** For a rectangular matrix $A\\in \\mathbb R^{m\\times n}$, there exists an orthogonal matrix $Q\\in \\mathbb R^{m\\times m}$ and an upper triangular $R\\in \\mathbb R^{m\\times n}$ such that $A=QR$.\n",
    "\n",
    "**Proof.** Suppose $n=1$ and that $Q$ is a Householder matrix so that if $R=Q^TA$, then $R(2:m)=0$. It follows that $A=QR$ is a $QR$ factorization of $A$. For general $n$, we partition $A$ as $A=[A_1|v]$ where $v=A(:,n)$. \n",
    "\n",
    "Therefore, there exists an orthogonal $Q_1\\in \\mathbb R^{m\\times m}$ so that $R_1=Q_1^TA_1$ is upper triangular. \n",
    "\n",
    "Set $w=Q^Tv$ and let $w(n:m)=Q_2R_2$ be the $QR$ factorization of $w(n:m)$. If\n",
    "\n",
    "$$ Q=Q_1\\begin{bmatrix}I_{n-1} & 0 \\\\ 0 & Q_2 \\end{bmatrix} \\text{,}$$\n",
    "\n",
    "then\n",
    "\n",
    "$$ A=Q\\begin{bmatrix}R_1|w(1:n-1) \\\\ R_2 \\end{bmatrix}$$\n",
    "\n",
    "is a $QR$ factorization of $A$."
   ]
  },
  {
   "cell_type": "markdown",
   "metadata": {
    "heading_collapsed": true
   },
   "source": [
    "### Step-by-step visualization of proof"
   ]
  },
  {
   "cell_type": "markdown",
   "metadata": {
    "hidden": true
   },
   "source": [
    "**Suppose $n=1$ and that $Q$ is a Householder matrix so that if $R=Q^TA$, then $R(2:m)=0$.**\n",
    "\n",
    "A Householder matrix is constructed by the linear transformation that describes a reflection about a plane containing the origin. The plane is defined by a unit vector $v$ that is orthogonal to the plane. The reflection of a point $x$ about this plane is expressed as:\n",
    "\n",
    "$$ x-2v(v^Hx) $$\n",
    "\n",
    "In matrix form, this is:\n",
    "\n",
    "$$ P=I-2vv^H $$\n",
    "\n",
    "where $v^H$ is the conjugate transpose of $v$, but if $v$ is real $v^H=v^T$.\n",
    "\n",
    "Let's say that $m=3$. "
   ]
  },
  {
   "cell_type": "code",
   "execution_count": 24,
   "metadata": {
    "hidden": true
   },
   "outputs": [],
   "source": [
    "A = np.array([[6, 6, 1],\n",
    "              [3, 6, 1],\n",
    "              [2, 1, 1]])"
   ]
  },
  {
   "cell_type": "code",
   "execution_count": 23,
   "metadata": {
    "hidden": true
   },
   "outputs": [
    {
     "data": {
      "text/plain": [
       "array([-29., -38., -35., -32., -37.])"
      ]
     },
     "execution_count": 23,
     "metadata": {},
     "output_type": "execute_result"
    }
   ],
   "source": [
    "R = Q.T @ A; R"
   ]
  },
  {
   "cell_type": "markdown",
   "metadata": {
    "hidden": true
   },
   "source": [
    "**It follows that $A=QR$ is a $QR$ factorization of $A$.**"
   ]
  },
  {
   "cell_type": "code",
   "execution_count": null,
   "metadata": {
    "hidden": true
   },
   "outputs": [],
   "source": []
  },
  {
   "cell_type": "markdown",
   "metadata": {
    "hidden": true
   },
   "source": [
    "**For general $n$, we partition $A$ as $A=[A_1|v]$ where $v=A(:,n)$.**"
   ]
  },
  {
   "cell_type": "code",
   "execution_count": null,
   "metadata": {
    "hidden": true
   },
   "outputs": [],
   "source": []
  },
  {
   "cell_type": "markdown",
   "metadata": {
    "hidden": true
   },
   "source": [
    "**Therefore, there exists an orthogonal $Q_1\\in \\mathbb R^{m\\times m}$ so that $R_1=Q_1^TA_1$ is upper triangular.**"
   ]
  },
  {
   "cell_type": "code",
   "execution_count": null,
   "metadata": {
    "hidden": true
   },
   "outputs": [],
   "source": []
  },
  {
   "cell_type": "markdown",
   "metadata": {
    "hidden": true
   },
   "source": [
    "**Set $w=Q^Tv$ and let $w(n:m)=Q_2R_2$ be the $QR$ factorization of $w(n:m)$.**"
   ]
  },
  {
   "cell_type": "code",
   "execution_count": null,
   "metadata": {
    "hidden": true
   },
   "outputs": [],
   "source": []
  },
  {
   "cell_type": "markdown",
   "metadata": {
    "hidden": true
   },
   "source": [
    "**If**\n",
    "\n",
    "$$ Q=Q_1\\begin{bmatrix}I_{n-1} & 0 \\\\ 0 & Q_2 \\end{bmatrix} \\text{,}$$\n",
    "\n",
    "**then**\n",
    "\n",
    "$$ A=Q\\begin{bmatrix}R_1|w(1:n-1) \\\\ R_2 \\end{bmatrix}$$\n",
    "\n",
    "**is a $QR$ factorization of $A$.**"
   ]
  },
  {
   "cell_type": "code",
   "execution_count": null,
   "metadata": {
    "hidden": true
   },
   "outputs": [],
   "source": []
  },
  {
   "cell_type": "markdown",
   "metadata": {},
   "source": [
    "## And now, the algorithms"
   ]
  },
  {
   "cell_type": "markdown",
   "metadata": {},
   "source": [
    "Like every factorization in numerical linear algebra, there are multiple algorithms to calculate the QR factorization of a given matrix:\n",
    "- Householder QR\n",
    "- Block Householder QR\n",
    "- Block recursive QR\n",
    "- Givens QR methods\n",
    "- Hessenberg QR via Givens\n",
    "- Classical Gram-Schmidt\n",
    "- Modified Gram-Schmidt"
   ]
  },
  {
   "cell_type": "markdown",
   "metadata": {},
   "source": [
    "## Householder QR"
   ]
  },
  {
   "cell_type": "markdown",
   "metadata": {},
   "source": [
    "For $A\\in \\mathbb R^{m\\times n}$ where $m\\geq n$, the following algorithm finds Householder matrices $H_1,\\dots,H_n$ such that $Q^TA=R$ is upper triangular where $Q=H_1H_2\\cdot\\cdot\\cdot H_n$.\n",
    "\n",
    "<img src=\"img/house_qr.png\" alt=\"term-document matrix\" style=\"width: 50%\"/>\n",
    "\n",
    "For additional explanations, I would recommend [Professor Driscoll's video on Householder QR](https://www.youtube.com/watch?v=d-yPM-bxREs)."
   ]
  },
  {
   "cell_type": "code",
   "execution_count": 25,
   "metadata": {},
   "outputs": [],
   "source": [
    "def house(A):\n",
    "    \n",
    "\n",
    "def house_qr(A):\n",
    "    m, n = A.shape\n",
    "    \n",
    "    for j in range(n)\n",
    "        [v, beta] = house(A[j:m, j])\n",
    "        A[j:m, j:n] = (np.eye(m) - beta * v @ v.T) @ A[j:m, j:n]\n",
    "        if j < m:\n",
    "            A[j + 1:m, j] = v[2:m - j + 1]\n",
    "            \n",
    "    "
   ]
  },
  {
   "cell_type": "code",
   "execution_count": null,
   "metadata": {},
   "outputs": [],
   "source": [
    "A = \n",
    "\n",
    "Q, R = house_qr(A)\n",
    "np.allclose(A, Q @ R)"
   ]
  },
  {
   "cell_type": "markdown",
   "metadata": {},
   "source": [
    "## Block Householder QR"
   ]
  },
  {
   "cell_type": "markdown",
   "metadata": {},
   "source": [
    "## Block recursive QR"
   ]
  },
  {
   "cell_type": "markdown",
   "metadata": {},
   "source": [
    "## Givens QR methods"
   ]
  },
  {
   "cell_type": "markdown",
   "metadata": {},
   "source": []
  },
  {
   "cell_type": "code",
   "execution_count": null,
   "metadata": {},
   "outputs": [],
   "source": [
    "def givens_qr(A):\n",
    "    "
   ]
  },
  {
   "cell_type": "code",
   "execution_count": null,
   "metadata": {},
   "outputs": [],
   "source": []
  },
  {
   "cell_type": "markdown",
   "metadata": {},
   "source": [
    "## Hessenberg QR via Givens"
   ]
  },
  {
   "cell_type": "markdown",
   "metadata": {},
   "source": []
  },
  {
   "cell_type": "markdown",
   "metadata": {},
   "source": [
    "## QR with Wilkinson shifts"
   ]
  },
  {
   "cell_type": "markdown",
   "metadata": {},
   "source": [
    "## Classical Gram-Schmidt"
   ]
  },
  {
   "cell_type": "markdown",
   "metadata": {},
   "source": [
    "## Modified Gram-Schmidt"
   ]
  },
  {
   "cell_type": "markdown",
   "metadata": {},
   "source": [
    "## Resources"
   ]
  },
  {
   "cell_type": "markdown",
   "metadata": {},
   "source": [
    "[fast.ai Computational Linear Algebra course](https://www.fast.ai/2017/07/17/num-lin-alg/)\n",
    "\n",
    "[Numerical Linear Algebra by Lloyd N. Trefethen and David Bau III](https://www.amazon.com/Numerical-Linear-Algebra-Lloyd-Trefethen/dp/0898713617)\n",
    "\n",
    "[Matrix Computations by Gene H. Golub and Charles F. Van Loan (4th Ed.)](https://www.amazon.com/Computations-Hopkins-Studies-Mathematical-Sciences/dp/1421407949)"
   ]
  },
  {
   "cell_type": "code",
   "execution_count": null,
   "metadata": {},
   "outputs": [],
   "source": []
  }
 ],
 "metadata": {
  "kernelspec": {
   "display_name": "Python [conda env:num-lin-alg]",
   "language": "python",
   "name": "conda-env-num-lin-alg-py"
  },
  "language_info": {
   "codemirror_mode": {
    "name": "ipython",
    "version": 3
   },
   "file_extension": ".py",
   "mimetype": "text/x-python",
   "name": "python",
   "nbconvert_exporter": "python",
   "pygments_lexer": "ipython3",
   "version": "3.5.6"
  },
  "varInspector": {
   "cols": {
    "lenName": 16,
    "lenType": 16,
    "lenVar": 40
   },
   "kernels_config": {
    "python": {
     "delete_cmd_postfix": "",
     "delete_cmd_prefix": "del ",
     "library": "var_list.py",
     "varRefreshCmd": "print(var_dic_list())"
    },
    "r": {
     "delete_cmd_postfix": ") ",
     "delete_cmd_prefix": "rm(",
     "library": "var_list.r",
     "varRefreshCmd": "cat(var_dic_list()) "
    }
   },
   "types_to_exclude": [
    "module",
    "function",
    "builtin_function_or_method",
    "instance",
    "_Feature"
   ],
   "window_display": false
  }
 },
 "nbformat": 4,
 "nbformat_minor": 2
}
