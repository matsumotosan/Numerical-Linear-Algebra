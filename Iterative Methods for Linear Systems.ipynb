{
 "cells": [
  {
   "cell_type": "markdown",
   "metadata": {},
   "source": [
    "# Iterative Methods"
   ]
  },
  {
   "cell_type": "markdown",
   "metadata": {},
   "source": [
    "When solving large linear systems, iterative methods are typically able to produce solutions that converge faster than do direct methods. This notebook provides an overview of the variety of iterative methods that have been developed including discussions of their rates of convergence:\n",
    "\n",
    "1. Classical methods\n",
    "    1. Jacobi\n",
    "    2. Gauss-Seidel\n",
    "    3. Successive over-relaxation (SOR)\n",
    "    4. Symmetric successive over-relaxation (SSOR)\n",
    "    5. Chebyshev\n",
    "\n",
    "This notebook is an important precursor to the 'Preconditioner Series' which assumes a working knowledge of iterative methods.\n",
    "\n",
    "Many of the formulas and notations used are from [Matrix Computations by Gene H. Golub and Charles F. Van Loan (4th Ed.)](https://www.amazon.com/Computations-Hopkins-Studies-Mathematical-Sciences/dp/1421407949) and [An Introduction to the Conjugate Gradient Method Without the Agonizing Pain](https://www.cs.cmu.edu/~quake-papers/painless-conjugate-gradient.pdf)."
   ]
  },
  {
   "cell_type": "markdown",
   "metadata": {},
   "source": [
    "## Imports"
   ]
  },
  {
   "cell_type": "code",
   "execution_count": 2,
   "metadata": {
    "pycharm": {
     "is_executing": false
    }
   },
   "outputs": [
    {
     "data": {
      "text/html": [
       "        <script type=\"text/javascript\">\n",
       "        window.PlotlyConfig = {MathJaxConfig: 'local'};\n",
       "        if (window.MathJax) {MathJax.Hub.Config({SVG: {font: \"STIX-Web\"}});}\n",
       "        if (typeof require !== 'undefined') {\n",
       "        require.undef(\"plotly\");\n",
       "        requirejs.config({\n",
       "            paths: {\n",
       "                'plotly': ['https://cdn.plot.ly/plotly-latest.min']\n",
       "            }\n",
       "        });\n",
       "        require(['plotly'], function(Plotly) {\n",
       "            window._Plotly = Plotly;\n",
       "        });\n",
       "        }\n",
       "        </script>\n",
       "        "
      ]
     },
     "metadata": {},
     "output_type": "display_data"
    }
   ],
   "source": [
    "import numpy as np\n",
    "import matplotlib.pyplot as plt\n",
    "from scipy.linalg import solve_triangular\n",
    "from sklearn.datasets import make_spd_matrix\n",
    "\n",
    "from plotly import __version__\n",
    "from plotly.offline import init_notebook_mode, iplot\n",
    "import plotly.graph_objs as go\n",
    "import plotly.figure_factory as ff\n",
    "\n",
    "%matplotlib inline\n",
    "%load_ext autoreload\n",
    "%autoreload 2\n",
    "init_notebook_mode(connected=True)\n",
    "np.set_printoptions(suppress=True)"
   ]
  },
  {
   "cell_type": "markdown",
   "metadata": {},
   "source": [
    "## Helper methods"
   ]
  },
  {
   "cell_type": "code",
   "execution_count": 12,
   "metadata": {},
   "outputs": [],
   "source": [
    "def plot_iters(xx, yy, zz, sol):\n",
    "    data = [go.Surface(\n",
    "        x=xx,\n",
    "        y=yy,\n",
    "        z=zz,\n",
    "        opacity=0.5)]\n",
    "    \n",
    "    z = np.array([(sol[i].T @ A @ sol[i]) / 2 - b.T @ sol[i] for i in range(len(sol))])\n",
    "    trace = go.Scatter3d(\n",
    "        x = sol[:,0],\n",
    "        y = sol[:,1],\n",
    "        z = z,\n",
    "        marker = dict(\n",
    "            size=6,\n",
    "            colorscale='Viridis'),\n",
    "        line=dict(\n",
    "            color='#1f77b4',\n",
    "            width=3))\n",
    "\n",
    "    data.append(trace)\n",
    "    \n",
    "    return iplot(go.Figure(data=data))"
   ]
  },
  {
   "cell_type": "markdown",
   "metadata": {},
   "source": [
    "## Jacobi method"
   ]
  },
  {
   "cell_type": "markdown",
   "metadata": {},
   "source": [
    "For a 3-by-3 linear system $Ax=b$,\n",
    "\n",
    "$$ \\begin{bmatrix} a_{11} & a_{12} & a_{13} \\\\ a_{21} & a_{22} & a_{23} \\\\\n",
    "a_{31} & a_{32} & a_{33} \\end{bmatrix} \\begin{bmatrix} x_1 \\\\ x_2 \\\\ x_3\n",
    "\\end{bmatrix} = \\begin{bmatrix} b_1 \\\\ b_2 \\\\ b_3 \\end{bmatrix} $$\n",
    "\n",
    "the equation can be rearranged to express $x_1$, $x_2$, and $x_3$ in terms of the other variables:\n",
    "\n",
    "$$ \\begin{align} x_1 &= (b_1-a_{12}x_2-a_{13}x_3)/a_{11} \\\\ x_2 &= (b_2-a_{21}x_1-a_{23}x_3)/a_{22} \\\\ x_3 &= (b_3-a_{31}x_1-a_{32}x_2)/a_{33} \\end{align} $$\n",
    "\n",
    "All three equations have $x_i$ on both sides of the equal sign, and this can be interpreted as saying that the current approximation of $x_i$, $x_i^{(k-1)}$, is being used to calculate a new approximation of $x_i$, $x_i^{(k)}$. Rewritten the equations from above become:\n",
    "\n",
    "$$ \\begin{align} x_1^{(k)} &= (b_1-a_{12}x_2^{(k-1)}-a_{13}x_3^{(k-1)})/a_{11} \\\\ x_2^{(k)} &= (b_2-a_{21}x_1^{(k-1)}-a_{23}x_3^{(k-1)})/a_{22} \\\\ x_3^{(k)} &= (b_3-a_{31}x_1^{(k-1)}-a_{32}x_2^{(k-1)})/a_{33} \\end{align} $$\n",
    "\n",
    "These equations can be written in matrix form using three matrices $D_A$ (main diagonal), $L_A$ (lower triangular), and $U_A$ (upper triangular) such that $A=D_A+L_A+U_A$. Note that $L_A$ and $U_A$ do not include the main diagonal. \n",
    "\n",
    "Below is the linear system represented in matrix form:\n",
    "\n",
    "$$ M_Jx^{(k)}=N_Jx^{(k-1)}+b $$\n",
    "\n",
    "where $M_J=D_A$ and $N_J=-(L_A+U_A)$.\n",
    "\n",
    "Rearranging the equation to calculate $x^{(k)}$ yields:\n",
    "\n",
    "$$ x^{(k)}=M_J^{-1}(N_Jx^{(k-1)}+b) $$"
   ]
  },
  {
   "cell_type": "code",
   "execution_count": 6,
   "metadata": {
    "pycharm": {
     "is_executing": false
    }
   },
   "outputs": [],
   "source": [
    "def jacobi(A, x0, b, rtol=1e-5, atol=1e-8, max_iter=1000):\n",
    "    \n",
    "    # find inverse of diagonal matrix and off-diagonal matrix\n",
    "    D_inv, R = np.diag(np.reciprocal(np.diagonal(A).astype(float))), A - np.diag(np.diagonal(A))\n",
    "    \n",
    "    i = 0\n",
    "    x = np.array([x0])\n",
    "    \n",
    "    # loop for max_iter iterations or until converged\n",
    "    while (i < max_iter):\n",
    "        x = np.vstack((x, D_inv @ (b - R @ x[-1])))\n",
    "        i += 1\n",
    "        \n",
    "        # test convergence\n",
    "        if (np.allclose(x[-1], x[-2], rtol, atol)):\n",
    "            print('Iterations:' + str(i))\n",
    "            return x\n",
    "        \n",
    "    # solution did not converge\n",
    "    print('Maximum number of iterations reached. Did not converge.')"
   ]
  },
  {
   "cell_type": "markdown",
   "metadata": {},
   "source": [
    "Here, a linear system if defined for which the solution is known: $x=\\begin{bmatrix} 1 & 2 & -1 & 1\\end{bmatrix}$"
   ]
  },
  {
   "cell_type": "code",
   "execution_count": 7,
   "metadata": {
    "pycharm": {
     "is_executing": false
    }
   },
   "outputs": [
    {
     "name": "stdout",
     "output_type": "stream",
     "text": [
      "Iterations:15\n"
     ]
    },
    {
     "data": {
      "text/plain": [
       "array([[ 1.        ,  1.        ,  1.        ,  1.        ],\n",
       "       [ 0.5       ,  2.18181818, -1.1       ,  1.625     ],\n",
       "       [ 1.03818182,  1.775     , -0.81931818,  0.91931818],\n",
       "       [ 0.94136364,  2.04190083, -1.03820455,  1.10696023],\n",
       "       [ 1.01183099,  1.96202531, -0.97338662,  0.97951162],\n",
       "       [ 0.99087986,  2.00908268, -1.00821251,  1.01756718],\n",
       "       [ 1.00255077,  1.99363326, -0.99551098,  0.99556743],\n",
       "       [ 0.99846552,  2.00184886, -1.00159009,  1.00294866],\n",
       "       [ 1.0005029 ,  1.99891177, -0.99921335,  0.99910792],\n",
       "       [ 0.99973385,  2.00036053, -1.00029861,  1.00050642],\n",
       "       [ 1.00009578,  1.99981054, -0.99986008,  0.99982748],\n",
       "       [ 0.99995307,  2.00006848, -1.00005535,  1.00008854],\n",
       "       [ 1.00001792,  1.99996656, -0.99997491,  0.9999674 ],\n",
       "       [ 0.99999164,  2.0000128 , -1.00001019,  1.00001568],\n",
       "       [ 1.00000332,  1.99999404, -0.99999548,  0.99999393],\n",
       "       [ 0.9999985 ,  2.00000237, -1.00000187,  1.0000028 ]])"
      ]
     },
     "execution_count": 7,
     "metadata": {},
     "output_type": "execute_result"
    }
   ],
   "source": [
    "A = np.array([[10., -1., 2., 0.],\n",
    "              [-1., 11., -1., 3.],\n",
    "              [2., -1., 10., -1.],\n",
    "              [0.0, 3., -1., 8.]])\n",
    "\n",
    "b = np.array([6., 25., -11., 15.])\n",
    "x0 = np.ones_like(b)\n",
    "\n",
    "x = jacobi(A, x0, b); x"
   ]
  },
  {
   "cell_type": "markdown",
   "metadata": {},
   "source": [
    "## Gauss-Seidel method"
   ]
  },
  {
   "cell_type": "markdown",
   "metadata": {},
   "source": [
    "The Gauss-Seidel method makes a small change to the Jacobi method: it uses the iterate previously calculated to calculate the next iterate. In other words, $x_1^{(k)}$ is plugged into the formula in place of $x_1^{(k-1)}$ to calculate $x_2^{(k)}$. Then, both $x_1^{(k)}$ and $x_2^{(k)}$ are used to calculate $x_3^{(k)}$.\n",
    "\n",
    "In matrix form, the equations become:\n",
    "\n",
    "$$ M_{GS}x^{(k)}=N_{GS}x^{(k-1)}+b $$\n",
    "\n",
    "where $M_{GS}=D_A+L_A$ and $N_{GS}=-U_A$.\n",
    "\n",
    "Because $M_{GS}$ is a lower triangular matrix, $x^{(k)}$ can be calculated  by forward substitution."
   ]
  },
  {
   "cell_type": "code",
   "execution_count": 8,
   "metadata": {
    "pycharm": {
     "is_executing": false
    }
   },
   "outputs": [],
   "source": [
    "def gauss_seidel(A, x0, b, rtol=1e-5, atol=1e-8, max_iter=10000):\n",
    "    M, N = np.tril(A), -np.triu(A, 1)\n",
    "    \n",
    "    i = 0\n",
    "    x = np.array([x0])\n",
    "    \n",
    "    # loop for max_iter iterations or until converged\n",
    "    while (i < max_iter):\n",
    "        x = np.vstack((x, solve_triangular(M, N @ x[-1] + b, lower=True)))\n",
    "        i += 1\n",
    "            \n",
    "        # test convergence\n",
    "        if (np.allclose(x[-1], x[-2], rtol, atol)):\n",
    "            print('Iterations:' + str(i))\n",
    "            return x\n",
    "        \n",
    "    # solution did not converge\n",
    "    print('Maximum number of iterations reached. Did not converge.')"
   ]
  },
  {
   "cell_type": "markdown",
   "metadata": {},
   "source": [
    "The same linear system of equations is solved."
   ]
  },
  {
   "cell_type": "code",
   "execution_count": 9,
   "metadata": {
    "pycharm": {
     "is_executing": false
    }
   },
   "outputs": [
    {
     "name": "stdout",
     "output_type": "stream",
     "text": [
      "Iterations:7\n"
     ]
    },
    {
     "data": {
      "text/plain": [
       "array([[ 1.        ,  1.        ,  1.        ,  1.        ],\n",
       "       [ 0.5       ,  2.13636364, -0.88636364,  0.96306818],\n",
       "       [ 0.99090909,  2.01957645, -0.99991736,  0.99266916],\n",
       "       [ 1.00194112,  2.0021833 , -1.00090298,  0.99906839],\n",
       "       [ 1.00039893,  2.00020825, -1.00015212,  0.99990289],\n",
       "       [ 1.00005125,  2.00001731, -1.00001823,  0.99999123],\n",
       "       [ 1.00000538,  2.00000122, -1.00000183,  0.99999931],\n",
       "       [ 1.00000049,  2.00000007, -1.00000016,  0.99999996]])"
      ]
     },
     "execution_count": 9,
     "metadata": {},
     "output_type": "execute_result"
    }
   ],
   "source": [
    "x = gauss_seidel(A, x0, b); x"
   ]
  },
  {
   "cell_type": "markdown",
   "metadata": {},
   "source": [
    "## Successive over-relaxation (SOR)"
   ]
  },
  {
   "cell_type": "markdown",
   "metadata": {},
   "source": [
    "In SSOR, $A$ is split such that $A=M_\\omega - N_\\omega$ where\n",
    "\n",
    "$$ M_\\omega = \\frac{1}{\\omega}D_A+L_A \\ \\ \\ \\ N_\\omega = \\bigg(\\frac{1}{\\omega}-1\\bigg)D_A+U_A \\ \\ \\ \\ 0 < \\omega \\leq1$$\n",
    "\n",
    "The matrix form of the equations is then\n",
    "\n",
    "$$ \\bigg(\\frac{1}{\\omega}D_A+L_A\\bigg)x^{(k)} = \\bigg(\\bigg(\\frac{1}{\\omega}-1\\bigg)D_A+U_A\\bigg)x^{(k-1)}+b $$\n",
    "\n",
    "For $\\omega=1$, the SOR method is simply the Gauss-Seidel method."
   ]
  },
  {
   "cell_type": "code",
   "execution_count": 10,
   "metadata": {},
   "outputs": [],
   "source": [
    "def sor(A, x0, b, omega=0.5, rtol=1e-5, atol=1e-8, max_iter=10000):\n",
    "    M, N = np.diag(np.diag(A)) / omega + np.tril(A, -1), (1 / omega - 1) * np.diag(np.diag(A)) - np.triu(A, 1)\n",
    "    \n",
    "    i = 0\n",
    "    x = np.array([x0])\n",
    "    \n",
    "    # loop for max_iter iterations or until converged\n",
    "    while (i < max_iter):\n",
    "        x = np.vstack((x, solve_triangular(M, N @ x[-1] + b, lower=True)))\n",
    "        i += 1\n",
    "            \n",
    "        # test convergence\n",
    "        if (np.allclose(x[-1], x[-2], rtol, atol)):\n",
    "            return x, i\n",
    "        \n",
    "    # solution did not converge\n",
    "    print('Maximum number of iterations reached. Did not converge.')"
   ]
  },
  {
   "cell_type": "markdown",
   "metadata": {},
   "source": [
    "Here, the SOR method is run using a range of values for $\\omega$."
   ]
  },
  {
   "cell_type": "code",
   "execution_count": 11,
   "metadata": {},
   "outputs": [
    {
     "data": {
      "image/png": "[encoded data removed]",
      "text/plain": [
       "<Figure size 432x288 with 1 Axes>"
      ]
     },
     "metadata": {
      "needs_background": "light"
     },
     "output_type": "display_data"
    }
   ],
   "source": [
    "omega = np.arange(0.1, 1.01, 0.1)\n",
    "iters = []\n",
    "\n",
    "for o in omega:\n",
    "    _, i = sor(A, x0, b, o)\n",
    "    iters = np.append(iters, i)\n",
    "\n",
    "plt.plot(omega, iters);\n",
    "plt.xlabel('omega');\n",
    "plt.ylabel('No. of Iterations');"
   ]
  },
  {
   "cell_type": "markdown",
   "metadata": {},
   "source": [
    "### Symmetric successive over-relaxation (SSOR)"
   ]
  },
  {
   "cell_type": "markdown",
   "metadata": {},
   "source": [
    "In the case that $A$ is symmetric, SSOR can be used"
   ]
  },
  {
   "cell_type": "code",
   "execution_count": 12,
   "metadata": {},
   "outputs": [
    {
     "ename": "SyntaxError",
     "evalue": "unexpected EOF while parsing (<ipython-input-12-eabc636c153a>, line 1)",
     "output_type": "error",
     "traceback": [
      "\u001b[0;36m  File \u001b[0;32m\"<ipython-input-12-eabc636c153a>\"\u001b[0;36m, line \u001b[0;32m1\u001b[0m\n\u001b[0;31m    def ssor():\u001b[0m\n\u001b[0m               ^\u001b[0m\n\u001b[0;31mSyntaxError\u001b[0m\u001b[0;31m:\u001b[0m unexpected EOF while parsing\n"
     ]
    }
   ],
   "source": [
    "def ssor():"
   ]
  },
  {
   "cell_type": "code",
   "execution_count": null,
   "metadata": {},
   "outputs": [],
   "source": [
    "x = ssor(A, x0, b); x"
   ]
  },
  {
   "cell_type": "markdown",
   "metadata": {},
   "source": [
    "## Chebyshev method"
   ]
  },
  {
   "cell_type": "markdown",
   "metadata": {},
   "source": []
  },
  {
   "cell_type": "code",
   "execution_count": 13,
   "metadata": {},
   "outputs": [
    {
     "ename": "SyntaxError",
     "evalue": "unexpected EOF while parsing (<ipython-input-13-d52d00660061>, line 1)",
     "output_type": "error",
     "traceback": [
      "\u001b[0;36m  File \u001b[0;32m\"<ipython-input-13-d52d00660061>\"\u001b[0;36m, line \u001b[0;32m1\u001b[0m\n\u001b[0;31m    def chebyshev():\u001b[0m\n\u001b[0m                    ^\u001b[0m\n\u001b[0;31mSyntaxError\u001b[0m\u001b[0;31m:\u001b[0m unexpected EOF while parsing\n"
     ]
    }
   ],
   "source": [
    "def chebyshev():"
   ]
  },
  {
   "cell_type": "code",
   "execution_count": 14,
   "metadata": {},
   "outputs": [
    {
     "ename": "NameError",
     "evalue": "name 'chebyshev' is not defined",
     "output_type": "error",
     "traceback": [
      "\u001b[0;31m---------------------------------------------------------------------------\u001b[0m",
      "\u001b[0;31mNameError\u001b[0m                                 Traceback (most recent call last)",
      "\u001b[0;32m<ipython-input-14-7ebe5d9899c0>\u001b[0m in \u001b[0;36m<module>\u001b[0;34m()\u001b[0m\n\u001b[0;32m----> 1\u001b[0;31m \u001b[0mx\u001b[0m \u001b[0;34m=\u001b[0m \u001b[0mchebyshev\u001b[0m\u001b[0;34m(\u001b[0m\u001b[0mA\u001b[0m\u001b[0;34m,\u001b[0m \u001b[0mx0\u001b[0m\u001b[0;34m,\u001b[0m \u001b[0mb\u001b[0m\u001b[0;34m)\u001b[0m\u001b[0;34m;\u001b[0m \u001b[0mx\u001b[0m\u001b[0;34m\u001b[0m\u001b[0m\n\u001b[0m",
      "\u001b[0;31mNameError\u001b[0m: name 'chebyshev' is not defined"
     ]
    }
   ],
   "source": [
    "x = chebyshev(A, x0, b); x"
   ]
  },
  {
   "cell_type": "markdown",
   "metadata": {},
   "source": [
    "## Resources"
   ]
  },
  {
   "cell_type": "markdown",
   "metadata": {},
   "source": [
    "[Matrix Computations by Gene H. Golub and Charles F. Van Loan (4th Ed.)](https://www.amazon.com/Computations-Hopkins-Studies-Mathematical-Sciences/dp/1421407949)\n",
    "\n",
    "[An Introduction to the Conjugate Gradient Method Without the Agonizing Pain](https://www.cs.cmu.edu/~quake-papers/painless-conjugate-gradient.pdf)"
   ]
  },
  {
   "cell_type": "code",
   "execution_count": null,
   "metadata": {},
   "outputs": [],
   "source": []
  }
 ],
 "metadata": {
  "kernelspec": {
   "display_name": "Python [conda env:linalg] *",
   "language": "python",
   "name": "conda-env-linalg-py"
  },
  "language_info": {
   "codemirror_mode": {
    "name": "ipython",
    "version": 3
   },
   "file_extension": ".py",
   "mimetype": "text/x-python",
   "name": "python",
   "nbconvert_exporter": "python",
   "pygments_lexer": "ipython3",
   "version": "3.7.3"
  },
  "pycharm": {
   "stem_cell": {
    "cell_type": "raw",
    "metadata": {
     "collapsed": false
    },
    "source": []
   }
  },
  "varInspector": {
   "cols": {
    "lenName": 16,
    "lenType": 16,
    "lenVar": 40
   },
   "kernels_config": {
    "python": {
     "delete_cmd_postfix": "",
     "delete_cmd_prefix": "del ",
     "library": "var_list.py",
     "varRefreshCmd": "print(var_dic_list())"
    },
    "r": {
     "delete_cmd_postfix": ") ",
     "delete_cmd_prefix": "rm(",
     "library": "var_list.r",
     "varRefreshCmd": "cat(var_dic_list()) "
    }
   },
   "types_to_exclude": [
    "module",
    "function",
    "builtin_function_or_method",
    "instance",
    "_Feature"
   ],
   "window_display": false
  }
 },
 "nbformat": 4,
 "nbformat_minor": 2
}
