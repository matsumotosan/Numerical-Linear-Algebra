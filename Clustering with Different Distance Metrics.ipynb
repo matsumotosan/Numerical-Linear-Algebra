{
 "cells": [
  {
   "cell_type": "markdown",
   "metadata": {
    "collapsed": true,
    "pycharm": {
     "name": "#%% md\n"
    }
   },
   "source": [
    "# Clustering Algorithms with Different Distance Metrics\n",
    "When I first learned about clustering algorithms, I wondered if there were uses for \n",
    "clustering algorithms that used distance metrics other than Euclidean distance. I \n",
    "read a few articles on it and thought I'd create this notebook to better visualize \n",
    "their outputs."
   ]
  },
  {
   "cell_type": "markdown",
   "metadata": {
    "pycharm": {
     "name": "#%% md\n"
    }
   },
   "source": [
    "## Imports"
   ]
  },
  {
   "cell_type": "code",
   "execution_count": null,
   "metadata": {
    "pycharm": {
     "name": "#%%\n"
    }
   },
   "outputs": [],
   "source": [
    "import numpy as np\n",
    "from sklearn.cluster import KMeans"
   ]
  },
  {
   "cell_type": "markdown",
   "metadata": {
    "pycharm": {
     "name": "#%% md\n"
    }
   },
   "source": [
    "## Review of Distance Metrics\n",
    "When someone mentions distance, it's safe to assume they are referring to Euclidean\n",
    "distance; however, as I learn more and more about linear algebra I have become aware\n",
    "of the multitude (infinitely many) of metrics that can be used to calculate the\n",
    "distance between two objects."
   ]
  },
  {
   "cell_type": "markdown",
   "metadata": {
    "pycharm": {
     "name": "#%% md\n"
    }
   },
   "source": [
    "The Euclidean distance (known as 2-norm) between two points, $a$ and $b$ in $\\Bbb R^n$, is expressed as:\n",
    "$$ \\\\\\sqrt{\\sum_{i=1}^{n}(a_i-b_i)^2} $$\n",
    "\n",
    "This formula can be generalized to find the Minkowski distance:\n",
    "$$ \\\\\\bigg(\\sum_{i=1}^{n}\\lvert a_i-b_i\\rvert ^p\\bigg)^{1/p} $$\n",
    "\n",
    "Another metric is the Chebychev distance. Also known as the $L_\\infty$ metric,it\n",
    "simply returns the greatest of the differences between two coordinates in every\n",
    "coordinate dimension.\n",
    "$$ \\\\D_{Chebyshev}=\\max_i \\lvert a_i-b_i\\rvert $$\n",
    "\n",
    "I have some interactive visuals for p-norms in another [notebook](https://github.com/matsumotosan/numerical-linear-algebra/blob/master/Lp-spaces%20and%20p-norms.ipynb) \n",
    "if you'd like to take a look."
   ]
  },
  {
   "cell_type": "markdown",
   "metadata": {
    "pycharm": {
     "name": "#%% md\n"
    }
   },
   "source": [
    "## K-means Algorithm\n",
    "\n",
    "## C-means Algorithm\n"
   ]
  },
  {
   "cell_type": "markdown",
   "metadata": {
    "pycharm": {
     "name": "#%% md\n"
    }
   },
   "source": []
  },
  {
   "cell_type": "code",
   "execution_count": null,
   "metadata": {
    "pycharm": {
     "name": "#%%\n"
    }
   },
   "outputs": [],
   "source": []
  },
  {
   "cell_type": "markdown",
   "metadata": {
    "pycharm": {
     "name": "#%% md\n"
    }
   },
   "source": [
    "## Resources\n",
    "[K-means with Three Different Distance Metrics](https://pdfs.semanticscholar.org/a630/316f9c98839098747007753a9bb6d05f752e.pdf): Compares result of k-means algorithm with Manhattan, Euclidean, and Minkowski distance metrics on two-dimensional data.\n",
    "\n",
    "[pyclustering: Data mining library](https://github.com/annoviko/pyclustering)\n",
    "\n",
    "[Spectral clustering]()"
   ]
  },
  {
   "cell_type": "code",
   "execution_count": null,
   "metadata": {},
   "outputs": [],
   "source": []
  }
 ],
 "metadata": {
  "kernelspec": {
   "display_name": "Python [default]",
   "language": "python",
   "name": "python3"
  },
  "language_info": {
   "codemirror_mode": {
    "name": "ipython",
    "version": 3
   },
   "file_extension": ".py",
   "mimetype": "text/x-python",
   "name": "python",
   "nbconvert_exporter": "python",
   "pygments_lexer": "ipython3",
   "version": "3.5.6"
  },
  "pycharm": {
   "stem_cell": {
    "cell_type": "raw",
    "metadata": {
     "collapsed": false
    },
    "source": []
   }
  },
  "varInspector": {
   "cols": {
    "lenName": 16,
    "lenType": 16,
    "lenVar": 40
   },
   "kernels_config": {
    "python": {
     "delete_cmd_postfix": "",
     "delete_cmd_prefix": "del ",
     "library": "var_list.py",
     "varRefreshCmd": "print(var_dic_list())"
    },
    "r": {
     "delete_cmd_postfix": ") ",
     "delete_cmd_prefix": "rm(",
     "library": "var_list.r",
     "varRefreshCmd": "cat(var_dic_list()) "
    }
   },
   "types_to_exclude": [
    "module",
    "function",
    "builtin_function_or_method",
    "instance",
    "_Feature"
   ],
   "window_display": false
  }
 },
 "nbformat": 4,
 "nbformat_minor": 1
}
