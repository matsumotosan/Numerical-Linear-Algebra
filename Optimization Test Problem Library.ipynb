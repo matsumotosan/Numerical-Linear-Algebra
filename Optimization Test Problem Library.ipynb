{
 "cells": [
  {
   "cell_type": "markdown",
   "metadata": {},
   "source": [
    "# Optimization Test Problem Library"
   ]
  },
  {
   "cell_type": "markdown",
   "metadata": {},
   "source": [
    "When developing optimization algorithms, optimization test problems can be used to evaluate their effectiveness. Each function has a unique property that presents a challenge for optimization problems (multiple local minima, steep drops, large bowls, etc.). [Optimization test problems](https://www.sfu.ca/~ssurjano/optimization.html) were translated into Python and were used to evaluate the effectiveness of various algorithms at solving the problems.\n",
    "\n",
    "The test problems are categorized into five categories according to their features, or rather what makes it a difficult minimization problem:\n",
    "- mulitple local minima\n",
    "    - Ackley\n",
    "    - Bukin N.6\n",
    "- bowl-shaped\n",
    "- plate-shaped\n",
    "- valley-shaped\n",
    "- steep ridges/drops\n",
    "\n",
    "Algorithms suited and unsuited for each type of problem are presented.\n",
    "\n",
    "Non-convex, constrained optimization\n",
    "\n",
    "**Note:** All outputs have been cleared as the file becomes very large when all the graphs are plotted."
   ]
  },
  {
   "cell_type": "markdown",
   "metadata": {},
   "source": [
    "## Imports"
   ]
  },
  {
   "cell_type": "code",
   "execution_count": null,
   "metadata": {},
   "outputs": [],
   "source": [
    "from opt_test_probs import *\n",
    "from plotly import __version__\n",
    "from plotly.offline import init_notebook_mode, iplot\n",
    "import plotly.graph_objs as go\n",
    "\n",
    "init_notebook_mode(connected=True)\n",
    "np.set_printoptions(suppress=True)\n",
    "\n",
    "%matplotlib inline\n",
    "%load_ext autoreload\n",
    "%autoreload 2"
   ]
  },
  {
   "cell_type": "markdown",
   "metadata": {},
   "source": [
    "## Helper methods"
   ]
  },
  {
   "cell_type": "code",
   "execution_count": null,
   "metadata": {},
   "outputs": [],
   "source": [
    "def plot_surf(x, y, z, title):\n",
    "    data = [go.Surface(\n",
    "        x=x,\n",
    "        y=y,\n",
    "        z=z,\n",
    "        colorscale='Jet',\n",
    "        contours=go.surface.Contours(\n",
    "            z=go.surface.contours.Z(\n",
    "                show=True,\n",
    "                usecolormap=True,\n",
    "                highlightcolor=\"#42f462\",\n",
    "                project=dict(z=True)\n",
    "            )\n",
    "        ))]\n",
    "    layout = go.Layout(\n",
    "        title=title)\n",
    "    fig = go.Figure(data=data, layout=layout)\n",
    "    \n",
    "    return iplot(fig)\n",
    "\n",
    "def plot_line(x, y, title):\n",
    "    trace = [go.Scatter(\n",
    "        x = x,\n",
    "        y = y,\n",
    "        mode = 'lines')]\n",
    "    layout = go.Layout(\n",
    "        title=title)\n",
    "    fig = go.Figure(data=trace, layout=layout)\n",
    "    \n",
    "    return iplot(fig)"
   ]
  },
  {
   "cell_type": "code",
   "execution_count": null,
   "metadata": {},
   "outputs": [],
   "source": [
    "def create_grid(x0, x1, y0, y1, x_steps, y_steps):\n",
    "    x = np.linspace(x0, x1, x_steps)\n",
    "    y = np.linspace(y0, y1, y_steps)\n",
    "    xx, yy = np.meshgrid(x, y)\n",
    "    \n",
    "    return xx, yy, np.dstack((xx, yy))"
   ]
  },
  {
   "cell_type": "markdown",
   "metadata": {},
   "source": [
    "## Exploring Various Optimization Test Functions"
   ]
  },
  {
   "cell_type": "markdown",
   "metadata": {},
   "source": [
    "When testing the effectiveness of optimization algorithms, there is a wide range of functions designed specifically to trick algorithms to pick from. Let's explore some of them.\n",
    "\n",
    "In the equations that will be presented, $d$ represents the number of dimensions. Though the functions will take $d>2$ as inputs, for visualization purposes, $d=2$ in this notebook."
   ]
  },
  {
   "cell_type": "markdown",
   "metadata": {},
   "source": [
    "### Ackley function"
   ]
  },
  {
   "cell_type": "markdown",
   "metadata": {},
   "source": [
    "The first one I present to you is the Ackley function:\n",
    "\n",
    "$$ f(x) = -a\\exp\\bigg(-b\\sqrt{\\frac{1}{d}\\sum_{i=1}^dx_i^2}\\bigg) - \\exp\\bigg(\\frac{1}{d}\\sum_{i=1}^d\\cos(cx_i) \\bigg) + a + \\exp(1)$$\n",
    "\n",
    "The global minimum for the Ackley function of any dimension is at $x=(0,\\dots,0)$."
   ]
  },
  {
   "cell_type": "code",
   "execution_count": null,
   "metadata": {},
   "outputs": [],
   "source": [
    "x = np.linspace(-20, 20, 100)\n",
    "xx, yy = np.meshgrid(x, x)\n",
    "x = np.dstack((xx, yy))\n",
    "\n",
    "zz = ackley(x, a=20, b=0.2, c=2)"
   ]
  },
  {
   "cell_type": "code",
   "execution_count": null,
   "metadata": {},
   "outputs": [],
   "source": [
    "plot_surf(xx, yy, zz, 'Ackley')"
   ]
  },
  {
   "cell_type": "markdown",
   "metadata": {},
   "source": [
    "### Bukin function N.6"
   ]
  },
  {
   "cell_type": "markdown",
   "metadata": {},
   "source": [
    "The sixth Bukin function in $d=2$ is:\n",
    "    \n",
    "$$ f(x) = 100\\sqrt{\\lvert x_2-0.01x_1^2\\lvert} + 0.01\\lvert x_1+10\\lvert $$\n",
    "\n",
    "The global minimum is at $x=(-10,1)$."
   ]
  },
  {
   "cell_type": "code",
   "execution_count": null,
   "metadata": {},
   "outputs": [],
   "source": [
    "x = np.linspace(-15, -5, 200)\n",
    "y = np.linspace(-3, 3, 200)\n",
    "xx, yy = np.meshgrid(x, y)\n",
    "x = np.dstack((xx, yy))"
   ]
  },
  {
   "cell_type": "code",
   "execution_count": null,
   "metadata": {},
   "outputs": [],
   "source": [
    "zz = bukin(x)\n",
    "plot_surf(xx, yy, zz, 'Bukin No.6')"
   ]
  },
  {
   "cell_type": "markdown",
   "metadata": {},
   "source": [
    "### Cross-in-Tray function"
   ]
  },
  {
   "cell_type": "markdown",
   "metadata": {},
   "source": [
    "The Cross-in-Tray function has multiple global minima making it an intersting function to evaluate the performance of optimization algorithms. The function in $d=2$ is:\n",
    "\n",
    "\n",
    "$$ f(x) = -0.0001\\bigg(\\bigg\\lvert \\sin(x_1)\\sin(x_2)\\exp\\bigg(\\bigg\\lvert 100-\\dfrac{\\sqrt{x_1^2+x_2^2}}{\\pi}\\bigg\\lvert\\bigg)\\bigg\\lvert +1)^{0.1} $$\n",
    "\n",
    "The global minima are at $x=(1.3491, -1.3491),(1.3491, 1.3491),(-1.3491, 1.3491),(-1.3491, -1.3491)$"
   ]
  },
  {
   "cell_type": "code",
   "execution_count": null,
   "metadata": {},
   "outputs": [],
   "source": [
    "x = np.linspace(-10, 10, 200)\n",
    "y = np.linspace(-10, 10, 200)\n",
    "xx, yy = np.meshgrid(x, y)\n",
    "x = np.dstack((xx, yy))"
   ]
  },
  {
   "cell_type": "code",
   "execution_count": null,
   "metadata": {},
   "outputs": [],
   "source": [
    "zz = cross_in_tray(x)\n",
    "plot_surf(xx, yy, zz, 'Cross-in-Tray')"
   ]
  },
  {
   "cell_type": "markdown",
   "metadata": {},
   "source": [
    "### Drop-Wave function"
   ]
  },
  {
   "cell_type": "markdown",
   "metadata": {},
   "source": [
    "The drop-wave function in $d=2$ is:\n",
    "\n",
    "$$ f(x)=-\\dfrac{1+\\cos\\bigg(12\\sqrt{x_1^2+x_2^2}\\bigg)}{0.5(x_1^2+x_2^2)+2} $$\n",
    "\n",
    "The global minimum is at $x=(0,0)$."
   ]
  },
  {
   "cell_type": "code",
   "execution_count": null,
   "metadata": {},
   "outputs": [],
   "source": [
    "x = np.linspace(-2, 2, 200)\n",
    "y = np.linspace(-2, 2, 200)\n",
    "xx, yy = np.meshgrid(x, y)\n",
    "x = np.dstack((xx, yy))"
   ]
  },
  {
   "cell_type": "code",
   "execution_count": null,
   "metadata": {},
   "outputs": [],
   "source": [
    "zz = dropwave(x)\n",
    "plot_surf(xx, yy, zz, 'Drop-Wave')"
   ]
  },
  {
   "cell_type": "markdown",
   "metadata": {},
   "source": [
    "### Eggholder function"
   ]
  },
  {
   "cell_type": "markdown",
   "metadata": {},
   "source": [
    "The Eggholder function in $d=2$ is:\n",
    "\n",
    "$$ f(x) = -(x_2+47)\\sin\\bigg(\\sqrt{\\bigg\\lvert x_2+\\dfrac{x_1}{2}+47\\bigg\\lvert}\\bigg)-x_1\\sin(\\sqrt{\\lvert x_1-(x_2+47)\\lvert}) $$\n",
    "\n",
    "The global minima is $x^*=(512,404.2319)$, where $f(x^*)=-959.6407$."
   ]
  },
  {
   "cell_type": "code",
   "execution_count": null,
   "metadata": {},
   "outputs": [],
   "source": [
    "x = np.linspace(-200, 200, 400)\n",
    "y = np.linspace(-200, 200, 400)\n",
    "xx, yy = np.meshgrid(x, y)\n",
    "x = np.dstack((xx, yy))"
   ]
  },
  {
   "cell_type": "code",
   "execution_count": null,
   "metadata": {},
   "outputs": [],
   "source": [
    "zz = eggholder(x)\n",
    "plot_surf(xx, yy, zz, 'Eggholder')"
   ]
  },
  {
   "cell_type": "markdown",
   "metadata": {},
   "source": [
    "### Gramacy & Lee (2012) function"
   ]
  },
  {
   "cell_type": "markdown",
   "metadata": {},
   "source": [
    "This is a simple test function in one-dimension:\n",
    "\n",
    "$$ f(x)=\\dfrac{\\sin(10\\pi x)}{2x}+(x-1)^4 $$"
   ]
  },
  {
   "cell_type": "code",
   "execution_count": null,
   "metadata": {},
   "outputs": [],
   "source": [
    "x = np.linspace(0.5, 3, 200)"
   ]
  },
  {
   "cell_type": "code",
   "execution_count": null,
   "metadata": {},
   "outputs": [],
   "source": [
    "y = gramacylee(x)\n",
    "plot_line(x, y, 'Gramacy & Lee (2012)')"
   ]
  },
  {
   "cell_type": "markdown",
   "metadata": {},
   "source": [
    "### Griewank function"
   ]
  },
  {
   "cell_type": "markdown",
   "metadata": {},
   "source": [
    "The Griewank function in $d$ dimensions is:\n",
    "\n",
    "$$ f(x)=\\sum_{i=1}^d\\dfrac{x_i^2}{4000}-\\prod_{i=1}^d\\cos\\bigg(\\dfrac{x_i}{\\sqrt{i}}\\bigg)+1 $$\n",
    "\n",
    "The global minimum is found at $f(x^*)=0$, where $x^*=(0,\\dots,0)$.\n",
    "\n",
    "The Griewank function is deceptive as there are many widespread local minima that can only be seen by zooming in."
   ]
  },
  {
   "cell_type": "code",
   "execution_count": null,
   "metadata": {},
   "outputs": [],
   "source": [
    "x = np.linspace(-600, 600, 400)\n",
    "y = np.linspace(-600, 600, 400)\n",
    "xx, yy = np.meshgrid(x, y)\n",
    "x = np.dstack((xx, yy))"
   ]
  },
  {
   "cell_type": "code",
   "execution_count": null,
   "metadata": {},
   "outputs": [],
   "source": [
    "zz = griewank(x)\n",
    "plot_surf(xx, yy, zz, 'Griewank')"
   ]
  },
  {
   "cell_type": "markdown",
   "metadata": {},
   "source": [
    "### Holder Table function"
   ]
  },
  {
   "cell_type": "markdown",
   "metadata": {},
   "source": [
    "$$ f(x)=-\\bigg\\lvert\\sin(x_1)\\cos(x_2)\\exp\\bigg(\\bigg\\lvert1-\\dfrac{\\sqrt{x_1^2+x_2^2}}{\\pi}\\bigg\\lvert\\bigg)\\bigg\\lvert $$\n",
    "\n",
    "The Holder Table function has four global minima where $f(x^*)=-19.2085$ at $x=(8.05502,9.66459),(8.05502,-9.66459),(-8.05502,9.66459),(-8.05502,-9.66459)$"
   ]
  },
  {
   "cell_type": "code",
   "execution_count": null,
   "metadata": {},
   "outputs": [],
   "source": [
    "x = np.linspace(-10, 10, 200)\n",
    "y = np.linspace(-10, 10, 200)\n",
    "xx, yy = np.meshgrid(x, y)\n",
    "x = np.dstack((xx, yy))"
   ]
  },
  {
   "cell_type": "code",
   "execution_count": null,
   "metadata": {},
   "outputs": [],
   "source": [
    "zz = holdertable(x)\n",
    "plot_surf(xx, yy, zz, 'Holder Table')"
   ]
  },
  {
   "cell_type": "markdown",
   "metadata": {},
   "source": [
    "### Langermann function"
   ]
  },
  {
   "cell_type": "markdown",
   "metadata": {},
   "source": [
    "$$ f(x)=\\sum_{i=1}^mc_i\\exp\\bigg(-\\dfrac{1}{\\pi}\\sum_{j=1}^d(x_j-A_{ij})^2\\bigg)\\cos\\bigg(\\pi\\sum_{j=1}^d(x_j-A_{ij})^2\\bigg) $$\n",
    "\n",
    "The function is multimodal and has multiple unevenly distributed local minima. The recommended values for $d=2$ are as follows:\n",
    "$$ m=5\\ \\ \\ \\ \\ c=\\begin{bmatrix} 1 \\\\ 2 \\\\ 5 \\\\ 2 \\\\ 3 \\end{bmatrix}\\ \\ \\ \\ \\ A=\\begin{bmatrix} 3 & 5 \\\\ 5 & 2 \\\\ 2 & 1 \\\\ 1 & 4 \\\\ 7 & 9\\end{bmatrix} $$"
   ]
  },
  {
   "cell_type": "code",
   "execution_count": null,
   "metadata": {},
   "outputs": [],
   "source": [
    "m = 5\n",
    "c = np.array([1, 2, 5, 2, 3])\n",
    "A = np.array([[3, 5], [5, 2], [2, 1], [1, 4], [7, 9]])"
   ]
  },
  {
   "cell_type": "code",
   "execution_count": null,
   "metadata": {},
   "outputs": [],
   "source": [
    "zz = langermann(x)\n",
    "plot_surf(xx, yy, zz, 'Langermann')"
   ]
  },
  {
   "cell_type": "markdown",
   "metadata": {},
   "source": [
    "### Levy function"
   ]
  },
  {
   "cell_type": "markdown",
   "metadata": {},
   "source": [
    "$$\\begin{align} f(x) &= \\sin^2(\\pi\\omega_1)+\\sum_{i=1}^{d-1}(\\omega_i-1)^2[1+10\\sin^2(\\pi\\omega_i+1)]+(\\omega_d-1)^2[1+\\sin^2(2\\pi\\omega_d)] \\\\ \\omega_i &= 1+\\dfrac{x_i-1}{4}, \\text{for all}\\ i=1,\\dots,d\n",
    "\\end{align}$$"
   ]
  },
  {
   "cell_type": "code",
   "execution_count": null,
   "metadata": {},
   "outputs": [],
   "source": []
  },
  {
   "cell_type": "code",
   "execution_count": null,
   "metadata": {},
   "outputs": [],
   "source": []
  },
  {
   "cell_type": "markdown",
   "metadata": {},
   "source": [
    "### Levy function N.13"
   ]
  },
  {
   "cell_type": "markdown",
   "metadata": {},
   "source": [
    "$$ f(x)=\\sin^2(3\\pi x_1)+(x_1-1)^2[1+\\sin^2(3\\pi x_2)]+(x_2-1)^2[1+\\sin^2(2\\pi x_2)] $$\n",
    "\n",
    "The global minimum is $f(x^*)=0$ at $x^*=(1,1)$."
   ]
  },
  {
   "cell_type": "code",
   "execution_count": null,
   "metadata": {},
   "outputs": [],
   "source": [
    "x = np.linspace(-10, 10, 200)\n",
    "y = np.linspace(-10, 10, 200)\n",
    "xx, yy = np.meshgrid(x, y)\n",
    "x = np.dstack((xx, yy))"
   ]
  },
  {
   "cell_type": "code",
   "execution_count": null,
   "metadata": {},
   "outputs": [],
   "source": [
    "zz = levy13(x)\n",
    "plot_surf(xx, yy, zz, 'Levy N.13')"
   ]
  },
  {
   "cell_type": "markdown",
   "metadata": {},
   "source": [
    "### Rastrigin function"
   ]
  },
  {
   "cell_type": "code",
   "execution_count": null,
   "metadata": {},
   "outputs": [],
   "source": []
  },
  {
   "cell_type": "code",
   "execution_count": null,
   "metadata": {},
   "outputs": [],
   "source": []
  },
  {
   "cell_type": "code",
   "execution_count": null,
   "metadata": {},
   "outputs": [],
   "source": []
  },
  {
   "cell_type": "markdown",
   "metadata": {},
   "source": [
    "### Schaffer function N.2"
   ]
  },
  {
   "cell_type": "code",
   "execution_count": null,
   "metadata": {},
   "outputs": [],
   "source": []
  },
  {
   "cell_type": "code",
   "execution_count": null,
   "metadata": {},
   "outputs": [],
   "source": []
  },
  {
   "cell_type": "code",
   "execution_count": null,
   "metadata": {},
   "outputs": [],
   "source": []
  },
  {
   "cell_type": "markdown",
   "metadata": {},
   "source": [
    "### Schaffer function N.4"
   ]
  },
  {
   "cell_type": "code",
   "execution_count": null,
   "metadata": {},
   "outputs": [],
   "source": []
  },
  {
   "cell_type": "code",
   "execution_count": null,
   "metadata": {},
   "outputs": [],
   "source": []
  },
  {
   "cell_type": "code",
   "execution_count": null,
   "metadata": {},
   "outputs": [],
   "source": []
  },
  {
   "cell_type": "markdown",
   "metadata": {},
   "source": [
    "### Schwefel function"
   ]
  },
  {
   "cell_type": "code",
   "execution_count": null,
   "metadata": {},
   "outputs": [],
   "source": []
  },
  {
   "cell_type": "code",
   "execution_count": null,
   "metadata": {},
   "outputs": [],
   "source": []
  },
  {
   "cell_type": "code",
   "execution_count": null,
   "metadata": {},
   "outputs": [],
   "source": []
  },
  {
   "cell_type": "markdown",
   "metadata": {},
   "source": [
    "### Shubert function"
   ]
  },
  {
   "cell_type": "code",
   "execution_count": null,
   "metadata": {},
   "outputs": [],
   "source": []
  },
  {
   "cell_type": "code",
   "execution_count": null,
   "metadata": {},
   "outputs": [],
   "source": []
  },
  {
   "cell_type": "code",
   "execution_count": null,
   "metadata": {},
   "outputs": [],
   "source": []
  },
  {
   "cell_type": "markdown",
   "metadata": {},
   "source": [
    "### Rosenbrock function"
   ]
  },
  {
   "cell_type": "markdown",
   "metadata": {},
   "source": [
    "Within the family of optimization test problems, the Rosenbrock function is quite popular. It goes by other names such as the Valley or Banana function.\n",
    "\n",
    "$$ f(x) = \\sum_{i=1}^{d-1}[100(x_{i+1}-x_i^2)^2 + (x_i-1)^2] $$\n",
    "\n",
    "Global minimum:\n",
    "$f(x^*)=0$ at $x^*=(0,\\dots,0)$"
   ]
  },
  {
   "cell_type": "code",
   "execution_count": null,
   "metadata": {},
   "outputs": [],
   "source": [
    "x = np.linspace(-10, 10, 200)\n",
    "y = np.linspace(-10, 10, 200)\n",
    "xx, yy = np.meshgrid(x, y)\n",
    "x = np.dstack((xx, yy))"
   ]
  },
  {
   "cell_type": "code",
   "execution_count": null,
   "metadata": {},
   "outputs": [],
   "source": [
    "zz = rosenbrock(x)\n",
    "plot_surf(xx, yy, zz, 'Rosenbrock')"
   ]
  },
  {
   "cell_type": "markdown",
   "metadata": {},
   "source": [
    "### Beale function"
   ]
  },
  {
   "cell_type": "markdown",
   "metadata": {},
   "source": [
    "$$ f(x)=(1.5-x_1+x_1x_2)^2+(2.25-x_1+x_1x_2^2)^2+(2.625-x_1+x_1x_2^3)^2 $$\n",
    "\n",
    "Global minimum:\n",
    "$f(x^*)=0$ at $x^*=(3,0.5)$"
   ]
  },
  {
   "cell_type": "code",
   "execution_count": null,
   "metadata": {},
   "outputs": [],
   "source": [
    "xx, yy, x = create_grid(-4.5, 4.5, -4.5, 4.5, 90, 90)\n",
    "zz = beale(x)"
   ]
  },
  {
   "cell_type": "code",
   "execution_count": null,
   "metadata": {},
   "outputs": [],
   "source": [
    "plot_surf(xx, yy, zz, 'Beale')"
   ]
  },
  {
   "cell_type": "code",
   "execution_count": null,
   "metadata": {},
   "outputs": [],
   "source": []
  }
 ],
 "metadata": {
  "kernelspec": {
   "display_name": "Python [conda env:num-lin-alg]",
   "language": "python",
   "name": "conda-env-num-lin-alg-py"
  },
  "language_info": {
   "codemirror_mode": {
    "name": "ipython",
    "version": 3
   },
   "file_extension": ".py",
   "mimetype": "text/x-python",
   "name": "python",
   "nbconvert_exporter": "python",
   "pygments_lexer": "ipython3",
   "version": "3.5.6"
  },
  "varInspector": {
   "cols": {
    "lenName": 16,
    "lenType": 16,
    "lenVar": 40
   },
   "kernels_config": {
    "python": {
     "delete_cmd_postfix": "",
     "delete_cmd_prefix": "del ",
     "library": "var_list.py",
     "varRefreshCmd": "print(var_dic_list())"
    },
    "r": {
     "delete_cmd_postfix": ") ",
     "delete_cmd_prefix": "rm(",
     "library": "var_list.r",
     "varRefreshCmd": "cat(var_dic_list()) "
    }
   },
   "types_to_exclude": [
    "module",
    "function",
    "builtin_function_or_method",
    "instance",
    "_Feature"
   ],
   "window_display": false
  }
 },
 "nbformat": 4,
 "nbformat_minor": 2
}
