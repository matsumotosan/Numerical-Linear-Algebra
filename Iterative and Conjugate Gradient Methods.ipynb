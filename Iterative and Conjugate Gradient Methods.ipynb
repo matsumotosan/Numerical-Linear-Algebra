{
 "cells": [
  {
   "cell_type": "markdown",
   "metadata": {},
   "source": [
    "# Iterative and Conjugate Gradient Methods"
   ]
  },
  {
   "cell_type": "markdown",
   "metadata": {},
   "source": [
    "When solving large linear systems, iterative methods are typically able to produce solutions that converge faster than do direct methods. This notebook provides an overview of the variety of iterative methods that have been developed including discussions of their rates of convergence:\n",
    "\n",
    "1. Classical methods\n",
    "    1. Jacobi\n",
    "    2. Gauss-Seidel\n",
    "    3. Successive over-relaxation (SOR)\n",
    "    4. Symmetric successive over-relaxation (SSOR)\n",
    "    5. Chebyshev\n",
    "2. Krylov subspace methods\n",
    "3. Conjugate gradient methods\n",
    "\n",
    "This notebook is an important precursor to the 'Preconditioner Series' which assumes a working knowledge of iterative methods.\n",
    "\n",
    "Many of the formulas and notations used are from [Matrix Computations by Gene H. Golub and Charles F. Van Loan (4th Ed.)](https://www.amazon.com/Computations-Hopkins-Studies-Mathematical-Sciences/dp/1421407949)"
   ]
  },
  {
   "cell_type": "markdown",
   "metadata": {},
   "source": [
    "## Imports"
   ]
  },
  {
   "cell_type": "code",
   "execution_count": 65,
   "metadata": {
    "pycharm": {
     "is_executing": false
    }
   },
   "outputs": [
    {
     "data": {
      "text/plain": [
       "'%.5f'"
      ]
     },
     "execution_count": 65,
     "metadata": {},
     "output_type": "execute_result"
    }
   ],
   "source": [
    "import numpy as np\n",
    "import matplotlib.pyplot as plt\n",
    "from scipy.linalg import solve_triangular\n",
    "from sklearn.datasets import make_spd_matrix\n",
    "\n",
    "%precision 5"
   ]
  },
  {
   "cell_type": "markdown",
   "metadata": {},
   "source": [
    "## Classical methods"
   ]
  },
  {
   "cell_type": "markdown",
   "metadata": {},
   "source": [
    "### Jacobi method"
   ]
  },
  {
   "cell_type": "markdown",
   "metadata": {},
   "source": [
    "For a 3-by-3 linear system $Ax=b$,\n",
    "\n",
    "$$ \\begin{bmatrix} a_{11} & a_{12} & a_{13} \\\\ a_{21} & a_{22} & a_{23} \\\\\n",
    "a_{31} & a_{32} & a_{33} \\end{bmatrix} \\begin{bmatrix} x_1 \\\\ x_2 \\\\ x_3\n",
    "\\end{bmatrix} = \\begin{bmatrix} b_1 \\\\ b_2 \\\\ b_3 \\end{bmatrix} $$\n",
    "\n",
    "the equation can be rearranged to express $x_1$, $x_2$, and $x_3$ in terms of the other variables:\n",
    "\n",
    "$$ \\begin{align} x_1 &= (b_1-a_{12}x_2-a_{13}x_3)/a_{11} \\\\ x_2 &= (b_2-a_{21}x_1-a_{23}x_3)/a_{22} \\\\ x_3 &= (b_3-a_{31}x_1-a_{32}x_2)/a_{33} \\end{align} $$\n",
    "\n",
    "All three equations have $x_i$ on both sides of the equal sign, and this can be interpreted as saying that the current approximation of $x_i$, $x_i^{(k-1)}$, is being used to calculate a new approximation of $x_i$, $x_i^{(k)}$. Rewritten the equations from above become:\n",
    "\n",
    "$$ \\begin{align} x_1^{(k)} &= (b_1-a_{12}x_2^{(k-1)}-a_{13}x_3^{(k-1)})/a_{11} \\\\ x_2^{(k)} &= (b_2-a_{21}x_1^{(k-1)}-a_{23}x_3^{(k-1)})/a_{22} \\\\ x_3^{(k)} &= (b_3-a_{31}x_1^{(k-1)}-a_{32}x_2^{(k-1)})/a_{33} \\end{align} $$\n",
    "\n",
    "These equations can be written in matrix form using three matrices $D_A$ (main diagonal), $L_A$ (lower triangular), and $U_A$ (upper triangular) such that $A=D_A+L_A+U_A$. Note that $L_A$ and $U_A$ do not include the main diagonal. \n",
    "\n",
    "Below is the linear system represented in matrix form:\n",
    "\n",
    "$$ M_Jx^{(k)}=N_Jx^{(k-1)}+b $$\n",
    "\n",
    "where $M_J=D_A$ and $N_J=-(L_A+U_A)$.\n",
    "\n",
    "Rearranging the equation to calculate $x^{(k)}$ yields:\n",
    "\n",
    "$$ x^{(k)}=M_J^{-1}(N_Jx^{(k-1)}+b) $$"
   ]
  },
  {
   "cell_type": "code",
   "execution_count": 55,
   "metadata": {
    "pycharm": {
     "is_executing": false
    }
   },
   "outputs": [],
   "source": [
    "def jacobi(A, x0, b, rtol=1e-5, atol=1e-8, max_iter=1000):\n",
    "    \n",
    "    # find inverse of diagonal matrix and off-diagonal matrix\n",
    "    D_inv, R = np.diag(np.reciprocal(np.diagonal(A).astype(float))), A - np.diag(np.diagonal(A))\n",
    "    \n",
    "    i = 0\n",
    "    x = np.array([x0])\n",
    "    \n",
    "    # loop for max_iter iterations or until converged\n",
    "    while (i < max_iter):\n",
    "        x = np.vstack((x, D_inv @ (b - R @ x[-1])))\n",
    "        i += 1\n",
    "        \n",
    "        # test convergence\n",
    "        if (np.allclose(x[-1], x[-2], rtol, atol)):\n",
    "            print('Iterations:' + str(i))\n",
    "            return x\n",
    "        \n",
    "    # solution did not converge\n",
    "    print('Maximum number of iterations reached. Did not converge.')"
   ]
  },
  {
   "cell_type": "markdown",
   "metadata": {},
   "source": [
    "Here, a linear system if defined for which the solution is known: $x=\\begin{bmatrix} 1 & 2 & -1 & 1\\end{bmatrix}$"
   ]
  },
  {
   "cell_type": "code",
   "execution_count": 56,
   "metadata": {
    "pycharm": {
     "is_executing": false
    }
   },
   "outputs": [
    {
     "name": "stdout",
     "output_type": "stream",
     "text": [
      "Iterations:15\n"
     ]
    },
    {
     "data": {
      "text/plain": [
       "array([[ 1.    ,  1.    ,  1.    ,  1.    ],\n",
       "       [ 0.5   ,  2.1818, -1.1   ,  1.625 ],\n",
       "       [ 1.0382,  1.775 , -0.8193,  0.9193],\n",
       "       [ 0.9414,  2.0419, -1.0382,  1.107 ],\n",
       "       [ 1.0118,  1.962 , -0.9734,  0.9795],\n",
       "       [ 0.9909,  2.0091, -1.0082,  1.0176],\n",
       "       [ 1.0026,  1.9936, -0.9955,  0.9956],\n",
       "       [ 0.9985,  2.0018, -1.0016,  1.0029],\n",
       "       [ 1.0005,  1.9989, -0.9992,  0.9991],\n",
       "       [ 0.9997,  2.0004, -1.0003,  1.0005],\n",
       "       [ 1.0001,  1.9998, -0.9999,  0.9998],\n",
       "       [ 1.    ,  2.0001, -1.0001,  1.0001],\n",
       "       [ 1.    ,  2.    , -1.    ,  1.    ],\n",
       "       [ 1.    ,  2.    , -1.    ,  1.    ],\n",
       "       [ 1.    ,  2.    , -1.    ,  1.    ],\n",
       "       [ 1.    ,  2.    , -1.    ,  1.    ]])"
      ]
     },
     "execution_count": 56,
     "metadata": {},
     "output_type": "execute_result"
    }
   ],
   "source": [
    "A = np.array([[10., -1., 2., 0.],\n",
    "              [-1., 11., -1., 3.],\n",
    "              [2., -1., 10., -1.],\n",
    "              [0.0, 3., -1., 8.]])\n",
    "\n",
    "b = np.array([6., 25., -11., 15.])\n",
    "x0 = np.ones_like(b)\n",
    "\n",
    "x = jacobi(A, x0, b); x"
   ]
  },
  {
   "cell_type": "markdown",
   "metadata": {
    "pycharm": {
     "name": "#%% md\n"
    }
   },
   "source": [
    "Plot solution evolution"
   ]
  },
  {
   "cell_type": "code",
   "execution_count": 57,
   "metadata": {
    "pycharm": {
     "is_executing": false,
     "name": "#%%\n"
    }
   },
   "outputs": [
    {
     "data": {
      "image/png": "[encoded data removed]",
      "text/plain": [
       "<Figure size 432x288 with 1 Axes>"
      ]
     },
     "metadata": {
      "needs_background": "light"
     },
     "output_type": "display_data"
    }
   ],
   "source": [
    "plt.imshow(x, interpolation='nearest');\n",
    "plt.title('Jacobi')\n",
    "plt.xticks(np.arange(len(b)));"
   ]
  },
  {
   "cell_type": "markdown",
   "metadata": {},
   "source": [
    "### Gauss-Seidel method"
   ]
  },
  {
   "cell_type": "markdown",
   "metadata": {},
   "source": [
    "The Gauss-Seidel method makes a small change to the Jacobi method: it uses the iterate previously calculated to calculate the next iterate. In other words, $x_1^{(k)}$ is plugged into the formula in place of $x_1^{(k-1)}$ to calculate $x_2^{(k)}$. Then, both $x_1^{(k)}$ and $x_2^{(k)}$ are used to calculate $x_3^{(k)}$.\n",
    "\n",
    "In matrix form, the equations become:\n",
    "\n",
    "$$ M_{GS}x^{(k)}=N_{GS}x^{(k-1)}+b $$\n",
    "\n",
    "where $M_{GS}=D_A+L_A$ and $N_{GS}=-U_A$.\n",
    "\n",
    "Because $M_{GS}$ is a lower triangular matrix, $x^{(k)}$ can be calculated  by forward substitution."
   ]
  },
  {
   "cell_type": "code",
   "execution_count": 58,
   "metadata": {
    "pycharm": {
     "is_executing": false
    }
   },
   "outputs": [],
   "source": [
    "def gauss_seidel(A, x0, b, rtol=1e-5, atol=1e-8, max_iter=10000):\n",
    "    M, N = np.tril(A), -np.triu(A, 1)\n",
    "    \n",
    "    i = 0\n",
    "    x = np.array([x0])\n",
    "    \n",
    "    # loop for max_iter iterations or until converged\n",
    "    while (i < max_iter):\n",
    "        x = np.vstack((x, solve_triangular(M, N @ x[-1] + b, lower=True)))\n",
    "        i += 1\n",
    "            \n",
    "        # test convergence\n",
    "        if (np.allclose(x[-1], x[-2], rtol, atol)):\n",
    "            print('Iterations:' + str(i))\n",
    "            return x\n",
    "        \n",
    "    # solution did not converge\n",
    "    print('Maximum number of iterations reached. Did not converge.')"
   ]
  },
  {
   "cell_type": "markdown",
   "metadata": {},
   "source": [
    "The same linear system of equations is solved."
   ]
  },
  {
   "cell_type": "code",
   "execution_count": 59,
   "metadata": {
    "pycharm": {
     "is_executing": false
    }
   },
   "outputs": [
    {
     "name": "stdout",
     "output_type": "stream",
     "text": [
      "Iterations:7\n"
     ]
    },
    {
     "data": {
      "text/plain": [
       "array([[ 1.    ,  1.    ,  1.    ,  1.    ],\n",
       "       [ 0.5   ,  2.1364, -0.8864,  0.9631],\n",
       "       [ 0.9909,  2.0196, -0.9999,  0.9927],\n",
       "       [ 1.0019,  2.0022, -1.0009,  0.9991],\n",
       "       [ 1.0004,  2.0002, -1.0002,  0.9999],\n",
       "       [ 1.0001,  2.    , -1.    ,  1.    ],\n",
       "       [ 1.    ,  2.    , -1.    ,  1.    ],\n",
       "       [ 1.    ,  2.    , -1.    ,  1.    ]])"
      ]
     },
     "execution_count": 59,
     "metadata": {},
     "output_type": "execute_result"
    }
   ],
   "source": [
    "x = gauss_seidel(A, x0, b); x"
   ]
  },
  {
   "cell_type": "code",
   "execution_count": 60,
   "metadata": {
    "pycharm": {
     "is_executing": false,
     "name": "#%%\n"
    }
   },
   "outputs": [
    {
     "data": {
      "image/png": "[encoded data removed]",
      "text/plain": [
       "<Figure size 432x288 with 1 Axes>"
      ]
     },
     "metadata": {
      "needs_background": "light"
     },
     "output_type": "display_data"
    }
   ],
   "source": [
    "plt.imshow(x, interpolation='nearest');\n",
    "plt.title('Gauss-Seidel');\n",
    "plt.xticks(np.arange(len(b)));"
   ]
  },
  {
   "cell_type": "markdown",
   "metadata": {},
   "source": [
    "### Successive over-relaxation (SOR)"
   ]
  },
  {
   "cell_type": "markdown",
   "metadata": {},
   "source": [
    "In SSOR, $A$ is split such that $A=M_\\omega - N_\\omega$ where\n",
    "\n",
    "$$ M_\\omega = \\frac{1}{\\omega}D_A+L_A \\ \\ \\ \\ N_\\omega = \\bigg(\\frac{1}{\\omega}-1\\bigg)D_A+U_A \\ \\ \\ \\ 0 < \\omega \\leq1$$\n",
    "\n",
    "The matrix form of the equations is then\n",
    "\n",
    "$$ \\bigg(\\frac{1}{\\omega}D_A+L_A\\bigg)x^{(k)} = \\bigg(\\bigg(\\frac{1}{\\omega}-1\\bigg)D_A+U_A\\bigg)x^{(k-1)}+b $$\n",
    "\n",
    "For $\\omega=1$, the SOR method is simply the Gauss-Seidel method."
   ]
  },
  {
   "cell_type": "code",
   "execution_count": 61,
   "metadata": {},
   "outputs": [],
   "source": [
    "def sor(A, x0, b, omega=0.5, rtol=1e-5, atol=1e-8, max_iter=10000):\n",
    "    M, N = np.diag(np.diag(A)) / omega + np.tril(A, -1), (1 / omega - 1) * np.diag(np.diag(A)) - np.triu(A, 1)\n",
    "    \n",
    "    i = 0\n",
    "    x = np.array([x0])\n",
    "    \n",
    "    # loop for max_iter iterations or until converged\n",
    "    while (i < max_iter):\n",
    "        x = np.vstack((x, solve_triangular(M, N @ x[-1] + b, lower=True)))\n",
    "        i += 1\n",
    "            \n",
    "        # test convergence\n",
    "        if (np.allclose(x[-1], x[-2], rtol, atol)):\n",
    "            print('Iterations:' + str(i))\n",
    "            return x\n",
    "        \n",
    "    # solution did not converge\n",
    "    print('Maximum number of iterations reached. Did not converge.')"
   ]
  },
  {
   "cell_type": "markdown",
   "metadata": {},
   "source": [
    "Here, the SOR method is run using a range of values for $\\omega$."
   ]
  },
  {
   "cell_type": "code",
   "execution_count": 62,
   "metadata": {},
   "outputs": [
    {
     "name": "stdout",
     "output_type": "stream",
     "text": [
      "omega: 0.1\n",
      "Iterations:125\n",
      "\n",
      "omega: 0.2\n",
      "Iterations:64\n",
      "\n",
      "omega: 0.30000000000000004\n",
      "Iterations:42\n",
      "\n",
      "omega: 0.4\n",
      "Iterations:31\n",
      "\n",
      "omega: 0.5\n",
      "Iterations:23\n",
      "\n",
      "omega: 0.6\n",
      "Iterations:18\n",
      "\n",
      "omega: 0.7000000000000001\n",
      "Iterations:15\n",
      "\n",
      "omega: 0.8\n",
      "Iterations:12\n",
      "\n",
      "omega: 0.9\n",
      "Iterations:9\n",
      "\n"
     ]
    }
   ],
   "source": [
    "omega = np.arange(0.1, 1, 0.1)\n",
    "for o in omega:\n",
    "    print('omega: ' + str(o))\n",
    "    sor(A, x0, b, o)\n",
    "    print()"
   ]
  },
  {
   "cell_type": "markdown",
   "metadata": {},
   "source": [
    "### Symmetric successive over-relaxation (SSOR)"
   ]
  },
  {
   "cell_type": "markdown",
   "metadata": {},
   "source": [
    "In the case that $A$ is symmetric, SSOR can be used"
   ]
  },
  {
   "cell_type": "code",
   "execution_count": null,
   "metadata": {},
   "outputs": [],
   "source": [
    "def ssor():"
   ]
  },
  {
   "cell_type": "code",
   "execution_count": null,
   "metadata": {},
   "outputs": [],
   "source": [
    "x = ssor(A, x0, b); x"
   ]
  },
  {
   "cell_type": "markdown",
   "metadata": {},
   "source": [
    "### Chebyshev method"
   ]
  },
  {
   "cell_type": "markdown",
   "metadata": {},
   "source": []
  },
  {
   "cell_type": "code",
   "execution_count": null,
   "metadata": {},
   "outputs": [],
   "source": [
    "def chebyshev():"
   ]
  },
  {
   "cell_type": "code",
   "execution_count": null,
   "metadata": {},
   "outputs": [],
   "source": [
    "x = chebyshev(A, x0, b); x"
   ]
  },
  {
   "cell_type": "markdown",
   "metadata": {},
   "source": [
    "## Krylov subspace methods"
   ]
  },
  {
   "cell_type": "markdown",
   "metadata": {},
   "source": []
  },
  {
   "cell_type": "markdown",
   "metadata": {},
   "source": [
    "### Conjugate gradient (CG) methods"
   ]
  },
  {
   "cell_type": "markdown",
   "metadata": {},
   "source": [
    "CG methods are a classic set of methods applicable to **symmetric positive definite** systems. They can be derived through a variety of avenues: \n",
    "\n",
    "1. Steepest descent\n",
    "2. Krylov subscpaces\n",
    "3. Lanczos process\n",
    "4. Tridiagonal system solving\n",
    "\n",
    "For $Ax=b$ with $A$ being symmetric positive definite, the goal is to find $x$ such that the following optimization problem is solved:\n",
    "\n",
    "$$ \\min_{x \\in \\mathbb{R}^n} \\frac{1}{2}x^TAx - x^Tb $$"
   ]
  },
  {
   "cell_type": "markdown",
   "metadata": {},
   "source": [
    "#### Steepest descent with exact linear search"
   ]
  },
  {
   "cell_type": "markdown",
   "metadata": {},
   "source": []
  },
  {
   "cell_type": "code",
   "execution_count": 83,
   "metadata": {},
   "outputs": [],
   "source": [
    "def steepest(A, x0, b, tau):\n",
    "    x = np.array([x0])\n",
    "    g = A @ x0 - b\n",
    "    \n",
    "    while (np.linalg.norm(g) > tau):\n",
    "        mu = (g.T @ g) / (g.T @ A @ g) \n",
    "        x = np.vstack((x, x[-1] - mu * g))\n",
    "        g = A @ x[-1] - b\n",
    "    \n",
    "    return x"
   ]
  },
  {
   "cell_type": "code",
   "execution_count": 90,
   "metadata": {},
   "outputs": [
    {
     "data": {
      "text/plain": [
       "array([[ 1.     ,  1.     ,  1.     ,  1.     ,  1.     ],\n",
       "       [ 1.33456,  1.0823 ,  0.10541,  0.39329,  0.48622],\n",
       "       [ 1.6801 ,  1.66902,  0.75604,  0.32952, -0.25235],\n",
       "       [ 1.71198,  1.67961,  0.66801,  0.2694 , -0.30139],\n",
       "       [ 1.73811,  1.75884,  0.72915,  0.25763, -0.36265],\n",
       "       [ 1.74131,  1.76006,  0.72003,  0.25137, -0.36761],\n",
       "       [ 1.74323,  1.76933,  0.72606,  0.24971, -0.3731 ],\n",
       "       [ 1.74356,  1.76946,  0.7251 ,  0.24905, -0.37362],\n",
       "       [ 1.74369,  1.77048,  0.72572,  0.24883, -0.37415],\n",
       "       [ 1.74372,  1.77049,  0.72562,  0.24876, -0.37421],\n",
       "       [ 1.74373,  1.7706 ,  0.72568,  0.24873, -0.37426],\n",
       "       [ 1.74374,  1.77061,  0.72567,  0.24873, -0.37427]])"
      ]
     },
     "execution_count": 90,
     "metadata": {},
     "output_type": "execute_result"
    }
   ],
   "source": [
    "A = make_spd_matrix(5)\n",
    "b = np.random.rand(5)\n",
    "x0 = np.ones_like(b)\n",
    "tau = 1e-5\n",
    "\n",
    "x = steepest(A, x0, b, tau); x"
   ]
  },
  {
   "cell_type": "code",
   "execution_count": 94,
   "metadata": {},
   "outputs": [
    {
     "data": {
      "text/plain": [
       "(array([0.73985, 0.8897 , 0.8563 , 0.41465, 0.02021]),\n",
       " array([0.73985, 0.88971, 0.8563 , 0.41464, 0.02021]),\n",
       " True)"
      ]
     },
     "execution_count": 94,
     "metadata": {},
     "output_type": "execute_result"
    }
   ],
   "source": [
    "A @ x[-1], b, np.allclose(A @ x[-1], b, atol=tau)"
   ]
  },
  {
   "cell_type": "markdown",
   "metadata": {},
   "source": [
    "#### Krylov subspace"
   ]
  },
  {
   "cell_type": "markdown",
   "metadata": {},
   "source": []
  },
  {
   "cell_type": "code",
   "execution_count": null,
   "metadata": {},
   "outputs": [],
   "source": []
  },
  {
   "cell_type": "markdown",
   "metadata": {},
   "source": [
    "#### Lanczos process"
   ]
  },
  {
   "cell_type": "markdown",
   "metadata": {},
   "source": []
  },
  {
   "cell_type": "code",
   "execution_count": null,
   "metadata": {},
   "outputs": [],
   "source": []
  },
  {
   "cell_type": "markdown",
   "metadata": {},
   "source": [
    "## Resources"
   ]
  },
  {
   "cell_type": "markdown",
   "metadata": {},
   "source": [
    "[Matrix Computations by Gene H. Golub and Charles F. Van Loan (4th Ed.)](https://www.amazon.com/Computations-Hopkins-Studies-Mathematical-Sciences/dp/1421407949)"
   ]
  }
 ],
 "metadata": {
  "kernelspec": {
   "display_name": "Python [conda env:num-lin-alg]",
   "language": "python",
   "name": "conda-env-num-lin-alg-py"
  },
  "language_info": {
   "codemirror_mode": {
    "name": "ipython",
    "version": 3
   },
   "file_extension": ".py",
   "mimetype": "text/x-python",
   "name": "python",
   "nbconvert_exporter": "python",
   "pygments_lexer": "ipython3",
   "version": "3.5.6"
  },
  "pycharm": {
   "stem_cell": {
    "cell_type": "raw",
    "metadata": {
     "collapsed": false
    },
    "source": []
   }
  },
  "varInspector": {
   "cols": {
    "lenName": 16,
    "lenType": 16,
    "lenVar": 40
   },
   "kernels_config": {
    "python": {
     "delete_cmd_postfix": "",
     "delete_cmd_prefix": "del ",
     "library": "var_list.py",
     "varRefreshCmd": "print(var_dic_list())"
    },
    "r": {
     "delete_cmd_postfix": ") ",
     "delete_cmd_prefix": "rm(",
     "library": "var_list.r",
     "varRefreshCmd": "cat(var_dic_list()) "
    }
   },
   "types_to_exclude": [
    "module",
    "function",
    "builtin_function_or_method",
    "instance",
    "_Feature"
   ],
   "window_display": false
  }
 },
 "nbformat": 4,
 "nbformat_minor": 2
}
