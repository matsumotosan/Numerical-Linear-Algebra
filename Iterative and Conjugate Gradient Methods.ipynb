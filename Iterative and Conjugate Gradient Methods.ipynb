{
 "cells": [
  {
   "cell_type": "markdown",
   "metadata": {},
   "source": [
    "# Iterative and Conjugate Gradient Methods"
   ]
  },
  {
   "cell_type": "markdown",
   "metadata": {},
   "source": [
    "When solving large linear systems, iterative methods are typically able to produce solutions that converge faster than do direct methods. This notebook provides an overview of the variety of iterative methods that have been developed:\n",
    "\n",
    "1. Classical methods\n",
    "    1. Jacobi\n",
    "    2. Gauss-Seidel\n",
    "    3. Successive over-relaxation\n",
    "    4. Chebyshev\n",
    "2. Krylov subspace methods\n",
    "3. Conjugate gradient methods\n",
    "\n",
    "This notebook is an important precursor to the 'Preconditioner Series' which assumes a working knowledge of iterative methods.\n",
    "\n",
    "Many of the formulas and notations used are from [Matrix Computations by Gene H. Golub and Charles F. Van Loan (4th Ed.)](https://www.amazon.com/Computations-Hopkins-Studies-Mathematical-Sciences/dp/1421407949)"
   ]
  },
  {
   "cell_type": "markdown",
   "metadata": {},
   "source": [
    "## Imports"
   ]
  },
  {
   "cell_type": "code",
   "execution_count": 29,
   "metadata": {},
   "outputs": [],
   "source": [
    "import numpy as np\n",
    "from scipy.linalg import solve_triangular\n",
    "import matplotlib.pyplot as plt"
   ]
  },
  {
   "cell_type": "markdown",
   "metadata": {},
   "source": [
    "## Classical methods"
   ]
  },
  {
   "cell_type": "markdown",
   "metadata": {},
   "source": [
    "### Jacobi method"
   ]
  },
  {
   "cell_type": "markdown",
   "metadata": {},
   "source": [
    "For a 3-by-3 linear system $Ax=b$,\n",
    "\n",
    "$$ \\begin{bmatrix} a_{11} & a_{12} & a_{13} \\\\ a_{21} & a_{22} & a_{23} \\\\\n",
    "a_{31} & a_{32} & a_{33} \\end{bmatrix} \\begin{bmatrix} x_1 \\\\ x_2 \\\\ x_3\n",
    "\\end{bmatrix} = \\begin{bmatrix} b_1 \\\\ b_2 \\\\ b_3 \\end{bmatrix} $$\n",
    "\n",
    "the equation can be rearranged to express $x_1$, $x_2$, and $x_3$ in terms of the other variables:\n",
    "\n",
    "$$ \\begin{align} x_1 &= (b_1-a_{12}x_2-a_{13}x_3)/a_{11} \\\\ x_2 &= (b_2-a_{21}x_1-a_{23}x_3)/a_{22} \\\\ x_3 &= (b_3-a_{31}x_1-a_{32}x_2)/a_{33} \\end{align} $$\n",
    "\n",
    "All three equations have $x_i$ on both sides of the equal sign, and this can be interpreted as saying that the current approximation of $x_i$, $x_i^{(k-1)}$, is being used to calculate a new approximation of $x_i$, $x_i^{(k)}$. Rewritten the equations from above become:\n",
    "\n",
    "$$ \\begin{align} x_1^{(k)} &= (b_1-a_{12}x_2^{(k-1)}-a_{13}x_3^{(k-1)})/a_{11} \\\\ x_2^{(k)} &= (b_2-a_{21}x_1^{(k-1)}-a_{23}x_3^{(k-1)})/a_{22} \\\\ x_3^{(k)} &= (b_3-a_{31}x_1^{(k-1)}-a_{32}x_2^{(k-1)})/a_{33} \\end{align} $$\n",
    "\n",
    "These equations can be written in matrix form using three matrices $D_A$ (main diagonal), $L_A$ (lower triangular), and $U_A$ (upper triangular) such that $A=D_A+L_A+U_A$. Note that $L_A$ and $U_A$ do not include the main diagonal. Below is the linear system represented in matrix form:\n",
    "\n",
    "$$ M_Jx^{(k)}=N_Jx^{(k-1)}+b $$\n",
    "\n",
    "where $M_J=D_A$ and $N_J=-(L_A+U_A)$. Rearranging the equation to calculate $x^{(k)}$ yields:\n",
    "\n",
    "$$ x^{(k)}=M_J^{-1}(N_Jx^{(k-1)}+b) $$"
   ]
  },
  {
   "cell_type": "code",
   "execution_count": 40,
   "metadata": {},
   "outputs": [],
   "source": [
    "def jacobi(A, x0, b, rtol=1e-5, atol=1e-8, max_iter=10000):\n",
    "    \n",
    "    # find inverse of diagonal matrix and off-diagonal matrix\n",
    "    D_inv, R = np.diag(np.reciprocal(np.diagonal(A).astype(float))), A - np.diag(np.diagonal(A))\n",
    "    \n",
    "    i = 0\n",
    "    x = x0\n",
    "    \n",
    "    # loop for max_iter iterations or until converged\n",
    "    while (i < max_iter):\n",
    "        x_new = D_inv @ (b - R @ x)\n",
    "        i += 1\n",
    "        \n",
    "        # test convergence\n",
    "        if (np.allclose(x, x_new, rtol, atol)):\n",
    "            print('Iterations:' + str(i))\n",
    "            return x_new\n",
    "        \n",
    "        # prep for next iteration\n",
    "        x = x_new\n",
    "        \n",
    "    # solution did not converge\n",
    "    print('Maximum number of iterations reached. Did not converge.')"
   ]
  },
  {
   "cell_type": "markdown",
   "metadata": {},
   "source": [
    "Here, a linear system if defined for which the solution is known: $x=\\begin{bmatrix} 1 & 2 & -1 & 1\\end{bmatrix}$"
   ]
  },
  {
   "cell_type": "code",
   "execution_count": 41,
   "metadata": {},
   "outputs": [
    {
     "name": "stdout",
     "output_type": "stream",
     "text": [
      "Iterations:15\n"
     ]
    },
    {
     "data": {
      "text/plain": [
       "array([ 0.9999985 ,  2.00000237, -1.00000187,  1.0000028 ])"
      ]
     },
     "execution_count": 41,
     "metadata": {},
     "output_type": "execute_result"
    }
   ],
   "source": [
    "A = np.array([[10., -1., 2., 0.],\n",
    "              [-1., 11., -1., 3.],\n",
    "              [2., -1., 10., -1.],\n",
    "              [0.0, 3., -1., 8.]])\n",
    "\n",
    "b = np.array([6., 25., -11., 15.])\n",
    "x0 = np.ones_like(b)\n",
    "\n",
    "x = jacobi(A, x0, b); x"
   ]
  },
  {
   "cell_type": "markdown",
   "metadata": {},
   "source": [
    "### Gauss-Seidel method"
   ]
  },
  {
   "cell_type": "markdown",
   "metadata": {},
   "source": [
    "The Gauss-Seidel method makes a small change to the Jacobi method: it uses the iterate previously calculated to calculate the next iterate. In other words, $x_1^{(k)}$ is plugged into the formula in place of $x_1^{(k-1)}$ to calculate $x_2^{(k)}$. Then, both $x_1^{(k)}$ and $x_2^{(k)}$ are used to calculate $x_3^{(k)}$.\n",
    "\n",
    "In matrix form, the equations become:\n",
    "\n",
    "$$ M_{GS}x^{(k)}=N_{GS}x^{(k-1)}+b $$\n",
    "\n",
    "where $M_{GS}=D_A+L_A$ and $N_{GS}=-U_A$.\n",
    "\n",
    "Because $M_{GS}$ is a lower triangular matrix, $x^{(k)}$ can be calculated  by forward substitution."
   ]
  },
  {
   "cell_type": "code",
   "execution_count": 43,
   "metadata": {},
   "outputs": [],
   "source": [
    "def gauss_seidel(A, x0, b, rtol=1e-8, atol=1e-8, max_iter=10000):\n",
    "    M, N = np.tril(A), -np.triu(A, 1)\n",
    "    \n",
    "    i = 0\n",
    "    x = x0\n",
    "    \n",
    "    # loop for max_iter iterations or until converged\n",
    "    while (i < max_iter):\n",
    "        x_new = solve_triangular(M, N @ x + b, lower=True)\n",
    "        i += 1\n",
    "            \n",
    "        # test convergence\n",
    "        if (np.allclose(x, x_new, rtol, atol)):\n",
    "            print('Iterations:' + str(i))\n",
    "            return x_new\n",
    "        \n",
    "        # prep for next iteration\n",
    "        x = x_new\n",
    "        \n",
    "    # solution did not converge\n",
    "    print('Maximum number of iterations reached. Did not converge.')"
   ]
  },
  {
   "cell_type": "markdown",
   "metadata": {},
   "source": [
    "The same linear system of equations is solved."
   ]
  },
  {
   "cell_type": "code",
   "execution_count": 44,
   "metadata": {},
   "outputs": [
    {
     "name": "stdout",
     "output_type": "stream",
     "text": [
      "Iterations:10\n"
     ]
    },
    {
     "data": {
      "text/plain": [
       "array([ 1.,  2., -1.,  1.])"
      ]
     },
     "execution_count": 44,
     "metadata": {},
     "output_type": "execute_result"
    }
   ],
   "source": [
    "x = gauss_seidel(A, x0, b); x"
   ]
  },
  {
   "cell_type": "markdown",
   "metadata": {},
   "source": [
    "### Successive over-relaxation"
   ]
  },
  {
   "cell_type": "markdown",
   "metadata": {},
   "source": []
  },
  {
   "cell_type": "code",
   "execution_count": null,
   "metadata": {},
   "outputs": [],
   "source": [
    "def sor():"
   ]
  },
  {
   "cell_type": "code",
   "execution_count": null,
   "metadata": {},
   "outputs": [],
   "source": [
    "x = sor(A, x0, b); x"
   ]
  },
  {
   "cell_type": "markdown",
   "metadata": {},
   "source": [
    "### Chebyshev method"
   ]
  },
  {
   "cell_type": "markdown",
   "metadata": {},
   "source": []
  },
  {
   "cell_type": "code",
   "execution_count": null,
   "metadata": {},
   "outputs": [],
   "source": [
    "def chebyshev():"
   ]
  },
  {
   "cell_type": "code",
   "execution_count": null,
   "metadata": {},
   "outputs": [],
   "source": [
    "x = chebyshev(A, x0, b); x"
   ]
  },
  {
   "cell_type": "markdown",
   "metadata": {},
   "source": [
    "## Krylov subspace methods"
   ]
  },
  {
   "cell_type": "markdown",
   "metadata": {},
   "source": []
  },
  {
   "cell_type": "code",
   "execution_count": null,
   "metadata": {},
   "outputs": [],
   "source": []
  },
  {
   "cell_type": "markdown",
   "metadata": {},
   "source": [
    "## Conjugate gradient methods"
   ]
  },
  {
   "cell_type": "markdown",
   "metadata": {},
   "source": []
  },
  {
   "cell_type": "markdown",
   "metadata": {},
   "source": [
    "## Resources"
   ]
  },
  {
   "cell_type": "markdown",
   "metadata": {},
   "source": [
    "[Matrix Computations by Gene H. Golub and Charles F. Van Loan (4th Ed.)](https://www.amazon.com/Computations-Hopkins-Studies-Mathematical-Sciences/dp/1421407949)"
   ]
  }
 ],
 "metadata": {
  "kernelspec": {
   "display_name": "Python [conda env:num-lin-alg]",
   "language": "python",
   "name": "conda-env-num-lin-alg-py"
  },
  "language_info": {
   "codemirror_mode": {
    "name": "ipython",
    "version": 3
   },
   "file_extension": ".py",
   "mimetype": "text/x-python",
   "name": "python",
   "nbconvert_exporter": "python",
   "pygments_lexer": "ipython3",
   "version": "3.5.6"
  },
  "varInspector": {
   "cols": {
    "lenName": 16,
    "lenType": 16,
    "lenVar": 40
   },
   "kernels_config": {
    "python": {
     "delete_cmd_postfix": "",
     "delete_cmd_prefix": "del ",
     "library": "var_list.py",
     "varRefreshCmd": "print(var_dic_list())"
    },
    "r": {
     "delete_cmd_postfix": ") ",
     "delete_cmd_prefix": "rm(",
     "library": "var_list.r",
     "varRefreshCmd": "cat(var_dic_list()) "
    }
   },
   "types_to_exclude": [
    "module",
    "function",
    "builtin_function_or_method",
    "instance",
    "_Feature"
   ],
   "window_display": false
  }
 },
 "nbformat": 4,
 "nbformat_minor": 2
}
